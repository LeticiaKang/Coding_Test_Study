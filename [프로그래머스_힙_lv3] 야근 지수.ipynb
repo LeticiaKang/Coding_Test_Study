{
 "cells": [
  {
   "cell_type": "markdown",
   "metadata": {},
   "source": [
    "### 문제이름\n",
    "야근 지수\n",
    "\n",
    "### 링크\n",
    "https://school.programmers.co.kr/learn/courses/30/lessons/12927\n",
    "\n",
    "### 예시 코드\n",
    "works\t|n\t|result\n",
    "|---|---|---|\t\n",
    "[4, 3, 3]\t|4|\t12\n",
    "[2, 1, 2]\t|1|\t6\n",
    "[1,1]\t|3\t|0|"
   ]
  },
  {
   "cell_type": "code",
   "execution_count": null,
   "metadata": {},
   "outputs": [],
   "source": [
    "import heapq\n",
    "def solution(n, works):\n",
    "    answer = 0\n",
    "    # 최대 힙을 만든다\n",
    "    max_heap = []\n",
    "    for work in works:\n",
    "        heapq.heappush(max_heap, -work)\n",
    "    # 주어진 n만큼 for문을 돌려, 최상위 노드를 제거하고, -1해서 추가한다.\n",
    "    for _ in range(n):\n",
    "        top_node = heapq.heappop(max_heap)\n",
    "        # 만약 최상위 노드가 0이라면, 0을 return한다.\n",
    "        if top_node == 0:\n",
    "            return 0\n",
    "        else:\n",
    "            heapq.heappush(max_heap, top_node+1) # 음수이기 때문에 +1을 해줘야 함\n",
    "    # 정상적으로 for문이 끝나면 각 수를 제곱하고 더해서 return한다.\n",
    "    for node in max_heap:\n",
    "        answer += node**2  # 제곱하면 양수이든 음수이든 상관없음\n",
    "    return answer"
   ]
  },
  {
   "cell_type": "code",
   "execution_count": null,
   "metadata": {},
   "outputs": [],
   "source": [
    "import heapq\n",
    "def solution(n, works):\n",
    "    answer = 0\n",
    "    if len(works) == 1:\n",
    "        answer = (works[0]-n)\n",
    "        if answer < 0:\n",
    "            return 0\n",
    "    else:\n",
    "        # 리스트 음수로 변경\n",
    "        works = list(map(lambda x: -x, works))\n",
    "        # 최대힙 만들기(음수를 양수로 바꿔서 생각하면 최대힙임)\n",
    "        heapq.heapify(works)\n",
    "        # 작업량만큼 평균치로 맞춰주기(제일 큰 수를 하나씩 빼서 다시 추가하기)\n",
    "        for _ in range(n):\n",
    "            temp = heapq.heappop(works) \n",
    "            temp += 1\n",
    "            if temp > 0:\n",
    "                temp = 0\n",
    "            heapq.heappush(works, temp)\n",
    "        # 제곱해서 더하기\n",
    "        for work in works:\n",
    "            answer += work**2\n",
    "    \n",
    "    return answer\n"
   ]
  }
 ],
 "metadata": {
  "kernelspec": {
   "display_name": "base",
   "language": "python",
   "name": "base"
  },
  "language_info": {
   "codemirror_mode": {
    "name": "ipython",
    "version": 3
   },
   "file_extension": ".py",
   "mimetype": "text/x-python",
   "name": "python",
   "nbconvert_exporter": "python",
   "pygments_lexer": "ipython3",
   "version": "3.11.3"
  }
 },
 "nbformat": 4,
 "nbformat_minor": 2
}
