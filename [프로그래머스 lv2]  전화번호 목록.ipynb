{
 "cells": [
  {
   "cell_type": "markdown",
   "metadata": {},
   "source": [
    "### 문제이름\n",
    "전화번호 목록\n",
    "\n",
    "### 링크\n",
    "https://school.programmers.co.kr/learn/courses/30/lessons/42577\n",
    "\n",
    "### 예시 코드\n",
    "|input|result|\n",
    "|------|---|\n",
    "|[\"119\", \"97674223\", \"1195524421\"]|\tfalse|\n",
    "[\"123\",\"456\",\"789\"]|\ttrue|"
   ]
  },
  {
   "cell_type": "code",
   "execution_count": 1,
   "metadata": {},
   "outputs": [],
   "source": [
    "def solution(phone_book):\n",
    "    answer = True\n",
    "    phone_book.sort()\n",
    "    start = \"x\"\n",
    "    for phone in phone_book:\n",
    "        if phone.startswith(start):\n",
    "            answer = False\n",
    "        else:\n",
    "            start = phone\n",
    "    return answer"
   ]
  }
 ],
 "metadata": {
  "kernelspec": {
   "display_name": "base",
   "language": "python",
   "name": "python3"
  },
  "language_info": {
   "codemirror_mode": {
    "name": "ipython",
    "version": 3
   },
   "file_extension": ".py",
   "mimetype": "text/x-python",
   "name": "python",
   "nbconvert_exporter": "python",
   "pygments_lexer": "ipython3",
   "version": "3.11.3"
  }
 },
 "nbformat": 4,
 "nbformat_minor": 2
}
