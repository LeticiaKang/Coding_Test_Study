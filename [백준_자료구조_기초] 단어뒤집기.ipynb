{
 "cells": [
  {
   "cell_type": "markdown",
   "metadata": {},
   "source": [
    "\n",
    "### 문제이름\n",
    "단어 뒤집기 2\n",
    "\n",
    "### 링크\n",
    "https://www.acmicpc.net/problem/17413\n",
    "\n",
    "### 예시 코드\n",
    "생략\n"
   ]
  },
  {
   "cell_type": "code",
   "execution_count": 19,
   "metadata": {},
   "outputs": [],
   "source": [
    "sen = input()\n",
    "sen = sen.replace(\"<\", \".<\").replace(\">\", \">.\").split(\".\") #나누기 위해 . 추가\n",
    "result = \"\"\n",
    "\n",
    "for s in sen:\n",
    "    if len(s) != 0:\n",
    "        if s[0] == \"<\":\n",
    "            result += s\n",
    "        else:\n",
    "            temp = []\n",
    "            for word in s.split():\n",
    "                temp.append(word[::-1])\n",
    "            result += \" \".join(temp)\n",
    "    \n",
    "print(result)     "
   ]
  },
  {
   "cell_type": "code",
   "execution_count": null,
   "metadata": {},
   "outputs": [],
   "source": []
  }
 ],
 "metadata": {
  "kernelspec": {
   "display_name": "base",
   "language": "python",
   "name": "python3"
  },
  "language_info": {
   "codemirror_mode": {
    "name": "ipython",
    "version": 3
   },
   "file_extension": ".py",
   "mimetype": "text/x-python",
   "name": "python",
   "nbconvert_exporter": "python",
   "pygments_lexer": "ipython3",
   "version": "3.10.9"
  }
 },
 "nbformat": 4,
 "nbformat_minor": 2
}
