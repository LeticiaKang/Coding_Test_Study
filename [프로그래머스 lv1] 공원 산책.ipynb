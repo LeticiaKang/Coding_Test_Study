{
 "cells": [
  {
   "cell_type": "markdown",
   "metadata": {},
   "source": [
    "### 문제이름\n",
    "공원 산책\n",
    "### 링크\n",
    "https://school.programmers.co.kr/learn/courses/30/lessons/172928\n",
    "### 예시 코드\n",
    "|park|routes|result|\n",
    "|------|---|---|\n",
    "|[\"SOO\",\"OOO\",\"OOO\"]|[\"E 2\",\"S 2\",\"W 1\"]|[2,1]|\n",
    "|[\"SOO\",\"OXX\",\"OOO\"]|[\"E 2\",\"S 2\",\"W 1\"]|[0,1]|\n",
    "|[\"OSO\",\"OOO\",\"OXO\",\"OOO\"]|[\"E 2\",\"S 3\",\"W 1\"]|[0,0]|"
   ]
  },
  {
   "cell_type": "code",
   "execution_count": 58,
   "metadata": {},
   "outputs": [],
   "source": [
    "examples = [[[\"SOO\",\"OOO\",\"OOO\"],[\"E 2\",\"S 2\",\"W 1\"],[2,1]],\n",
    "            [[\"SOO\",\"OXX\",\"OOO\"],[\"E 2\",\"S 2\",\"W 1\"],[0,1]],\n",
    "            [[\"OSO\",\"OOO\",\"OXO\",\"OOO\"],[\"E 2\",\"S 3\",\"W 1\"],[0,0]]]\n",
    "\n"
   ]
  },
  {
   "cell_type": "markdown",
   "metadata": {},
   "source": [
    "### 처음 푼 코드(16/20 통과)"
   ]
  },
  {
   "cell_type": "code",
   "execution_count": 59,
   "metadata": {},
   "outputs": [],
   "source": [
    "# park : 공원을 나타내는 문자열 배열(3,50) [(S|O|X)]\n",
    "# routes : 로봇 강아지가 수행할 명령이 담긴 문자열 배열\n",
    "# op n / op : N,S,W,E 방향 / n : 이동할 칸의 수\n",
    "# 특징\n",
    "# W, E : 내가 속해있는 문자열에서 장애물과 길이만 확인\n",
    "# S, N : 1) park의 모든 원소의 같은 자리 인덱스를 확인 / 2) 장애물 여부, 길이 확인\n",
    "# 이동후 좌표 반환 방법\n",
    "# W, E : (x,y) -> (x, y+E-W)\n",
    "# S, N : (x, y) -> (x+S-N, y)\n",
    "\n",
    "def solution(park, routes):\n",
    "    answer = []\n",
    "    # 시작 위치 찾기\n",
    "    for n in range(len(park)):\n",
    "        if 'S' in park[n]:\n",
    "            answer = [n, park[n].index(\"S\")]\n",
    "            \n",
    "    # 이동하기\n",
    "    for route in routes:\n",
    "        direction, move = route.split()\n",
    "        move = int(move)\n",
    "        \n",
    "        \n",
    "        if direction in ['E', 'W']:\n",
    "            pos = answer[1]\n",
    "            here = park[answer[0]]\n",
    "            if direction == 'E':\n",
    "                if (pos + move) > (len(park[0])-1):\n",
    "                    continue\n",
    "                if 'X' in here[pos : pos+move]:\n",
    "                    continue\n",
    "                answer[1] += move\n",
    "            else:\n",
    "                if (pos - move) < 0:\n",
    "                    continue\n",
    "                if 'X' in here[pos-move : pos]:\n",
    "                    continue\n",
    "                answer[1] -= move\n",
    "\n",
    "        else:\n",
    "            road = ''.join([ p[answer[1]]  for p in park ])\n",
    "            pos = answer[0]\n",
    "            if direction == 'S':\n",
    "                if (pos + move) > (len(road)-1):\n",
    "                    continue\n",
    "                if 'X' in road[pos : pos+move]:\n",
    "                    continue\n",
    "                answer[0] += move\n",
    "            else:\n",
    "                if (answer[0] - move) < 0:\n",
    "                    continue\n",
    "                if 'X' in road[pos-move : pos]:\n",
    "                    continue\n",
    "                answer[0] -= move \n",
    "            \n",
    "            \n",
    "            \n",
    "    return answer"
   ]
  },
  {
   "cell_type": "markdown",
   "metadata": {},
   "source": [
    "### 실행 결과 비교"
   ]
  },
  {
   "cell_type": "code",
   "execution_count": 60,
   "metadata": {},
   "outputs": [
    {
     "name": "stdout",
     "output_type": "stream",
     "text": [
      "원래 정답 : [2, 1]\n",
      "실행 결과 : [2, 1]\n",
      "----------------------------------------------------\n",
      "원래 정답 : [0, 1]\n",
      "실행 결과 : [0, 1]\n",
      "----------------------------------------------------\n",
      "원래 정답 : [0, 0]\n",
      "실행 결과 : [0, 0]\n",
      "----------------------------------------------------\n"
     ]
    }
   ],
   "source": [
    "for ex in examples:\n",
    "    park = ex[0]\n",
    "    routes = ex[1]\n",
    "    result = solution(park, routes)\n",
    "    print(f'원래 정답 : {ex[2]}\\n실행 결과 : {result}')\n",
    "    print('----------------------------------------------------')"
   ]
  },
  {
   "cell_type": "markdown",
   "metadata": {},
   "source": [
    "## 수정코드(성공)"
   ]
  },
  {
   "cell_type": "code",
   "execution_count": 61,
   "metadata": {},
   "outputs": [],
   "source": [
    "# park : 공원을 나타내는 문자열 배열(3,50) [(S|O|X)]\n",
    "# routes : 로봇 강아지가 수행할 명령이 담긴 문자열 배열\n",
    "# op n / op : N,S,W,E 방향 / n : 이동할 칸의 수\n",
    "# 특징\n",
    "# W, E : 내가 속해있는 문자열에서 장애물과 길이만 확인\n",
    "# S, N : 1) park의 모든 원소의 같은 자리 인덱스를 확인 / 2) 장애물 여부, 길이 확인\n",
    "# 이동후 좌표 반환 방법\n",
    "# W, E : (x,y) -> (x, y+E-W)\n",
    "# S, N : (x, y) -> (x+S-N, y)\n",
    "\n",
    "def solution(park, routes):\n",
    "    answer = []\n",
    "    # 시작 위치 찾기\n",
    "    for n in range(len(park)):\n",
    "        if 'S' in park[n]:\n",
    "            answer = [n, park[n].index(\"S\")]\n",
    "            break\n",
    "            \n",
    "    # 이동하기\n",
    "    for route in routes:\n",
    "        direction, move = route.split()\n",
    "        move = int(move)\n",
    "        \n",
    "\n",
    "        if direction == 'E':\n",
    "            loc = answer[1] + move\n",
    "            if (loc) >= len(park[0]):\n",
    "                continue\n",
    "            if 'X' in park[answer[0]][answer[1]+1: loc+1]:\n",
    "                continue\n",
    "            answer[1] = loc\n",
    "            \n",
    "        elif direction == 'W':\n",
    "            loc = answer[1] - move\n",
    "            if (loc) < 0:\n",
    "                continue\n",
    "            if 'X' in park[answer[0]][loc : answer[1]]:\n",
    "                continue\n",
    "            answer[1] = loc\n",
    "\n",
    "        elif direction == 'S':\n",
    "            loc = answer[0] + move\n",
    "            if (loc) >= len(park):\n",
    "                continue\n",
    "            if 'X' in [park[i][answer[1]] for i in range(answer[0]+1,loc+1)]:\n",
    "                continue\n",
    "            answer[0] = loc\n",
    "            \n",
    "        else:\n",
    "            loc = answer[0] - move\n",
    "            if (loc) < 0:\n",
    "                continue\n",
    "            if 'X' in [park[i][answer[1]] for i in range(loc,answer[0])]:\n",
    "                continue\n",
    "            answer[0] = loc \n",
    "            \n",
    "            \n",
    "            \n",
    "    return answer"
   ]
  },
  {
   "cell_type": "markdown",
   "metadata": {},
   "source": [
    "### 실행 결과 비교"
   ]
  },
  {
   "cell_type": "code",
   "execution_count": 62,
   "metadata": {},
   "outputs": [
    {
     "name": "stdout",
     "output_type": "stream",
     "text": [
      "원래 정답 : [2, 1]\n",
      "실행 결과 : [2, 1]\n",
      "----------------------------------------------------\n",
      "원래 정답 : [0, 1]\n",
      "실행 결과 : [0, 1]\n",
      "----------------------------------------------------\n",
      "원래 정답 : [0, 0]\n",
      "실행 결과 : [0, 0]\n",
      "----------------------------------------------------\n"
     ]
    }
   ],
   "source": [
    "for ex in examples:\n",
    "    park = ex[0]\n",
    "    routes = ex[1]\n",
    "    result = solution(park, routes)\n",
    "    print(f'원래 정답 : {ex[2]}\\n실행 결과 : {result}')\n",
    "    print('----------------------------------------------------')"
   ]
  },
  {
   "cell_type": "code",
   "execution_count": 63,
   "metadata": {},
   "outputs": [],
   "source": [
    "# park : 공원을 나타내는 문자열 배열(3,50) [(S|O|X)]\n",
    "# routes : 로봇 강아지가 수행할 명령이 담긴 문자열 배열\n",
    "# op n / op : N,S,W,E 방향 / n : 이동할 칸의 수\n",
    "# 특징\n",
    "# W, E : 내가 속해있는 문자열에서 장애물과 길이만 확인\n",
    "# S, N : 1) park의 모든 원소의 같은 자리 인덱스를 확인 / 2) 장애물 여부, 길이 확인\n",
    "# 이동후 좌표 반환 방법\n",
    "# W, E : (x,y) -> (x, y+E-W)\n",
    "# S, N : (x, y) -> (x+S-N, y)\n",
    "\n",
    "def solution(park, routes):\n",
    "    answer = []\n",
    "    # 시작 위치 찾기\n",
    "    for n in range(len(park)):\n",
    "        if 'S' in park[n]:\n",
    "            answer = [n, park[n].index(\"S\")]\n",
    "            break\n",
    "            \n",
    "    # 이동하기\n",
    "    for route in routes:\n",
    "        direction, move = route.split()\n",
    "        move = int(move)\n",
    "        \n",
    "\n",
    "        if direction == 'E':\n",
    "            loc = answer[1] + move\n",
    "            if (loc) >= len(park[0]):\n",
    "                continue\n",
    "            if 'X' in park[answer[0]][answer[1]+1: loc+1]:\n",
    "                continue\n",
    "            answer[1] = loc\n",
    "            \n",
    "        elif direction == 'W':\n",
    "            loc = answer[1] - move\n",
    "            if (loc) < 0:\n",
    "                continue\n",
    "            if 'X' in park[answer[0]][loc : answer[1]]:\n",
    "                continue\n",
    "            answer[1] = loc\n",
    "        \n",
    "        elif direction == 'S':\n",
    "            road = ''.join([ p[answer[1]]  for p in park ])\n",
    "            loc = answer[0] + move\n",
    "            if (loc) >= len(road):\n",
    "                continue\n",
    "            if 'X' in road[answer[0] : loc+1]:\n",
    "                continue\n",
    "            answer[0] = loc\n",
    "            \n",
    "        else:\n",
    "            road = ''.join([ p[answer[1]]  for p in park ])\n",
    "            loc = answer[0] - move\n",
    "            if (loc) < 0:\n",
    "                continue\n",
    "            if 'X' in road[loc : answer[0]+1]:\n",
    "                continue\n",
    "            answer[0] = loc \n",
    "            \n",
    "            \n",
    "            \n",
    "    return answer"
   ]
  },
  {
   "cell_type": "markdown",
   "metadata": {},
   "source": [
    "### 실행 결과 비교"
   ]
  },
  {
   "cell_type": "code",
   "execution_count": 64,
   "metadata": {},
   "outputs": [
    {
     "name": "stdout",
     "output_type": "stream",
     "text": [
      "원래 정답 : [2, 1]\n",
      "실행 결과 : [2, 1]\n",
      "----------------------------------------------------\n",
      "원래 정답 : [0, 1]\n",
      "실행 결과 : [0, 1]\n",
      "----------------------------------------------------\n",
      "원래 정답 : [0, 0]\n",
      "실행 결과 : [0, 0]\n",
      "----------------------------------------------------\n"
     ]
    }
   ],
   "source": [
    "for ex in examples:\n",
    "    park = ex[0]\n",
    "    routes = ex[1]\n",
    "    result = solution(park, routes)\n",
    "    print(f'원래 정답 : {ex[2]}\\n실행 결과 : {result}')\n",
    "    print('----------------------------------------------------')"
   ]
  }
 ],
 "metadata": {
  "kernelspec": {
   "display_name": "base",
   "language": "python",
   "name": "python3"
  },
  "language_info": {
   "codemirror_mode": {
    "name": "ipython",
    "version": 3
   },
   "file_extension": ".py",
   "mimetype": "text/x-python",
   "name": "python",
   "nbconvert_exporter": "python",
   "pygments_lexer": "ipython3",
   "version": "3.10.9"
  }
 },
 "nbformat": 4,
 "nbformat_minor": 2
}
