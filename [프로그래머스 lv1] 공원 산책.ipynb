{
 "cells": [
  {
   "cell_type": "markdown",
   "metadata": {},
   "source": [
    "### 문제이름\n",
    "공원 산책\n",
    "### 링크\n",
    "https://school.programmers.co.kr/learn/courses/30/lessons/172928\n",
    "### 예시 코드\n",
    "|park|routes|result|\n",
    "|------|---|---|\n",
    "|[\"SOO\",\"OOO\",\"OOO\"]|[\"E 2\",\"S 2\",\"W 1\"]|[2,1]|\n",
    "|[\"SOO\",\"OXX\",\"OOO\"]|[\"E 2\",\"S 2\",\"W 1\"]|[0,1]|\n",
    "|[\"OSO\",\"OOO\",\"OXO\",\"OOO\"]|[\"E 2\",\"S 3\",\"W 1\"]|[0,0]|"
   ]
  },
  {
   "cell_type": "code",
   "execution_count": 54,
   "metadata": {},
   "outputs": [],
   "source": [
    "examples = [[[\"SOO\",\"OOO\",\"OOO\"],[\"E 2\",\"S 2\",\"W 1\"],[2,1]],\n",
    "            [[\"SOO\",\"OXX\",\"OOO\"],[\"E 2\",\"S 2\",\"W 1\"],[0,1]],\n",
    "            [[\"OSO\",\"OOO\",\"OXO\",\"OOO\"],[\"E 2\",\"S 3\",\"W 1\"],[0,0]]]\n",
    "\n"
   ]
  },
  {
   "cell_type": "code",
   "execution_count": 55,
   "metadata": {},
   "outputs": [],
   "source": [
    "# park : 공원을 나타내는 문자열 배열(3,50) [(S|O|X)]\n",
    "# routes : 로봇 강아지가 수행할 명령이 담긴 문자열 배열\n",
    "# op n / op : N,S,W,E 방향 / n : 이동할 칸의 수\n",
    "# 특징\n",
    "# W, E : 내가 속해있는 문자열에서 장애물과 길이만 확인\n",
    "# S, N : 1) park의 모든 원소의 같은 자리 인덱스를 확인 / 2) 장애물 여부, 길이 확인\n",
    "# 이동후 좌표 반환 방법\n",
    "# W, E : (x,y) -> (x, y+E-W)\n",
    "# S, N : (x, y) -> (x+S-N, y)\n",
    "\n",
    "def solution(park, routes):\n",
    "    answer = []\n",
    "    # 시작 위치 찾기\n",
    "    for n in range(len(park)):\n",
    "        if 'S' in park[n]:\n",
    "            answer = [n, park[n].index(\"S\")]\n",
    "            \n",
    "    # 이동하기\n",
    "    for route in routes:\n",
    "        direction, move = route.split()\n",
    "        move = int(move)\n",
    "        \n",
    "        \n",
    "        if direction in ['E', 'W']:\n",
    "            pos = answer[1]\n",
    "            here = park[answer[0]]\n",
    "            if direction == 'E':\n",
    "                if (pos + move) > (len(park[0])-1):\n",
    "                    continue\n",
    "                if 'X' in here[pos : pos+move]:\n",
    "                    continue\n",
    "                answer[1] += move\n",
    "            else:\n",
    "                if (pos - move) < 0:\n",
    "                    continue\n",
    "                if 'X' in here[pos-move : pos]:\n",
    "                    continue\n",
    "                answer[1] -= move\n",
    "\n",
    "        else:\n",
    "            road = ''.join([ p[answer[1]]  for p in park ])\n",
    "            pos = answer[0]\n",
    "            if direction == 'S':\n",
    "                if (pos + move) > (len(road)-1):\n",
    "                    continue\n",
    "                if 'X' in road[pos : pos+move]:\n",
    "                    continue\n",
    "                answer[0] += move\n",
    "            else:\n",
    "                if (answer[0] - move) < 0:\n",
    "                    continue\n",
    "                if 'X' in road[pos-move : pos]:\n",
    "                    continue\n",
    "                answer[0] -= move \n",
    "            \n",
    "            \n",
    "            \n",
    "    return answer"
   ]
  },
  {
   "cell_type": "markdown",
   "metadata": {},
   "source": [
    "### 실행 결과 비교"
   ]
  },
  {
   "cell_type": "code",
   "execution_count": 57,
   "metadata": {},
   "outputs": [
    {
     "name": "stdout",
     "output_type": "stream",
     "text": [
      "원래 정답 : [2, 1]\n",
      "실행 결과 : [2, 1]\n",
      "----------------------------------------------------\n",
      "원래 정답 : [0, 1]\n",
      "실행 결과 : [0, 1]\n",
      "----------------------------------------------------\n",
      "원래 정답 : [0, 0]\n",
      "실행 결과 : [0, 0]\n",
      "----------------------------------------------------\n"
     ]
    }
   ],
   "source": [
    "for ex in examples:\n",
    "    park = ex[0]\n",
    "    routes = ex[1]\n",
    "    result = solution(park, routes)\n",
    "    print(f'원래 정답 : {ex[2]}\\n실행 결과 : {result}')\n",
    "    print('----------------------------------------------------')"
   ]
  },
  {
   "cell_type": "markdown",
   "metadata": {},
   "source": [
    "## 수정코드\n",
    "- 리스트의 인덱싱을 사용해도 된다. 딕셔너리 사용할 필요가 없었네\n",
    "- k=0인 경우를 따로 나눌 필요가 없다, 어차피 n+k = n 이 되니까"
   ]
  },
  {
   "cell_type": "code",
   "execution_count": null,
   "metadata": {},
   "outputs": [],
   "source": [
    "def solution(lottos, win_nums):\n",
    "    # lottos에서 win_nums에 들어있는 숫자 n개라고 하고 n를 제외하고\n",
    "    # 나머지 숫자의 개수 중 안보이는 숫자를 k개라고 하면\n",
    "    # n+k에서 k가 0인 경우 -> 최저 순위\n",
    "    # n+k에서 k가 k인 경우 -> 최고 순위\n",
    "    rank = [6,6,5,4,3,2,1]\n",
    "    n = 0\n",
    "    k = lottos.count(0) # 알 수 없는 번호의 개수 세기\n",
    "    \n",
    "    # lottos에 들어있는 번호 중 당첨번호가 몇 개인지 세기 \n",
    "    for num in lottos:\n",
    "        if num in win_nums:\n",
    "            n += 1\n",
    "    \n",
    "    return [ rank[n+k], rank[n] ]"
   ]
  },
  {
   "cell_type": "code",
   "execution_count": 14,
   "metadata": {},
   "outputs": [
    {
     "data": {
      "text/plain": [
       "[2, 1]"
      ]
     },
     "execution_count": 14,
     "metadata": {},
     "output_type": "execute_result"
    }
   ],
   "source": [
    "def solution(park, routes):\n",
    "    answer = []\n",
    "    # 시작 위치 찾기\n",
    "    for n in range(len(park)):\n",
    "        if 'S' in park[n]:\n",
    "            answer = [n, park[n].index(\"S\")]\n",
    "    # 이동하기\n",
    "    for route in routes:\n",
    "        direction, move = route.split()\n",
    "        move = int(move)\n",
    "        \n",
    "        if direction == 'E':\n",
    "            answer[1] += move\n",
    "        elif direction == 'W':\n",
    "            answer[1] -= move\n",
    "        elif direction == 'S':\n",
    "            answer[0] += move\n",
    "        else:\n",
    "            answer[0] -= move    \n",
    "    return answer"
   ]
  },
  {
   "cell_type": "code",
   "execution_count": 25,
   "metadata": {},
   "outputs": [
    {
     "name": "stdout",
     "output_type": "stream",
     "text": [
      "1\n",
      "2\n",
      "3\n",
      "4\n",
      "5\n",
      "6\n"
     ]
    },
    {
     "data": {
      "text/plain": [
       "'OOXS'"
      ]
     },
     "execution_count": 25,
     "metadata": {},
     "output_type": "execute_result"
    }
   ],
   "source": [
    "park = [\"OOO\",\"OOO\",\"OXO\",\"OSO\"]\n",
    "answer = []\n",
    "# 시작 위치 찾기\n",
    "for n in range(len(park)):\n",
    "    if 'S' in park[n]:\n",
    "        answer = [n, park[n].index(\"S\")]\n",
    "answer\n",
    "\n",
    "\n",
    "for a in [1,2,3,4,5,6]:\n",
    "    if a==4:\n",
    "        pass\n",
    "    print(a)\n",
    "\n",
    "road = [p[1] for p in park]\n",
    "road = ''.join(road)"
   ]
  },
  {
   "cell_type": "code",
   "execution_count": 46,
   "metadata": {},
   "outputs": [],
   "source": [
    "def move(answer, park, routes):\n",
    "    # 이동하기\n",
    "    for route in routes:\n",
    "        print(route)\n",
    "        direction, move = route.split()\n",
    "        move = int(move)\n",
    "\n",
    "        if direction == 'E':\n",
    "            # 길이 확인\n",
    "            if (answer[1] + move) > (len(park[0])-1):\n",
    "                continue\n",
    "            answer[1] += move\n",
    "        elif direction == 'W':\n",
    "            # 길이 확인\n",
    "            print('W :', answer)\n",
    "            if (answer[1] - move) < 0:\n",
    "                continue\n",
    "            print(\"W 통과\")\n",
    "            answer[1] -= move\n",
    "        elif direction == 'S':\n",
    "            road = ''.join([ p[answer[1]]  for p in park ])\n",
    "            if (answer[0] + move) > (len(road)-1):\n",
    "                continue\n",
    "            answer[0] += move\n",
    "        else:\n",
    "            road = ''.join([ p[answer[1]]  for p in park])\n",
    "            if (answer[0] - move) < 0:\n",
    "                continue\n",
    "            answer[0] -= move     \n",
    "        print(\"마지막\", direction, move, answer)       \n",
    "        return answer\n",
    "    \n",
    "    \n",
    "\n",
    "def solution(park, routes):\n",
    "    answer = []\n",
    "    # 시작 위치 찾기\n",
    "    for n in range(len(park)):\n",
    "        if 'S' in park[n]:\n",
    "            answer = [n, park[n].index(\"S\")]\n",
    "            \n",
    "    answer = move(answer, park, routes)\n",
    "    \n",
    "    return answer"
   ]
  },
  {
   "cell_type": "code",
   "execution_count": 51,
   "metadata": {},
   "outputs": [
    {
     "name": "stdout",
     "output_type": "stream",
     "text": [
      "E 2\n",
      "마지막 E 2 [0, 2]\n",
      "S 2\n",
      "마지막 S 2 [2, 2]\n",
      "W 1\n",
      "W : [2, 2]\n",
      "W 통과\n",
      "마지막 W 1 [2, 1]\n"
     ]
    },
    {
     "data": {
      "text/plain": [
       "[2, 1]"
      ]
     },
     "execution_count": 51,
     "metadata": {},
     "output_type": "execute_result"
    }
   ],
   "source": [
    "def solution(park, routes):\n",
    "    answer = []\n",
    "    # 시작 위치 찾기\n",
    "    for n in range(len(park)):\n",
    "        if 'S' in park[n]:\n",
    "            answer = [n, park[n].index(\"S\")]\n",
    "            \n",
    "    \n",
    "    \n",
    "    # 이동하기\n",
    "    for route in routes:\n",
    "        direction, move = route.split()\n",
    "        move = int(move)\n",
    "        \n",
    "        if direction == 'E':\n",
    "            pos = answer[1]\n",
    "            # 길이 확인\n",
    "            if (pos + move) > (len(park[0])-1):\n",
    "                continue\n",
    "            if 'X' in park[answer[0]][pos : pos+move]:\n",
    "                continue\n",
    "            answer[1] += move\n",
    "        elif direction == 'W':\n",
    "            pos = answer[1]\n",
    "            # 길이 확인\n",
    "            if (pos - move) < 0:\n",
    "                continue\n",
    "            if 'X' in park[answer[0]][pos-move : pos]:\n",
    "                continue\n",
    "            answer[1] -= move\n",
    "        elif direction == 'S':\n",
    "            road = ''.join([ p[answer[1]]  for p in park ])\n",
    "            pos = answer[0]\n",
    "            if (pos + move) > (len(road)-1):\n",
    "                continue\n",
    "            if 'X' in road[pos : pos+move]:\n",
    "                continue\n",
    "            answer[0] += move\n",
    "        else:\n",
    "            road = ''.join([ p[answer[1]]  for p in park])\n",
    "            pos = answer[0]\n",
    "            if (answer[0] - move) < 0:\n",
    "                continue\n",
    "            if 'X' in road[pos-move : pos]:\n",
    "                continue\n",
    "            answer[0] -= move \n",
    "            \n",
    "            \n",
    "            \n",
    "    return answer"
   ]
  },
  {
   "cell_type": "code",
   "execution_count": 52,
   "metadata": {},
   "outputs": [],
   "source": [
    "def solution(park, routes):\n",
    "    answer = []\n",
    "    # 시작 위치 찾기\n",
    "    for n in range(len(park)):\n",
    "        if 'S' in park[n]:\n",
    "            answer = [n, park[n].index(\"S\")]\n",
    "            \n",
    "    # 이동하기\n",
    "    for route in routes:\n",
    "        direction, move = route.split()\n",
    "        move = int(move)\n",
    "        \n",
    "        \n",
    "        if direction in ['E', 'W']:\n",
    "            pos = answer[1]\n",
    "            here = park[answer[0]]\n",
    "            if direction == 'E':\n",
    "                if (pos + move) > (len(park[0])-1):\n",
    "                    continue\n",
    "                if 'X' in here[pos : pos+move]:\n",
    "                    continue\n",
    "                answer[1] += move\n",
    "            else:\n",
    "                if (pos - move) < 0:\n",
    "                    continue\n",
    "                if 'X' in here[pos-move : pos]:\n",
    "                    continue\n",
    "                answer[1] -= move\n",
    "\n",
    "        else:\n",
    "            road = ''.join([ p[answer[1]]  for p in park ])\n",
    "            pos = answer[0]\n",
    "            if direction == 'S':\n",
    "                if (pos + move) > (len(road)-1):\n",
    "                    continue\n",
    "                if 'X' in road[pos : pos+move]:\n",
    "                    continue\n",
    "                answer[0] += move\n",
    "            else:\n",
    "                if (answer[0] - move) < 0:\n",
    "                    continue\n",
    "                if 'X' in road[pos-move : pos]:\n",
    "                    continue\n",
    "                answer[0] -= move \n",
    "            \n",
    "            \n",
    "            \n",
    "    return answer"
   ]
  },
  {
   "cell_type": "code",
   "execution_count": 53,
   "metadata": {},
   "outputs": [
    {
     "ename": "UnboundLocalError",
     "evalue": "local variable 'move' referenced before assignment",
     "output_type": "error",
     "traceback": [
      "\u001b[1;31m---------------------------------------------------------------------------\u001b[0m",
      "\u001b[1;31mUnboundLocalError\u001b[0m                         Traceback (most recent call last)",
      "\u001b[1;32mc:\\Github\\Coding_Test_Study\\[프로그래머스 lv1] 공원 산책.ipynb 셀 13\u001b[0m line \u001b[0;36m1\n\u001b[1;32m----> <a href='vscode-notebook-cell:/c%3A/Github/Coding_Test_Study/%5B%ED%94%84%EB%A1%9C%EA%B7%B8%EB%9E%98%EB%A8%B8%EC%8A%A4%20lv1%5D%20%EA%B3%B5%EC%9B%90%20%EC%82%B0%EC%B1%85.ipynb#X16sZmlsZQ%3D%3D?line=0'>1</a>\u001b[0m solution([\u001b[39m\"\u001b[39;49m\u001b[39mOSO\u001b[39;49m\u001b[39m\"\u001b[39;49m,\u001b[39m\"\u001b[39;49m\u001b[39mOOO\u001b[39;49m\u001b[39m\"\u001b[39;49m,\u001b[39m\"\u001b[39;49m\u001b[39mOXO\u001b[39;49m\u001b[39m\"\u001b[39;49m,\u001b[39m\"\u001b[39;49m\u001b[39mOOO\u001b[39;49m\u001b[39m\"\u001b[39;49m],[\u001b[39m\"\u001b[39;49m\u001b[39mE 2\u001b[39;49m\u001b[39m\"\u001b[39;49m,\u001b[39m\"\u001b[39;49m\u001b[39mS 3\u001b[39;49m\u001b[39m\"\u001b[39;49m,\u001b[39m\"\u001b[39;49m\u001b[39mW 1\u001b[39;49m\u001b[39m\"\u001b[39;49m])\n\u001b[0;32m      <a href='vscode-notebook-cell:/c%3A/Github/Coding_Test_Study/%5B%ED%94%84%EB%A1%9C%EA%B7%B8%EB%9E%98%EB%A8%B8%EC%8A%A4%20lv1%5D%20%EA%B3%B5%EC%9B%90%20%EC%82%B0%EC%B1%85.ipynb#X16sZmlsZQ%3D%3D?line=1'>2</a>\u001b[0m solution()\n",
      "\u001b[1;32mc:\\Github\\Coding_Test_Study\\[프로그래머스 lv1] 공원 산책.ipynb 셀 13\u001b[0m line \u001b[0;36m8\n\u001b[0;32m      <a href='vscode-notebook-cell:/c%3A/Github/Coding_Test_Study/%5B%ED%94%84%EB%A1%9C%EA%B7%B8%EB%9E%98%EB%A8%B8%EC%8A%A4%20lv1%5D%20%EA%B3%B5%EC%9B%90%20%EC%82%B0%EC%B1%85.ipynb#X16sZmlsZQ%3D%3D?line=4'>5</a>\u001b[0m     \u001b[39mif\u001b[39;00m \u001b[39m'\u001b[39m\u001b[39mS\u001b[39m\u001b[39m'\u001b[39m \u001b[39min\u001b[39;00m park[n]:\n\u001b[0;32m      <a href='vscode-notebook-cell:/c%3A/Github/Coding_Test_Study/%5B%ED%94%84%EB%A1%9C%EA%B7%B8%EB%9E%98%EB%A8%B8%EC%8A%A4%20lv1%5D%20%EA%B3%B5%EC%9B%90%20%EC%82%B0%EC%B1%85.ipynb#X16sZmlsZQ%3D%3D?line=5'>6</a>\u001b[0m         answer \u001b[39m=\u001b[39m [n, park[n]\u001b[39m.\u001b[39mindex(\u001b[39m\"\u001b[39m\u001b[39mS\u001b[39m\u001b[39m\"\u001b[39m)]\n\u001b[1;32m----> <a href='vscode-notebook-cell:/c%3A/Github/Coding_Test_Study/%5B%ED%94%84%EB%A1%9C%EA%B7%B8%EB%9E%98%EB%A8%B8%EC%8A%A4%20lv1%5D%20%EA%B3%B5%EC%9B%90%20%EC%82%B0%EC%B1%85.ipynb#X16sZmlsZQ%3D%3D?line=7'>8</a>\u001b[0m answer \u001b[39m=\u001b[39m move(answer, park, routes)\n\u001b[0;32m     <a href='vscode-notebook-cell:/c%3A/Github/Coding_Test_Study/%5B%ED%94%84%EB%A1%9C%EA%B7%B8%EB%9E%98%EB%A8%B8%EC%8A%A4%20lv1%5D%20%EA%B3%B5%EC%9B%90%20%EC%82%B0%EC%B1%85.ipynb#X16sZmlsZQ%3D%3D?line=10'>11</a>\u001b[0m \u001b[39m# 이동하기\u001b[39;00m\n\u001b[0;32m     <a href='vscode-notebook-cell:/c%3A/Github/Coding_Test_Study/%5B%ED%94%84%EB%A1%9C%EA%B7%B8%EB%9E%98%EB%A8%B8%EC%8A%A4%20lv1%5D%20%EA%B3%B5%EC%9B%90%20%EC%82%B0%EC%B1%85.ipynb#X16sZmlsZQ%3D%3D?line=11'>12</a>\u001b[0m \u001b[39mfor\u001b[39;00m route \u001b[39min\u001b[39;00m routes:\n",
      "\u001b[1;31mUnboundLocalError\u001b[0m: local variable 'move' referenced before assignment"
     ]
    }
   ],
   "source": [
    "solution([\"OSO\",\"OOO\",\"OXO\",\"OOO\"],[\"E 2\",\"S 3\",\"W 1\"])\n",
    "solution()"
   ]
  }
 ],
 "metadata": {
  "kernelspec": {
   "display_name": "base",
   "language": "python",
   "name": "python3"
  },
  "language_info": {
   "codemirror_mode": {
    "name": "ipython",
    "version": 3
   },
   "file_extension": ".py",
   "mimetype": "text/x-python",
   "name": "python",
   "nbconvert_exporter": "python",
   "pygments_lexer": "ipython3",
   "version": "3.10.9"
  }
 },
 "nbformat": 4,
 "nbformat_minor": 2
}
