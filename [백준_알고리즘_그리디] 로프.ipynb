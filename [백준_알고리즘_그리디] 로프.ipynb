{
 "cells": [
  {
   "cell_type": "markdown",
   "metadata": {},
   "source": [
    "### 문제이름\n",
    "로프\n",
    "### 링크\n",
    "https://www.acmicpc.net/problem/2217\n",
    "### 예시 코드\n",
    "|input|result|\n",
    "|------|---|\n",
    "|2\n",
    "10\n",
    "15|20|"
   ]
  },
  {
   "cell_type": "code",
   "execution_count": 13,
   "metadata": {},
   "outputs": [
    {
     "name": "stdout",
     "output_type": "stream",
     "text": [
      "20\n"
     ]
    }
   ],
   "source": [
    "# N개의 로프로 물체를 들어올린다.(들 수 있는 물체의 중량이 다르다)\n",
    "# k개의 로프를 사용해 w중량의 물체를 들어올린다.\n",
    "# 각 로프에 w/k만큼의 중량이 걸린다.\n",
    "# 들어올릴 수 있는 최대 중량을 구해내는 프로그램을 작성.\n",
    "# 모든 로프를 사용할 필요 없고, 임의로 로프를 골라서 사용해도 된다.\n",
    "# 첫째줄 : N, 다음줄에는 각 로프가 버틸 수 있는 최대 중량.(10,000 넘지 않음)\n",
    "\n",
    "n = int(input())\n",
    "ropes = sorted([int(input()) for _ in range(n)], reverse=True)\n",
    "result = ropes[-1]*n #제일 작은 수를 넣었을 때, 최대 중량\n",
    "\n",
    "#제일 작은 수를 하나씩 빼면서 비교하기\n",
    "for x in range(n-1):\n",
    "    ropes.pop()\n",
    "    temp = ropes[-1]*len(ropes)\n",
    "    if temp > result:\n",
    "        result = temp\n",
    "print(result)"
   ]
  },
  {
   "cell_type": "code",
   "execution_count": 2,
   "metadata": {},
   "outputs": [
    {
     "name": "stdout",
     "output_type": "stream",
     "text": [
      "20\n"
     ]
    }
   ],
   "source": [
    "# N개의 로프로 물체를 들어올린다.(들 수 있는 물체의 중량이 다르다)\n",
    "# k개의 로프를 사용해 w중량의 물체를 들어올린다.\n",
    "# 각 로프에 w/k만큼의 중량이 걸린다.\n",
    "# 들어올릴 수 있는 최대 중량을 구해내는 프로그램을 작성.\n",
    "# 모든 로프를 사용할 필요 없고, 임의로 로프를 골라서 사용해도 된다.\n",
    "# 첫째줄 : N, 다음줄에는 각 로프가 버틸 수 있는 최대 중량.(10,000 넘지 않음)\n",
    "\n",
    "n = int(input())\n",
    "ropes = [int(input()) for _ in range(n)]\n",
    "ropes.sort()\n",
    "\n",
    "results = [] \n",
    "\n",
    "for r in ropes:\n",
    "    results.append(r*n)\n",
    "    n-=1\n",
    "print(max(results))"
   ]
  }
 ],
 "metadata": {
  "kernelspec": {
   "display_name": "base",
   "language": "python",
   "name": "python3"
  },
  "language_info": {
   "codemirror_mode": {
    "name": "ipython",
    "version": 3
   },
   "file_extension": ".py",
   "mimetype": "text/x-python",
   "name": "python",
   "nbconvert_exporter": "python",
   "pygments_lexer": "ipython3",
   "version": "3.11.3"
  }
 },
 "nbformat": 4,
 "nbformat_minor": 2
}
