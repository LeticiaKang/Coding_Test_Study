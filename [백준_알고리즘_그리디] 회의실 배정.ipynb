{
 "cells": [
  {
   "cell_type": "markdown",
   "metadata": {},
   "source": [
    "### 문제이름\n",
    "회의실 배정\n",
    "\n",
    "### 링크\n",
    "https://www.acmicpc.net/problem/1931\n",
    "\n",
    "### 예시 코드\n",
    "|input|result|  \n",
    "|------|---|\n",
    "|11<br>1 4<br>3 5<br>0 6<br>5 7<br>3 8<br>5 9<br>6 10<br>8 11<br>8 12<br>2 13<br>12 14|4"
   ]
  },
  {
   "cell_type": "code",
   "execution_count": null,
   "metadata": {},
   "outputs": [],
   "source": [
    "import sys\n",
    "\n",
    "n = int(sys.stdin.readline())\n",
    "times = []\n",
    "\n",
    "for _ in range(n):\n",
    "    s,e = map(int, sys.stdin.readline().split())\n",
    "    times.append([s,e])\n",
    "\n",
    "# 끝나는 시간이 빠른 순서대로 정렬하기\n",
    "times.sort(key = lambda x: [x[1], x[0]])\n",
    "\n",
    "start, end = times[0]\n",
    "cnt = 1\n",
    "for time in times[1:]:\n",
    "    if (time[0] < end):\n",
    "        continue\n",
    "    start, end = time\n",
    "    cnt += 1\n",
    "print(cnt)   "
   ]
  }
 ],
 "metadata": {
  "kernelspec": {
   "display_name": "base",
   "language": "python",
   "name": "python3"
  },
  "language_info": {
   "codemirror_mode": {
    "name": "ipython",
    "version": 3
   },
   "file_extension": ".py",
   "mimetype": "text/x-python",
   "name": "python",
   "nbconvert_exporter": "python",
   "pygments_lexer": "ipython3",
   "version": "3.11.3"
  }
 },
 "nbformat": 4,
 "nbformat_minor": 2
}
