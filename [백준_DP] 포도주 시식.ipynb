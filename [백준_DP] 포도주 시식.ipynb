{
 "cells": [
  {
   "cell_type": "markdown",
   "metadata": {},
   "source": [
    "### 문제이름\n",
    "포도주 시식\n",
    "\n",
    "### 링크\n",
    "https://www.acmicpc.net/problem/2156\n",
    "\n",
    "### 예시 코드\n",
    "|input|result|\n",
    "|------|---|\n",
    "6<br>6<br>10<br>13<br>9<br>8<br>15|33"
   ]
  },
  {
   "cell_type": "code",
   "execution_count": null,
   "metadata": {},
   "outputs": [],
   "source": [
    "import sys\n",
    "input = sys.stdin.readline\n",
    "\n",
    "n = int(input())\n",
    "wines = [0] + [int(input()) for _ in range(n)]\n",
    "dp = [0] * (n+1)\n",
    "\n",
    "dp[1] = wines[1]\n",
    "for x in range(2, n+1):\n",
    "    dp[x] = max(dp[x-1], dp[x-3]+wines[x]+wines[x-1], dp[x-2]+wines[x])\n",
    "\n",
    "print(max(dp[-1], dp[-2]))"
   ]
  }
 ],
 "metadata": {
  "kernelspec": {
   "display_name": "base",
   "language": "python",
   "name": "python3"
  },
  "language_info": {
   "codemirror_mode": {
    "name": "ipython",
    "version": 3
   },
   "file_extension": ".py",
   "mimetype": "text/x-python",
   "name": "python",
   "nbconvert_exporter": "python",
   "pygments_lexer": "ipython3",
   "version": "3.11.3"
  }
 },
 "nbformat": 4,
 "nbformat_minor": 2
}
