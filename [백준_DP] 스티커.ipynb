{
 "cells": [
  {
   "cell_type": "markdown",
   "metadata": {},
   "source": [
    "### 문제이름\n",
    "스티커\n",
    "\n",
    "### 링크\n",
    "https://code.plus/course/41\n",
    "\n",
    "### 예시 코드\n",
    "|input|result|\n",
    "|------|---|\n",
    "2<br>5<br>50 10 100 20 40<br>30 50 70 10 60<br>7<br>10 30 10 50 100 20 40<br>20 40 30 50 60 20 80|260<br>290"
   ]
  },
  {
   "cell_type": "code",
   "execution_count": null,
   "metadata": {},
   "outputs": [],
   "source": [
    "import sys\n",
    "input = sys.stdin.readline\n",
    "\n",
    "T = int(input())\n",
    "for _ in range(T):\n",
    "    n = int(input())\n",
    "    dp = [list(map(int, input().split())) for _ in range(2)]\n",
    "    if n == 1:\n",
    "        print(max(dp[0][n-1], dp[1][n-1]))\n",
    "    else:\n",
    "        dp[0][1] += dp[1][0]\n",
    "        dp[1][1] += dp[0][0]\n",
    "        for i in range(2,n):\n",
    "            dp[0][i] += max(dp[1][i-1], dp[1][i-2])\n",
    "            dp[1][i] += max(dp[0][i-1], dp[0][i-2])\n",
    "        print(max(dp[0][n-1], dp[1][n-1]))"
   ]
  }
 ],
 "metadata": {
  "kernelspec": {
   "display_name": "base",
   "language": "python",
   "name": "base"
  },
  "language_info": {
   "codemirror_mode": {
    "name": "ipython",
    "version": 3
   },
   "file_extension": ".py",
   "mimetype": "text/x-python",
   "name": "python",
   "nbconvert_exporter": "python",
   "pygments_lexer": "ipython3",
   "version": "3.11.3"
  }
 },
 "nbformat": 4,
 "nbformat_minor": 2
}
