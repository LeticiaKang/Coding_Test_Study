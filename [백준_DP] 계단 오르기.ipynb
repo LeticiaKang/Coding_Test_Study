{
 "cells": [
  {
   "cell_type": "markdown",
   "metadata": {},
   "source": [
    "### 문제이름\n",
    "계단 오르기\n",
    "\n",
    "### 링크\n",
    "https://www.acmicpc.net/problem/2579\n",
    "\n",
    "### 예시 코드\n",
    "|input|result|\n",
    "|------|---|\n",
    "6<br>10<br>20<br>15<br>25<br>10<br>20|75"
   ]
  },
  {
   "cell_type": "code",
   "execution_count": null,
   "metadata": {},
   "outputs": [],
   "source": [
    "import sys\n",
    "input = sys.stdin.readline\n",
    "\n",
    "n = int(input())\n",
    "stage = [0] + [int(input()) for _ in range(n)]\n",
    "dp = [0]*(n+1)\n",
    "# 마지막 계단은 무조건 밟음 + (그 전 계단을 밟을 경우, 안 밟을 경우)\n",
    "dp[1] = stage[1]\n",
    "if n >= 2:\n",
    "    dp[2] = stage[1] + stage[2]\n",
    "\n",
    "# 각 계단까지의 최대 점수 계산\n",
    "for i in range(3, n + 1):\n",
    "    dp[i] = max(dp[i - 2], dp[i - 3] + stage[i - 1]) + stage[i]\n",
    "\n",
    "print(dp[n])"
   ]
  },
  {
   "cell_type": "markdown",
   "metadata": {},
   "source": [
    "복습"
   ]
  },
  {
   "cell_type": "code",
   "execution_count": null,
   "metadata": {},
   "outputs": [],
   "source": [
    "import sys\n",
    "input = sys.stdin.readline\n",
    "n = int(input())\n",
    "meetings = [list(map(int, input().split())) for _ in range(n)]\n",
    "# 오름차순 정렬\n",
    "meetings = sorted(meetings, key = lambda x: (x[1], x[0]))\n",
    "s,e = meetings[0]\n",
    "cnt = 1\n",
    "for meeting in meetings[1:]:\n",
    "    if (meeting[0] >= e):\n",
    "        e = meeting[1]\n",
    "        cnt += 1\n",
    "print(cnt)"
   ]
  }
 ],
 "metadata": {
  "kernelspec": {
   "display_name": "base",
   "language": "python",
   "name": "python3"
  },
  "language_info": {
   "codemirror_mode": {
    "name": "ipython",
    "version": 3
   },
   "file_extension": ".py",
   "mimetype": "text/x-python",
   "name": "python",
   "nbconvert_exporter": "python",
   "pygments_lexer": "ipython3",
   "version": "3.11.3"
  }
 },
 "nbformat": 4,
 "nbformat_minor": 2
}
