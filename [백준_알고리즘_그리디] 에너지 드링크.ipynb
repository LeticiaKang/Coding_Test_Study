{
 "cells": [
  {
   "cell_type": "markdown",
   "metadata": {},
   "source": [
    "### 문제이름\n",
    "에너지 드링크\n",
    "### 링크\n",
    "https://www.acmicpc.net/problem/20115\n",
    "### 예시 코드\n",
    "|input|result|input|result|\n",
    "|------|---|------|---|\n",
    "|5|20|10|716.5|\n",
    "|3 2 10 9 6||100 9 77 65 39 27 45 1 80 495||"
   ]
  },
  {
   "cell_type": "code",
   "execution_count": 22,
   "metadata": {},
   "outputs": [
    {
     "name": "stdout",
     "output_type": "stream",
     "text": [
      "[3, 3, 2]\n",
      "8\n"
     ]
    }
   ],
   "source": [
    "#퇴근 1시, 주말은 멀음, 다음날도 정시 출근해야해\n",
    "#에너지 드링크를 합쳐 하나로 만들 예정\n",
    "#임의의 서로 다른 두 음료를 고름\n",
    "#한쪽에 다른쪽에 부음, 야근 후유증으로 절반을 바닥에 흘림\n",
    "#빈 병은 버림\n",
    "#1~3을 하나만 남을 때까지 반복\n",
    "#두 드링크 a,b가 있고, 각각 양이 Xa, Xb일 때,\n",
    "#Xa + (Xb/2) 또는 Xb + (Xa/2) 만 가능\n",
    "#1: n개의 드링크 수, 2: 드링크의 양 -> 최대로 만들 수 있는 양은?\n",
    "n = int(input())\n",
    "drinks = sorted(list(map(int, input().split())))\n",
    "result = drinks[-1]\n",
    "\n",
    "for x in range(n-1):\n",
    "    result += (drinks[x]/2)\n",
    "    \n",
    "print(result)"
   ]
  }
 ],
 "metadata": {
  "kernelspec": {
   "display_name": "base",
   "language": "python",
   "name": "python3"
  },
  "language_info": {
   "codemirror_mode": {
    "name": "ipython",
    "version": 3
   },
   "file_extension": ".py",
   "mimetype": "text/x-python",
   "name": "python",
   "nbconvert_exporter": "python",
   "pygments_lexer": "ipython3",
   "version": "3.11.3"
  }
 },
 "nbformat": 4,
 "nbformat_minor": 2
}
