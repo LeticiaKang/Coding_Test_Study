{
 "cells": [
  {
   "cell_type": "markdown",
   "metadata": {},
   "source": [
    "\n",
    "### 문제이름\n",
    "요세푸스 순열\n",
    "\n",
    "### 링크\n",
    "https://www.acmicpc.net/problem/1158\n",
    "\n",
    "### 예시 코드\n",
    "생략\n"
   ]
  },
  {
   "cell_type": "code",
   "execution_count": 3,
   "metadata": {},
   "outputs": [
    {
     "name": "stdout",
     "output_type": "stream",
     "text": [
      "['a', 'b', 'c', 'd', 'y', 'x']\n"
     ]
    }
   ],
   "source": [
    "n,k = map(int, input().split())\n",
    "josephus = [i for i in range(1, n+1)] #1~7까지 담기\n",
    "result = \"<\"\n",
    "p = 0\n",
    "\n",
    "while len(josephus) > 1:\n",
    "    p = (p + k - 1) % len(josephus) #삭제한 인텍스\n",
    "    result += (str(josephus.pop(p)) + \", \")\n",
    "    \n",
    "result += str(josephus[0]) + \">\"\n",
    "\n",
    "print(result)"
   ]
  }
 ],
 "metadata": {
  "kernelspec": {
   "display_name": "base",
   "language": "python",
   "name": "python3"
  },
  "language_info": {
   "codemirror_mode": {
    "name": "ipython",
    "version": 3
   },
   "file_extension": ".py",
   "mimetype": "text/x-python",
   "name": "python",
   "nbconvert_exporter": "python",
   "pygments_lexer": "ipython3",
   "version": "3.10.9"
  }
 },
 "nbformat": 4,
 "nbformat_minor": 2
}
