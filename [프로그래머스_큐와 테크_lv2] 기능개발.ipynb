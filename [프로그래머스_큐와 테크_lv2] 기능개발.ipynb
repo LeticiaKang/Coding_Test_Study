{
 "cells": [
  {
   "cell_type": "markdown",
   "metadata": {},
   "source": [
    "### 문제이름\n",
    "기능개발\n",
    "\n",
    "### 링크\n",
    "https://school.programmers.co.kr/learn/courses/30/lessons/42586\n",
    "\n",
    "### 예시 코드\n",
    "progresses\t|speeds\t|result\n",
    "|---|---|---|\t\n",
    "[93, 30, 55]\t|[1, 30, 5]\t|[2, 1]\n",
    "[95, 90, 99, 99, 80, 99]|\t[1, 1, 1, 1, 1, 1]\t|[1, 3, 2]"
   ]
  },
  {
   "cell_type": "code",
   "execution_count": 8,
   "metadata": {},
   "outputs": [],
   "source": [
    "from collections import deque\n",
    "\n",
    "def solution(progresses, speeds):\n",
    "    answer = []\n",
    "    progresses = deque(progresses)\n",
    "    speeds = deque(speeds)\n",
    "\n",
    "    while progresses:\n",
    "        for x in range(len(progresses)):\n",
    "            progresses[x] += speeds[x]\n",
    "            \n",
    "        count = 0\n",
    "        while progresses and progresses[0] >= 100:\n",
    "            progresses.popleft()\n",
    "            speeds.popleft()\n",
    "            count += 1\n",
    "        if count > 0:\n",
    "            answer.append(count)\n",
    "            \n",
    "    return answer"
   ]
  },
  {
   "cell_type": "markdown",
   "metadata": {},
   "source": [
    "< 복습 >"
   ]
  },
  {
   "cell_type": "code",
   "execution_count": null,
   "metadata": {},
   "outputs": [],
   "source": [
    "def solution(progresses, speeds):\n",
    "    progresses = [(100-p) for p in progresses] #남은 작업 넣기\n",
    "    times = []\n",
    "    answer = []\n",
    "\n",
    "    for n, p in enumerate(progresses):\n",
    "        times.append(round(p/speeds[n] +0.5))\n",
    "    times = times[::-1]\n",
    "    \n",
    "    cnt = 1\n",
    "    max_value = times.pop()\n",
    "    stack = [max_value]\n",
    "    while True:\n",
    "        stack.append(times.pop())\n",
    "        if stack[-1] > max_value:\n",
    "            answer.append(cnt)\n",
    "            cnt = 0\n",
    "            max_value = stack.pop()\n",
    "            times.append(max_value)\n",
    "        else:\n",
    "            cnt += 1\n",
    "            if len(times) == 0:\n",
    "                answer.append(cnt)\n",
    "                break\n",
    "        \n",
    "    return answer"
   ]
  }
 ],
 "metadata": {
  "kernelspec": {
   "display_name": "base",
   "language": "python",
   "name": "base"
  },
  "language_info": {
   "codemirror_mode": {
    "name": "ipython",
    "version": 3
   },
   "file_extension": ".py",
   "mimetype": "text/x-python",
   "name": "python",
   "nbconvert_exporter": "python",
   "pygments_lexer": "ipython3",
   "version": "3.11.3"
  }
 },
 "nbformat": 4,
 "nbformat_minor": 2
}
