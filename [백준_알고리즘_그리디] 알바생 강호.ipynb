{
 "cells": [
  {
   "cell_type": "markdown",
   "metadata": {},
   "source": [
    "### 문제이름\n",
    "알바생 강호\n",
    "### 링크\n",
    "https://www.acmicpc.net/problem/1758\n",
    "### 예시 코드\n",
    "|input|result|input|result| input|result|input|result|input|result|\n",
    "|------|---|------|---|------|---|-----|---|-----|---|\n",
    "|4|6|3|5|5|30|5|2|3|4|\n",
    "|3| |3| |7| |1| |1| |\n",
    "|3| |3| |8| |1| |2| |\n",
    "|3| |2| |6| |1| |3| |\n",
    "|3| |3| |9| |1| | | |\n",
    "| | | | |10| |2| | | |\n"
   ]
  },
  {
   "cell_type": "code",
   "execution_count": null,
   "metadata": {},
   "outputs": [
    {
     "ename": "",
     "evalue": "",
     "output_type": "error",
     "traceback": [
      "\u001b[1;31m커널을 시작하지 못했습니다. \n",
      "\u001b[1;31mFailed to start the Kernel 'base (Python 3.11.3)'. \n",
      "\u001b[1;31mView Jupyter <a href='command:jupyter.viewOutput'>log</a> for further details. listen EFAULT: bad address in system call argument 127.0.0.1:9004"
     ]
    }
   ],
   "source": [
    "#손님을 8시가 될 때까지, 줄을 세운다 - 입구에서 커피를 받는다(나눠주는 강호)\n",
    "# 입구에 들어갈 때, 강호에게 팀을 준다. \n",
    "# 자기 커피를 몇 번째 받는지에 따라 팁을 다른 액수로 준다.\n",
    "# 손님은 강호에서 원래 주려고 했던 (돈 - 받은 등수 +1)만큼의 팀을 강호에게 준다\n",
    "# 위의 식으로 나온 값이 음수라면, 강호는 팀을 받을 수 없다.\n",
    "# n명의 사람의 순서를 바꿨을 때, 팁의 최대값\n",
    "# 1: n명, 2~ : n명이 나눠줄 팁\n",
    "\n",
    "n = int(input())\n",
    "tips = sorted([int(input()) for _ in range(n)], reverse=True)\n",
    "result = 0\n",
    "\n",
    "for x in range(n):\n",
    "    temp = tips[x] - x\n",
    "    if temp < 0:\n",
    "        temp = 0\n",
    "    result += temp\n",
    "\n",
    "print(result)\n"
   ]
  }
 ],
 "metadata": {
  "kernelspec": {
   "display_name": "base",
   "language": "python",
   "name": "python3"
  },
  "language_info": {
   "codemirror_mode": {
    "name": "ipython",
    "version": 3
   },
   "file_extension": ".py",
   "mimetype": "text/x-python",
   "name": "python",
   "nbconvert_exporter": "python",
   "pygments_lexer": "ipython3",
   "version": "3.11.3"
  }
 },
 "nbformat": 4,
 "nbformat_minor": 2
}
