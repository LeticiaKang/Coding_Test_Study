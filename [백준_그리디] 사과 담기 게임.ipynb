{
 "cells": [
  {
   "cell_type": "markdown",
   "metadata": {},
   "source": [
    "### 문제이름\n",
    "사과 담기 게임\n",
    "### 링크\n",
    "https://www.acmicpc.net/problem/2828\n",
    "### 예시 코드\n",
    "|input|result|\n",
    "|------|---|\n",
    "|5 1|6|\n",
    "3\n",
    "1\n",
    "5\n",
    "3\n",
    "|5 2|4|\n",
    "3\n",
    "1\n",
    "5\n",
    "3"
   ]
  },
  {
   "cell_type": "code",
   "execution_count": 4,
   "metadata": {},
   "outputs": [
    {
     "name": "stdout",
     "output_type": "stream",
     "text": [
      "0\n"
     ]
    }
   ],
   "source": [
    "#스크린은 N칸으로 나눠짐. 아래쪽은 M칸을 차지하는 바구니가 있음\n",
    "# 1 <= M < N <= 10\n",
    "# 바구니 - 좌우 이동, 경계를 넘으면 안됨, 가장 처음에 왼쪽 M칸을 차지\n",
    "# 스크린 - 위에서 사과 여러개가 떨어짐, 사과는 한칸,\n",
    "#       - 바닥에 닿는 즉시, 다른 사과가 떨어짐\n",
    "# 바구니에 사과를 담을 수 있음\n",
    "# 목표는 모두 담는 것. 이때 바구니의 이동 거리의 최솟값은?\n",
    "# 첫째 줄에 N과 M이 주어진다. \n",
    "# 둘째 줄에 떨어지는 사과의 개수 J (1 ≤ J ≤ 20)가 주어진다.\n",
    "# 다음 J개 줄에는 사과가 떨어지는 위치가 순서대로 주어진다.\n",
    "\n",
    "n, m = map(int, input().split())\n",
    "j = int(input()) #받은 사과수\n",
    "now = 1 #현재 위치\n",
    "count = 0 #움직이는 칸의 수\n",
    "\n",
    "for _ in range(j):\n",
    "    apple = int(input())\n",
    "    size = m-1\n",
    "    # 내가 있는 바구니 위치에 사과가 떻어지면 움직이지 않아도 됨\n",
    "    if apple >= now and apple <= now+size: \n",
    "        pass\n",
    "    # 그렇지 않으면, 움직어야 함. 사과와 떨어진 거리 중 최소값만큼.\n",
    "    else:\n",
    "        # apple의 위치가 현재 위치보다 크면 +, 작으면 -\n",
    "        if now < apple:\n",
    "            count += apple-now-size\n",
    "            now = apple - size\n",
    "        else:\n",
    "            count += now - apple\n",
    "            now = apple\n",
    "print(count)"
   ]
  }
 ],
 "metadata": {
  "kernelspec": {
   "display_name": "base",
   "language": "python",
   "name": "python3"
  },
  "language_info": {
   "codemirror_mode": {
    "name": "ipython",
    "version": 3
   },
   "file_extension": ".py",
   "mimetype": "text/x-python",
   "name": "python",
   "nbconvert_exporter": "python",
   "pygments_lexer": "ipython3",
   "version": "3.10.9"
  }
 },
 "nbformat": 4,
 "nbformat_minor": 2
}
