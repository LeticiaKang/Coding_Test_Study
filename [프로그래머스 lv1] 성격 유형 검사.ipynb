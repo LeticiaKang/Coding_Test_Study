{
 "cells": [
  {
   "cell_type": "markdown",
   "metadata": {},
   "source": [
    "### 문제 설명"
   ]
  },
  {
   "cell_type": "markdown",
   "metadata": {},
   "source": [
    "![Alt text](image-3.png)\n",
    "![Alt text](image-4.png)\n",
    "![Alt text](image-5.png)\n",
    "![Alt text](image-6.png)\n",
    "![Alt text](image-7.png)\n",
    "![Alt text](image-8.png)\n",
    "![Alt text](image-9.png)"
   ]
  },
  {
   "cell_type": "markdown",
   "metadata": {},
   "source": [
    "### 링크"
   ]
  },
  {
   "cell_type": "markdown",
   "metadata": {},
   "source": [
    "https://school.programmers.co.kr/learn/courses/30/lessons/118666"
   ]
  },
  {
   "cell_type": "markdown",
   "metadata": {},
   "source": [
    "### 풀이"
   ]
  },
  {
   "cell_type": "code",
   "execution_count": 40,
   "metadata": {},
   "outputs": [],
   "source": [
    "def solution(survey, choices):\n",
    "    # 1~4(RT, CF, JM, AN)으로 이루어진 지표의 순서, 성격마다 얻는 점수를 고려해야 함\n",
    "    # 1~7까지 점수 (오른쪽 1:3, 2:2, 3:1)(왼쪽 5:1, 6:2, 7:3)\n",
    "    # 지표에 대한 정보가 부족하여 0점으로 동일한 경우 알파벳 순서가 큰 것부터\n",
    "    \n",
    "    answer = ''\n",
    "    types = {'R':0, 'T':0, 'C':0, 'F':0,'J':0, 'M':0, 'A':0, 'N':0}\n",
    "    change_score = [3,2,1,0,1,2,3]\n",
    "    \n",
    "    for s,c in zip(survey, choices):\n",
    "        if c > 4:\n",
    "            types[s[1]] += change_score[c-1]\n",
    "        elif c < 4:\n",
    "            types[s[0]] += change_score[c-1]\n",
    "        else:\n",
    "            pass\n",
    "    \n",
    "    # 지표 순서에 따라 answer에 더하려면 01, 23, 45, 67 이 묶음으로 값을 비교해야 한다.\n",
    "    # types는 문자에 따른 딕셔너리기 때문에 리스트 형태로 한 번 변경해서 인덱싱을 해준다. \n",
    "    # temp[0][가져올 문자의 값 위치] = 가져올 문자의 값\n",
    "    types_items = list(types.items()) # 형태 : [('R', 0), ('T', 3), ('C', 1), ('F', 0) .... ]\n",
    "    \n",
    "    # 이제 0~7까지의 types_items리스트 속 값을 01, 23, 45, 67끼리 비교한다.\n",
    "    for i in range(0,8,2):\n",
    "        # 2n, 2n+1 (n : 0~3)의 위치의 리스트 원소의 인덱스 1의 값을 비교해서 큰값의 문자를 answer에 더하기\n",
    "        if types_items[i][1] < types_items[i+1][1]: \n",
    "            answer += types_items[i+1][0]\n",
    "        # 그 반대인 경우 + 같은 경우(둘다 0인 경우 포함)\n",
    "        else:   \n",
    "            answer += types_items[i][0]   \n",
    "\n",
    "    return answer"
   ]
  },
  {
   "cell_type": "code",
   "execution_count": 21,
   "metadata": {},
   "outputs": [],
   "source": [
    "# survey\tchoices\tresult\n",
    "# [\"AN\", \"CF\", \"MJ\", \"RT\", \"NA\"]\t[5, 3, 2, 7, 5]\t\"TCMA\"\n",
    "# [\"TR\", \"RT\", \"TR\"]\t[7, 1, 3]\t\"RCJA\""
   ]
  },
  {
   "cell_type": "code",
   "execution_count": 45,
   "metadata": {},
   "outputs": [
    {
     "name": "stdout",
     "output_type": "stream",
     "text": [
      "('R', 6)\n"
     ]
    }
   ],
   "source": [
    "types = {'R':0, 'T':0, 'C':0, 'F':0,'J':0, 'M':0, 'A':0, 'N':0}\n",
    "change_score = [3,2,1,0,1,2,3]\n",
    "\n",
    "for s,c in zip([\"TR\", \"RT\", \"TR\"],\t[7, 1, 3]):\n",
    "    if c > 4:\n",
    "        types[s[1]] += change_score[c-1]\n",
    "    elif c < 4:\n",
    "        types[s[0]] += change_score[c-1]\n",
    "    else:\n",
    "        pass\n",
    "\n",
    "# for n in range(4):\n",
    "\n",
    "types_items = list(types.items())\n",
    "print(types_items[0])"
   ]
  },
  {
   "cell_type": "code",
   "execution_count": 41,
   "metadata": {},
   "outputs": [
    {
     "name": "stdout",
     "output_type": "stream",
     "text": [
      "[('R', 0), ('T', 3), ('C', 1), ('F', 0), ('J', 0), ('M', 2), ('A', 1), ('N', 1)]\n"
     ]
    },
    {
     "data": {
      "text/plain": [
       "'TCMA'"
      ]
     },
     "execution_count": 41,
     "metadata": {},
     "output_type": "execute_result"
    }
   ],
   "source": [
    "solution([\"AN\", \"CF\", \"MJ\", \"RT\", \"NA\"], [5, 3, 2, 7, 5])\n"
   ]
  }
 ],
 "metadata": {
  "kernelspec": {
   "display_name": "base",
   "language": "python",
   "name": "python3"
  },
  "language_info": {
   "codemirror_mode": {
    "name": "ipython",
    "version": 3
   },
   "file_extension": ".py",
   "mimetype": "text/x-python",
   "name": "python",
   "nbconvert_exporter": "python",
   "pygments_lexer": "ipython3",
   "version": "3.10.9"
  }
 },
 "nbformat": 4,
 "nbformat_minor": 2
}
