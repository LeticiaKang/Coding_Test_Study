{
 "cells": [
  {
   "cell_type": "markdown",
   "metadata": {},
   "source": [
    "### 문제이름\n",
    "1, 2, 3 더하기 5 \n",
    "### 링크\n",
    "https://www.acmicpc.net/problem/15990\n",
    "### 예시 코드\n",
    "|input|result|\n",
    "|------|---|\n",
    "|3<br>4<br>7<br>10|3<br>9<br>27"
   ]
  },
  {
   "cell_type": "markdown",
   "metadata": {},
   "source": [
    "다이나믹 프로그래밍"
   ]
  },
  {
   "cell_type": "markdown",
   "metadata": {},
   "source": [
    "시간 초과가 뜨는 이유는 % 1000000009 를 해주지 않았기 때문이다. 연산시 시간이 오래 걸려서 그랬다.."
   ]
  },
  {
   "cell_type": "code",
   "execution_count": 5,
   "metadata": {},
   "outputs": [
    {
     "name": "stdout",
     "output_type": "stream",
     "text": [
      "[[0, 0, 0], [1, 0, 0], [0, 1, 0], [1, 1, 1]]\n",
      "3\n",
      "[[0, 0, 0], [1, 0, 0], [0, 1, 0], [1, 1, 1], [2, 0, 1]]\n",
      "9\n",
      "[[0, 0, 0], [1, 0, 0], [0, 1, 0], [1, 1, 1], [2, 0, 1], [1, 2, 1], [3, 3, 2], [5, 2, 2]]\n",
      "27\n"
     ]
    }
   ],
   "source": [
    "n = int(input())\n",
    "dp = [[0,0,0], [1,0,0], [0,1,0], [1,1,1]]\n",
    "\n",
    "for _ in range(n):\n",
    "    num = int(input())\n",
    "    print(dp)\n",
    "    for _ in range(len(dp), num+1):\n",
    "        dp.append([dp[-1][1]+dp[-1][2], dp[-2][0]+dp[-2][2], dp[-3][0]+dp[-3][1]])\n",
    "    print(sum(dp[num]) % 1000000009)"
   ]
  },
  {
   "cell_type": "code",
   "execution_count": 11,
   "metadata": {},
   "outputs": [
    {
     "name": "stdout",
     "output_type": "stream",
     "text": [
      "3\n",
      "9\n",
      "27\n"
     ]
    }
   ],
   "source": [
    "n = int(input())\n",
    "nums = []\n",
    "\n",
    "for _ in range(n):\n",
    "    nums.append(int(input()))\n",
    "    \n",
    "dp = [[0,0,0] for _ in range(max(nums)+1)]\n",
    "dp[1] = [1,0,0]\n",
    "dp[2] = [0,1,0]\n",
    "dp[3] = [1,1,1]\n",
    "\n",
    "for x in range(4, max(nums)+1):\n",
    "    dp[x] = [dp[x-1][1]+dp[x-1][2], dp[x-2][0]+dp[x-2][2], dp[x-3][0]+dp[x-3][1]]\n",
    "for num in nums:\n",
    "    print(sum(dp[num]) % 1000000009)"
   ]
  },
  {
   "cell_type": "code",
   "execution_count": 14,
   "metadata": {},
   "outputs": [
    {
     "name": "stdout",
     "output_type": "stream",
     "text": [
      "3\n",
      "9\n",
      "27\n"
     ]
    }
   ],
   "source": [
    "import sys\n",
    "\n",
    "input = sys.stdin.readline\n",
    "\n",
    "dp = [[0 for _ in range(3)] for _ in range(100001)]\n",
    "\n",
    "# N이 1일때 2일때 3일때 각각 1,2,3으로 끝나는 상황의 개수 미리 초기화\n",
    "dp[1] = [1, 0, 0]\n",
    "dp[2] = [0, 1, 0]\n",
    "dp[3] = [1, 1, 1]\n",
    "\n",
    "for i in range(4, 100001):\n",
    "    # 만약 i가 6이라면\n",
    "    \n",
    "    # 5에서 2와 3으로 끝난 횟수에 1을 더하면 6이므로 그 두개의 횟수를 더해주어 대입.\n",
    "    dp[i][0] = (dp[i - 1][1] + dp[i - 1][2]) % 1000000009\n",
    "    # 4에서 1과 3으로 끝난거에 2를 더하면 6이므로 그 두개의 횟수를 더해주어 대입.\n",
    "    dp[i][1] = (dp[i - 2][0] + dp[i - 2][2]) % 1000000009\n",
    "    # 3에서 1과 2로 끝난거에 3을 더하면 6이므로 그 두개의 횟수에 더해주어 대입.\n",
    "    dp[i][2] = (dp[i - 3][0] + dp[i - 3][1]) % 1000000009\n",
    "\n",
    "T = int(input())\n",
    "for i in range(T):\n",
    "    n = int(input())\n",
    "    print(sum(dp[n]) % 1000000009)"
   ]
  }
 ],
 "metadata": {
  "kernelspec": {
   "display_name": "base",
   "language": "python",
   "name": "base"
  },
  "language_info": {
   "codemirror_mode": {
    "name": "ipython",
    "version": 3
   },
   "file_extension": ".py",
   "mimetype": "text/x-python",
   "name": "python",
   "nbconvert_exporter": "python",
   "pygments_lexer": "ipython3",
   "version": "3.11.3"
  }
 },
 "nbformat": 4,
 "nbformat_minor": 2
}
