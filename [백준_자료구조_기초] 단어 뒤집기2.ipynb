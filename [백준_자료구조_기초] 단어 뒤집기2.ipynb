{
 "cells": [
  {
   "cell_type": "markdown",
   "metadata": {},
   "source": [
    "\n",
    "### 문제이름\n",
    "단어 뒤집기2\n",
    "\n",
    "### 링크\n",
    "https://www.acmicpc.net/problem/17413\n",
    "\n",
    "### 입력1\n",
    "baekjoon online judge\n",
    "\n",
    "#### 출력1\n",
    "noojkeab enilno egduj\n",
    "\n",
    "### 입력2\n",
    "<open>tag<close>\n",
    "\n",
    "#### 출력2\n",
    "<open>gat<close>"
   ]
  },
  {
   "cell_type": "code",
   "execution_count": 3,
   "metadata": {},
   "outputs": [
    {
     "name": "stdout",
     "output_type": "stream",
     "text": [
      "['a', 'b', 'c', 'd', 'y', 'x']\n"
     ]
    }
   ],
   "source": [
    "sen = input()\n",
    "sen = sen.replace(\"<\", \".<\").replace(\">\", \">.\").split(\".\") #나누기 위해 . 추가\n",
    "result = \"\"\n",
    "\n",
    "for s in sen:\n",
    "    if len(s) != 0:\n",
    "        if s[0] == \"<\":\n",
    "            result += s\n",
    "        else:\n",
    "            temp = []\n",
    "            for word in s.split():\n",
    "                temp.append(word[::-1])\n",
    "            result += \" \".join(temp)\n",
    "    \n",
    "print(result)"
   ]
  }
 ],
 "metadata": {
  "kernelspec": {
   "display_name": "base",
   "language": "python",
   "name": "python3"
  },
  "language_info": {
   "codemirror_mode": {
    "name": "ipython",
    "version": 3
   },
   "file_extension": ".py",
   "mimetype": "text/x-python",
   "name": "python",
   "nbconvert_exporter": "python",
   "pygments_lexer": "ipython3",
   "version": "3.10.9"
  }
 },
 "nbformat": 4,
 "nbformat_minor": 2
}
