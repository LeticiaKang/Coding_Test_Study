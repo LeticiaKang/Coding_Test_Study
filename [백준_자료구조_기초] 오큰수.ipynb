{
 "cells": [
  {
   "cell_type": "markdown",
   "metadata": {},
   "source": [
    "\n",
    "### 문제이름\n",
    "오큰수\n",
    "\n",
    "### 링크\n",
    "https://www.acmicpc.net/problem/17298\n",
    "\n",
    "### 예시 코드\n",
    "생략\n"
   ]
  },
  {
   "cell_type": "code",
   "execution_count": 100,
   "metadata": {},
   "outputs": [],
   "source": [
    "import sys\n",
    "\n",
    "n = int(sys.stdin.readline())\n",
    "nums = list(map(int, sys.stdin.readline().split()))\n",
    "result = [-1] * n\n",
    "\n",
    "# 첫번재 풀이\n",
    "idx = [0]\n",
    "for x in range(1, n):\n",
    "    while idx and num[idx[-1]] < num[x]:\n",
    "        result[idx.pop()] = num[x]\n",
    "    idx.append(x)\n",
    "\n",
    "# 두번째 풀이(시간초과)\n",
    "# x = 0\n",
    "# while x != (n-1):\n",
    "#     for a in nums[x+1:]:\n",
    "#         if a > nums[x]:\n",
    "#             result[x] = a\n",
    "#             break\n",
    "#     x += 1\n",
    "\n",
    "# 세번째 풀이\n",
    "\n",
    "\n",
    "print(*result)"
   ]
  }
 ],
 "metadata": {
  "kernelspec": {
   "display_name": "base",
   "language": "python",
   "name": "python3"
  },
  "language_info": {
   "codemirror_mode": {
    "name": "ipython",
    "version": 3
   },
   "file_extension": ".py",
   "mimetype": "text/x-python",
   "name": "python",
   "nbconvert_exporter": "python",
   "pygments_lexer": "ipython3",
   "version": "3.11.3"
  }
 },
 "nbformat": 4,
 "nbformat_minor": 2
}
