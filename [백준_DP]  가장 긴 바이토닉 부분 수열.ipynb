{
 "cells": [
  {
   "cell_type": "markdown",
   "metadata": {},
   "source": [
    "### 문제이름\n",
    "가장 긴 바이토닉 부분 수열\n",
    "\n",
    "\n",
    "### 링크\n",
    "https://www.acmicpc.net/problem/11054\n",
    "\n",
    "### 예시 코드\n",
    "|input|result|\n",
    "|------|---|\n",
    "10<br>1 5 2 1 4 3 4 5 2 1|7"
   ]
  },
  {
   "cell_type": "code",
   "execution_count": null,
   "metadata": {},
   "outputs": [],
   "source": [
    "import sys\n",
    "input = sys.stdin.readline\n",
    "n = int(input())\n",
    "arr = list(map(int, input().split()))\n",
    "increasing_dp = [1] * n\n",
    "decreasing_dp = [1] * n\n",
    "bitonic = 0\n",
    "#증가 수열 구하기\n",
    "for x in range(n):\n",
    "    for y in range(x):\n",
    "        if arr[x] > arr[y]:\n",
    "            increasing_dp[x] = max(increasing_dp[x], increasing_dp[y]+1)\n",
    "#감소 수열 구하기\n",
    "for x in range(n-1, -1, -1): # 뒤에서부터 증가수열 구하면 감소수열이 됨.\n",
    "    for y in range(n-1, x,-1):\n",
    "        if arr[x] > arr[y]:\n",
    "            decreasing_dp[x] = max(decreasing_dp[x], decreasing_dp[y]+1)\n",
    "\n",
    "for x in range(n):\n",
    "    bitonic = max(bitonic, increasing_dp[x]+decreasing_dp[x]-1)\n",
    "    \n",
    "print(bitonic)"
   ]
  }
 ],
 "metadata": {
  "kernelspec": {
   "display_name": "base",
   "language": "python",
   "name": "python3"
  },
  "language_info": {
   "codemirror_mode": {
    "name": "ipython",
    "version": 3
   },
   "file_extension": ".py",
   "mimetype": "text/x-python",
   "name": "python",
   "nbconvert_exporter": "python",
   "pygments_lexer": "ipython3",
   "version": "3.11.3"
  }
 },
 "nbformat": 4,
 "nbformat_minor": 2
}
