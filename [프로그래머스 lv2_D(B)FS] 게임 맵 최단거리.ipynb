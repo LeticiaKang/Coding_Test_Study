{
 "cells": [
  {
   "cell_type": "markdown",
   "metadata": {},
   "source": [
    "### 문제이름\n",
    "게임 맵 최단거리\n",
    "\n",
    "### 링크\n",
    "https://school.programmers.co.kr/learn/courses/30/lessons/1844\n",
    "\n",
    "### 예시 코드\n",
    "|input|result|\n",
    "|------|---|\n",
    "|[[1,0,1,1,1],[1,0,1,0,1],[1,0,1,1,1],[1,1,1,0,1],[0,0,0,0,1]]|11|\n",
    "|[[1,0,1,1,1],[1,0,1,0,1],[1,0,1,1,1],[1,1,1,0,0],[0,0,0,0,1]]|-1|"
   ]
  },
  {
   "cell_type": "code",
   "execution_count": null,
   "metadata": {},
   "outputs": [],
   "source": [
    "# 상대팀 진영을 먼저 파괴해야한다. 그러기 위해선 최대한 빨리 도착해야 한다.\n",
    "# 나의 위치는 (1,1), 상태 팀은 (5,5) 맨 우측 하단에 위치.\n",
    "# 검정부분은 갈 수 없음. 4방향으로 한 칸씩 이동 가능.\n",
    "# 못 갈 경우 -1을 반환한다. 아닌 경우 최솟값을 반환한다.\n",
    "# 맵은 n x m 크기 2차원 배열, n과 m은 각각 1 이상 100 이하의 자연수\n",
    "# n,m은 같을수도, 다를수도 있음. 모두 1인경우는 없음.\n",
    "from collections import deque\n",
    "\n",
    "def solution(maps):\n",
    "    directions = [(0, 1), (1, 0), (0, -1), (-1, 0)]\n",
    "    n, m = len(maps), len(maps[0])\n",
    "    visited = [[False] * m for _ in range(n)] # 걸어온길 표시하기\n",
    "    queue = deque([(0, 0, 1)]) #row=0, col=0, cnt=1\n",
    "    visited[0][0] = True #[[True, False, False, False, False], ... 으로 바뀜\n",
    "    \n",
    "    while queue:\n",
    "        x, y, cnt = queue.popleft() #남아있는 거 다 지우기\n",
    "        if x == n - 1 and y == m - 1:\n",
    "            return cnt\n",
    "        for dx, dy in directions:\n",
    "            nx, ny = x + dx, y + dy\n",
    "            if 0 <= nx < n and 0 <= ny < m and maps[nx][ny] == 1 and not visited[nx][ny]:\n",
    "                visited[nx][ny] = True\n",
    "                queue.append((nx, ny, cnt + 1))\n",
    "    return -1"
   ]
  },
  {
   "cell_type": "markdown",
   "metadata": {},
   "source": [
    "복습"
   ]
  },
  {
   "cell_type": "code",
   "execution_count": null,
   "metadata": {},
   "outputs": [],
   "source": [
    "from collections import deque\n",
    "def solution(maps):\n",
    "    answer = 1\n",
    "    N, M = len(maps), len(maps[0])\n",
    "    dx = [0,0,1,-1]\n",
    "    dy = [1,-1,0,0]\n",
    "    visited = [[0] * M for _ in range(N)]\n",
    "\n",
    "    # 출발점은 항상 0,0, 방문처리하기\n",
    "    visited[0][0] = 1\n",
    "    que = deque()\n",
    "    que.append((0, 0))\n",
    "\n",
    "    while que:        \n",
    "        x, y = que.popleft()\n",
    "        \n",
    "        if (x == N-1) and (y == M-1):\n",
    "            return visited[x][y]\n",
    "    \n",
    "        for i in range(4):\n",
    "            nx, ny = x + dx[i], y + dy[i] \n",
    "            # 범위 초과 체크, 막힌 곳 체크, 방문 여부 체크\n",
    "            if (0 <= nx < N and 0 <= ny < M):\n",
    "                if (maps[nx][ny] == 1) and (visited[nx][ny] == 0): # 벽인 곳은 1 + 방문안했으면 0임\n",
    "                    visited[nx][ny] = visited[x][y] + 1 # 이동 횟수를 저장하는 동시에 방문처리가 됨.\n",
    "                    que.append((nx, ny))\n",
    "\n",
    "    return -1"
   ]
  }
 ],
 "metadata": {
  "kernelspec": {
   "display_name": "base",
   "language": "python",
   "name": "python3"
  },
  "language_info": {
   "codemirror_mode": {
    "name": "ipython",
    "version": 3
   },
   "file_extension": ".py",
   "mimetype": "text/x-python",
   "name": "python",
   "nbconvert_exporter": "python",
   "pygments_lexer": "ipython3",
   "version": "3.11.3"
  }
 },
 "nbformat": 4,
 "nbformat_minor": 2
}
