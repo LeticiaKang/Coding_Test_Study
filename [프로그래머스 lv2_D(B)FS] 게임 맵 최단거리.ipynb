{
 "cells": [
  {
   "cell_type": "markdown",
   "metadata": {},
   "source": [
    "### 문제이름\n",
    "게임 맵 최단거리\n",
    "\n",
    "### 링크\n",
    "https://school.programmers.co.kr/learn/courses/30/lessons/1844\n",
    "\n",
    "### 예시 코드\n",
    "|input|result|\n",
    "|------|---|\n",
    "|[[1,0,1,1,1],[1,0,1,0,1],[1,0,1,1,1],[1,1,1,0,1],[0,0,0,0,1]]|11|\n",
    "|[[1,0,1,1,1],[1,0,1,0,1],[1,0,1,1,1],[1,1,1,0,0],[0,0,0,0,1]]|-1|"
   ]
  },
  {
   "cell_type": "code",
   "execution_count": 6,
   "metadata": {},
   "outputs": [
    {
     "name": "stdout",
     "output_type": "stream",
     "text": [
      "[[False, False, False, False, False], [False, False, False, False, False], [False, False, False, False, False], [False, False, False, False, False], [False, False, False, False, False]]\n",
      "[[True, False, False, False, False], [False, False, False, False, False], [False, False, False, False, False], [False, False, False, False, False], [False, False, False, False, False]]\n",
      "deque([(0, 0, 1)])\n",
      "deque([])\n",
      "deque([(1, 0, 2)])\n",
      "deque([])\n",
      "deque([(2, 0, 3)])\n",
      "deque([])\n",
      "deque([(3, 0, 4)])\n",
      "deque([])\n",
      "deque([(3, 1, 5)])\n",
      "deque([])\n",
      "deque([(3, 2, 6)])\n",
      "deque([])\n",
      "deque([(2, 2, 7)])\n",
      "deque([])\n",
      "deque([(2, 3, 8), (1, 2, 8)])\n",
      "deque([(1, 2, 8)])\n",
      "deque([(1, 2, 8), (2, 4, 9)])\n",
      "deque([(2, 4, 9)])\n",
      "deque([(2, 4, 9), (0, 2, 9)])\n",
      "deque([(0, 2, 9)])\n",
      "deque([(0, 2, 9), (3, 4, 10), (1, 4, 10)])\n",
      "deque([(3, 4, 10), (1, 4, 10)])\n",
      "deque([(3, 4, 10), (1, 4, 10), (0, 3, 10)])\n",
      "deque([(1, 4, 10), (0, 3, 10)])\n",
      "deque([(1, 4, 10), (0, 3, 10), (4, 4, 11)])\n",
      "deque([(0, 3, 10), (4, 4, 11)])\n",
      "deque([(0, 3, 10), (4, 4, 11), (0, 4, 11)])\n",
      "deque([(4, 4, 11), (0, 4, 11)])\n",
      "deque([(4, 4, 11), (0, 4, 11)])\n",
      "deque([(0, 4, 11)])\n"
     ]
    },
    {
     "data": {
      "text/plain": [
       "11"
      ]
     },
     "execution_count": 6,
     "metadata": {},
     "output_type": "execute_result"
    }
   ],
   "source": [
    "# 상대팀 진영을 먼저 파괴해야한다. 그러기 위해선 최대한 빨리 도착해야 한다.\n",
    "# 나의 위치는 (1,1), 상태 팀은 (5,5) 맨 우측 하단에 위치.\n",
    "# 검정부분은 갈 수 없음. 4방향으로 한 칸씩 이동 가능.\n",
    "# 못 갈 경우 -1을 반환한다. 아닌 경우 최솟값을 반환한다.\n",
    "# 맵은 n x m 크기 2차원 배열, n과 m은 각각 1 이상 100 이하의 자연수\n",
    "# n,m은 같을수도, 다를수도 있음. 모두 1인경우는 없음.\n",
    "from collections import deque\n",
    "\n",
    "def solution(maps):\n",
    "    directions = [(0, 1), (1, 0), (0, -1), (-1, 0)]\n",
    "    n, m = len(maps), len(maps[0])\n",
    "    visited = [[False] * m for _ in range(n)] # 걸어온길 표시하기\n",
    "    queue = deque([(0, 0, 1)]) #row=0, col=0, cnt=1\n",
    "    visited[0][0] = True #[[True, False, False, False, False], ... 으로 바뀜\n",
    "    \n",
    "    while queue:\n",
    "        x, y, cnt = queue.popleft() #남아있는 거 다 지우기\n",
    "        if x == n - 1 and y == m - 1:\n",
    "            return cnt\n",
    "        for dx, dy in directions:\n",
    "            nx, ny = x + dx, y + dy\n",
    "            if 0 <= nx < n and 0 <= ny < m and maps[nx][ny] == 1 and not visited[nx][ny]:\n",
    "                visited[nx][ny] = True\n",
    "                queue.append((nx, ny, cnt + 1))\n",
    "    return -1"
   ]
  }
 ],
 "metadata": {
  "kernelspec": {
   "display_name": "base",
   "language": "python",
   "name": "python3"
  },
  "language_info": {
   "codemirror_mode": {
    "name": "ipython",
    "version": 3
   },
   "file_extension": ".py",
   "mimetype": "text/x-python",
   "name": "python",
   "nbconvert_exporter": "python",
   "pygments_lexer": "ipython3",
   "version": "3.11.3"
  }
 },
 "nbformat": 4,
 "nbformat_minor": 2
}
