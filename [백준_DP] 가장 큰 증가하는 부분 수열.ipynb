{
 "cells": [
  {
   "cell_type": "markdown",
   "metadata": {},
   "source": [
    "### 문제이름\n",
    "가장 큰 증가하는 부분 수열\n",
    "\n",
    "\n",
    "### 링크\n",
    "https://www.acmicpc.net/problem/11055\n",
    "\n",
    "### 예시 코드\n",
    "|input|result|\n",
    "|------|---|\n",
    "10<br>1 100 2 50 60 3 5 6 7 8|113"
   ]
  },
  {
   "cell_type": "code",
   "execution_count": null,
   "metadata": {},
   "outputs": [],
   "source": [
    "import sys\n",
    "input = sys.stdin.readline\n",
    "n = int(input())\n",
    "nums = [0] + list(map(int, input().split()))\n",
    "dp = [0] * (n+1)\n",
    "dp[1] = nums[1]\n",
    "\n",
    "for x in range(2,n+1):\n",
    "    for y in range(x):\n",
    "        # 현재 수와 크기를 비교해야 오름차순으로 가는 수열인지 알 수 있음\n",
    "        if dp[x] > dp[y]:\n",
    "            dp[x] = max(dp[x], dp[y] + nums[x])\n",
    "        else:\n",
    "            dp[x] = max(dp[x], nums[x])\n",
    "print(max(dp))"
   ]
  }
 ],
 "metadata": {
  "kernelspec": {
   "display_name": "base",
   "language": "python",
   "name": "python3"
  },
  "language_info": {
   "codemirror_mode": {
    "name": "ipython",
    "version": 3
   },
   "file_extension": ".py",
   "mimetype": "text/x-python",
   "name": "python",
   "nbconvert_exporter": "python",
   "pygments_lexer": "ipython3",
   "version": "3.11.3"
  }
 },
 "nbformat": 4,
 "nbformat_minor": 2
}
