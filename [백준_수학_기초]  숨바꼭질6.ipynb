{
 "cells": [
  {
   "cell_type": "markdown",
   "metadata": {},
   "source": [
    "### 문제이름\n",
    "숨바꼭질6\n",
    "### 링크\n",
    "https://www.acmicpc.net/problem/17087\n",
    "### 예시 코드\n",
    "|input|result|\n",
    "|------|---|\n",
    "|3 3<br> 1 7 11|2|\n",
    "|3 81 <br> 33 105 57|24|"
   ]
  },
  {
   "cell_type": "code",
   "execution_count": 6,
   "metadata": {},
   "outputs": [
    {
     "name": "stdout",
     "output_type": "stream",
     "text": [
      "2\n"
     ]
    }
   ],
   "source": [
    "import sys\n",
    "import math\n",
    "\n",
    "n,s = map(int, input().split())\n",
    "pos = list(map(int, input().split()))\n",
    "result = []\n",
    "\n",
    "for x in range(n):\n",
    "    result.append(abs(pos[x]-s))\n",
    "\n",
    "ans = result[0]\n",
    "for y in range(1,n):\n",
    "    ans = math.gcd(ans, result[y])\n",
    "print(ans)"
   ]
  }
 ],
 "metadata": {
  "kernelspec": {
   "display_name": "base",
   "language": "python",
   "name": "python3"
  },
  "language_info": {
   "codemirror_mode": {
    "name": "ipython",
    "version": 3
   },
   "file_extension": ".py",
   "mimetype": "text/x-python",
   "name": "python",
   "nbconvert_exporter": "python",
   "pygments_lexer": "ipython3",
   "version": "3.10.9"
  }
 },
 "nbformat": 4,
 "nbformat_minor": 2
}
