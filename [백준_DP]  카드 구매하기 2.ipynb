{
 "cells": [
  {
   "cell_type": "markdown",
   "metadata": {},
   "source": [
    "### 문제이름\n",
    "카드 구매하기 2\n",
    "### 링크\n",
    "https://www.acmicpc.net/problem/16194\n",
    "### 예시 코드\n",
    "|input|result|\n",
    "|------|---|\n",
    "|4<br>1 5 6 7|4|\n",
    "|5<br>10 9 8 7 6|6|\n",
    "|5<br>10 9 8 7 6|5|\n",
    "|10<br>5 10 11 12 13 30 35 40 45 47|26|\n",
    "|4<br>5 2 8 10|4|\n",
    "|4<br>3 5 15 16|10"
   ]
  },
  {
   "cell_type": "code",
   "execution_count": null,
   "metadata": {
    "vscode": {
     "languageId": "plaintext"
    }
   },
   "outputs": [],
   "source": [
    "n = int(input())\n",
    "p = [0] + list(map(int, input().split()))\n",
    "dp = [False] * (n+1)\n",
    "\n",
    "for x in range(1, n+1):\n",
    "    for y in range(1, x+1):\n",
    "        if dp[x] == False :    # 기본 값을 부여 해주고\n",
    "            dp[x] = dp[x-y]+p[y]\n",
    "        else :    # 어느 것이 더 최소값인지 비교하여 값에 담아준다.\n",
    "            dp[x] = min(dp[x], dp[x-y]+p[y])\n",
    "        \n",
    "print(dp[n])"
   ]
  }
 ],
 "metadata": {
  "kernelspec": {
   "display_name": ".venv",
   "language": "python",
   "name": "python3"
  },
  "language_info": {
   "codemirror_mode": {
    "name": "ipython",
    "version": 3
   },
   "file_extension": ".py",
   "mimetype": "text/x-python",
   "name": "python",
   "nbconvert_exporter": "python",
   "pygments_lexer": "ipython3",
   "version": "3.11.3"
  }
 },
 "nbformat": 4,
 "nbformat_minor": 2
}
