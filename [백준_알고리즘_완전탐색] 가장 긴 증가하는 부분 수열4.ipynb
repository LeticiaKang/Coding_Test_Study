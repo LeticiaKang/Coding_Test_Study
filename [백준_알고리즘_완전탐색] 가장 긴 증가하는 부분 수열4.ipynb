{
 "cells": [
  {
   "cell_type": "markdown",
   "metadata": {},
   "source": [
    "### 문제이름\n",
    "가장 긴 증가하는 부분 수열 4\n",
    "### 링크\n",
    "https://www.acmicpc.net/problem/14002\n",
    "### 예시 코드\n",
    "|input|result|\n",
    "|------|---|\n",
    "|6<br>10 20 10 30 20 50|4<br>10 20 30 50\n",
    "\n"
   ]
  },
  {
   "cell_type": "code",
   "execution_count": 3,
   "metadata": {},
   "outputs": [],
   "source": [
    "n = 10\n",
    "sequence = [*map(int, \"2 1 -4 3 4 -4 6 5 -5 1\".split())]"
   ]
  },
  {
   "cell_type": "code",
   "execution_count": 4,
   "metadata": {},
   "outputs": [
    {
     "name": "stdout",
     "output_type": "stream",
     "text": [
      "11\n"
     ]
    }
   ],
   "source": [
    "import sys\n",
    "\n",
    "# n = int(sys.stdin.readline())\n",
    "# sequence = [*map(int, sys.stdin.readline().split())]\n",
    "dp = [0] * n\n",
    "\n",
    "for i in range(n):\n",
    "    total = sequence[i]\n",
    "    for j in range(i+1, n):\n",
    "        if sequence[j] > 0:\n",
    "            total += sequence[j]\n",
    "        else:\n",
    "            break\n",
    "    dp[i] = total\n",
    "    \n",
    "print(max(dp))"
   ]
  },
  {
   "cell_type": "code",
   "execution_count": 5,
   "metadata": {},
   "outputs": [
    {
     "data": {
      "text/plain": [
       "[3, 1, 3, 7, 4, 7, 11, 5, -4, 1]"
      ]
     },
     "execution_count": 5,
     "metadata": {},
     "output_type": "execute_result"
    }
   ],
   "source": [
    "dp"
   ]
  }
 ],
 "metadata": {
  "kernelspec": {
   "display_name": "base",
   "language": "python",
   "name": "base"
  },
  "language_info": {
   "codemirror_mode": {
    "name": "ipython",
    "version": 3
   },
   "file_extension": ".py",
   "mimetype": "text/x-python",
   "name": "python",
   "nbconvert_exporter": "python",
   "pygments_lexer": "ipython3",
   "version": "3.11.3"
  }
 },
 "nbformat": 4,
 "nbformat_minor": 2
}
