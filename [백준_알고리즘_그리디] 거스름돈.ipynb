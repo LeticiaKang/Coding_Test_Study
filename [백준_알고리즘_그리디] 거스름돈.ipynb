{
 "cells": [
  {
   "cell_type": "markdown",
   "metadata": {},
   "source": [
    "### 문제이름\n",
    "거스름돈\n",
    "### 링크\n",
    "https://www.acmicpc.net/problem/14916\n",
    "### 예시 코드\n",
    "|input|result|\n",
    "|------|---|\n",
    "|13|5|\n",
    "|14|4|"
   ]
  },
  {
   "cell_type": "code",
   "execution_count": 13,
   "metadata": {},
   "outputs": [
    {
     "name": "stdout",
     "output_type": "stream",
     "text": [
      "1\n"
     ]
    }
   ],
   "source": [
    "change = int(input())\n",
    "\n",
    "# 2원과 5원으로만 구성(개수 : 무한)\n",
    "# 동전의 개수는 \"최소\", 거스름돈이 n인 경우, 최소 동전 개수는?\n",
    "# 15원 -> 5원 3개. 총 3개/ 14원 -> 5원 2개, 2원 2개. 총 4개\n",
    "# 거슬러 줄 수 없으면 -1\n",
    "count = 0\n",
    "\n",
    "while change > 0:\n",
    "    # 5로 나눠 떨어지면 종료\n",
    "    if change%5 == 0:\n",
    "        count += change//5\n",
    "        break\n",
    "    # 5로 나눠 떨어지지 않으면 -2를 빼주면서 5의 배수가 되는지 확인\n",
    "    change = change - 2\n",
    "    count += 1\n",
    "    # 5의 배수가 되지 않으면, 음수가 됨 and 거스름돈은 1~3까지 고려\n",
    "    if change<0:\n",
    "        count = -1\n",
    "    \n",
    "print(count)\n",
    "\n"
   ]
  }
 ],
 "metadata": {
  "kernelspec": {
   "display_name": "base",
   "language": "python",
   "name": "python3"
  },
  "language_info": {
   "codemirror_mode": {
    "name": "ipython",
    "version": 3
   },
   "file_extension": ".py",
   "mimetype": "text/x-python",
   "name": "python",
   "nbconvert_exporter": "python",
   "pygments_lexer": "ipython3",
   "version": "3.10.9"
  }
 },
 "nbformat": 4,
 "nbformat_minor": 2
}
