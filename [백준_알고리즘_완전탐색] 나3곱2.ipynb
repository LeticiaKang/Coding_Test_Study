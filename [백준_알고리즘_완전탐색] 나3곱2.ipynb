{
 "cells": [
  {
   "cell_type": "markdown",
   "metadata": {},
   "source": [
    "### 문제이름\n",
    "나3곱2\n",
    "### 링크\n",
    "https://www.acmicpc.net/problem/16936\n",
    "### 예시 코드\n",
    "|input|result|\n",
    "|------|---|\n",
    "|6<br>4 8 6 3 12 9|9 3 6 12 4 8\n",
    "|4<br>42 28 84 126|126 42 84 28"
   ]
  },
  {
   "cell_type": "code",
   "execution_count": null,
   "metadata": {},
   "outputs": [],
   "source": [
    "import sys\n",
    "# 가능한 연산은 나누기3, 곱하기2 이다. 최초 수부터 연산 결과를 담은 리스트가 있다.\n",
    "# 연산 결과를 담은 리스트를 무작위로 섞어 입력값이 주어지면, 원래 순서의 리스트를 구해야 한다.\n",
    "N = int(sys.stdin.readline())\n",
    "B = list(map(int, sys.stdin.readline().split()))\n",
    "\n",
    "def check(num, cnt, A):\n",
    "    if cnt == (N-1): #마지막 까지 온다면 원래 원소를 담은 A 리턴\n",
    "        return A\n",
    "    if num in B:\n",
    "        if num%3 == 0: # ->나3연산\n",
    "            if (num//3) in B:\n",
    "                return check(num//3, cnt+1, A+[num//3])\n",
    "        if (num*2) in B: # ->곱2연산\n",
    "            return check(num*2, cnt+1, A+[num*2])\n",
    "\n",
    "for i in range(N):\n",
    "    # 1. B의 원소 하나씩 검사한다.\n",
    "    x = check(B[i], 0, [B[i]])\n",
    "    if not(x is None):\n",
    "        print(\" \".join(map(str,x)))\n",
    "        break"
   ]
  }
 ],
 "metadata": {
  "kernelspec": {
   "display_name": "base",
   "language": "python",
   "name": "base"
  },
  "language_info": {
   "codemirror_mode": {
    "name": "ipython",
    "version": 3
   },
   "file_extension": ".py",
   "mimetype": "text/x-python",
   "name": "python",
   "nbconvert_exporter": "python",
   "pygments_lexer": "ipython3",
   "version": "3.11.3"
  }
 },
 "nbformat": 4,
 "nbformat_minor": 2
}
