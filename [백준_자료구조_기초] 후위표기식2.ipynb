{
 "cells": [
  {
   "cell_type": "markdown",
   "metadata": {},
   "source": [
    "\n",
    "### 문제이름\n",
    "후위 표기식2\n",
    "\n",
    "### 링크\n",
    "https://www.acmicpc.net/problem/1935\n",
    "\n",
    "### 예시 코드\n",
    "<입력>\n",
    "5  \n",
    "ABC*+DE/-  \n",
    "1  \n",
    "2  \n",
    "3  \n",
    "4  \n",
    "5  \n",
    "<출력>\n",
    "6.20"
   ]
  },
  {
   "cell_type": "code",
   "execution_count": 100,
   "metadata": {},
   "outputs": [],
   "source": [
    "import sys\n",
    "\n",
    "n = int(sys.stdin.readline())\n",
    "formula = list(sys.stdin.readline())\n",
    "operand = []\n",
    "num_lst = [0]*n\n",
    "\n",
    "for i in range(n):\n",
    "    num_lst[i] = int(sys.stdin.readline())\n",
    "    \n",
    "for x in range(len(formula)):\n",
    "    op = formula[x]\n",
    "    if op.isalpha():\n",
    "        operand.append(num_lst[ord(op)-ord('A')])\n",
    "    else:\n",
    "        if op == \"*\":\n",
    "            result = (operand.pop() * operand.pop())\n",
    "        elif op == \"/\":\n",
    "            op1 = operand.pop()\n",
    "            result = (operand.pop()/op1)\n",
    "        elif op == \"+\":\n",
    "            result = (operand.pop() + operand.pop())\n",
    "        elif op == \"-\":\n",
    "            op1 = operand.pop()\n",
    "            result = (operand.pop() - op1)\n",
    "        operand.append(result)\n",
    "print(\"{:.2f}\".format(operand[0]))"
   ]
  }
 ],
 "metadata": {
  "kernelspec": {
   "display_name": "base",
   "language": "python",
   "name": "python3"
  },
  "language_info": {
   "codemirror_mode": {
    "name": "ipython",
    "version": 3
   },
   "file_extension": ".py",
   "mimetype": "text/x-python",
   "name": "python",
   "nbconvert_exporter": "python",
   "pygments_lexer": "ipython3",
   "version": "3.10.9"
  }
 },
 "nbformat": 4,
 "nbformat_minor": 2
}
