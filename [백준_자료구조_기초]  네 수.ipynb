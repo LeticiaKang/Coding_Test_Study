{
 "cells": [
  {
   "cell_type": "markdown",
   "metadata": {},
   "source": [
    "### 문제이름\n",
    "네 수\n",
    "### 링크\n",
    "https://www.acmicpc.net/problem/10824\n",
    "### 예시 코드\n",
    "|input|result|\n",
    "|------|---|\n",
    "|10 20 30 40|4060|"
   ]
  },
  {
   "cell_type": "code",
   "execution_count": null,
   "metadata": {},
   "outputs": [],
   "source": [
    "a,b,c,d = input().split()\n",
    "\n",
    "print(int(a+b) + int(c+d))"
   ]
  }
 ],
 "metadata": {
  "language_info": {
   "name": "python"
  }
 },
 "nbformat": 4,
 "nbformat_minor": 2
}
