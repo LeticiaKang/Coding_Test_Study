{
 "cells": [
  {
   "cell_type": "markdown",
   "metadata": {},
   "source": [
    "### 문제이름\n",
    "오르막 수\n",
    "\n",
    "### 링크\n",
    "https://www.acmicpc.net/problem/11057\n",
    "\n",
    "### 예시 코드\n",
    "|input|result|\n",
    "|------|---|\n",
    "1|10\n",
    "2|55\n",
    "3|220"
   ]
  },
  {
   "cell_type": "code",
   "execution_count": null,
   "metadata": {},
   "outputs": [],
   "source": [
    "n = int(input())\n",
    "\n",
    "dp = [1]*10\n",
    "\n",
    "for _ in range(1, n):\n",
    "    temp = [0]*10\n",
    "    for x in range(10):\n",
    "        temp[x] = sum(dp[x:])%10007\n",
    "    dp = temp\n",
    "    \n",
    "print(sum(dp)%10007)"
   ]
  }
 ],
 "metadata": {
  "kernelspec": {
   "display_name": "base",
   "language": "python",
   "name": "base"
  },
  "language_info": {
   "codemirror_mode": {
    "name": "ipython",
    "version": 3
   },
   "file_extension": ".py",
   "mimetype": "text/x-python",
   "name": "python",
   "nbconvert_exporter": "python",
   "pygments_lexer": "ipython3",
   "version": "3.11.3"
  }
 },
 "nbformat": 4,
 "nbformat_minor": 2
}
