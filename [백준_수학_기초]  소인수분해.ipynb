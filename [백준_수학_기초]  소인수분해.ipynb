{
 "cells": [
  {
   "cell_type": "markdown",
   "metadata": {},
   "source": [
    "### 문제이름\n",
    "소인수분해\n",
    "### 링크\n",
    "https://www.acmicpc.net/problem/11653\n",
    "### 예시 코드\n",
    "|input|result|\n",
    "|------|---|\n",
    "|72|2<br>2<br>2<br>3<br>3\n",
    "|3|3\n",
    "|6|2<br>3\n",
    "|2|2\n",
    "|9991|97<br>103"
   ]
  },
  {
   "cell_type": "code",
   "execution_count": 1,
   "metadata": {},
   "outputs": [],
   "source": [
    "N = int(input())\n",
    "result = []\n",
    "temp = 1\n",
    "num = 2\n",
    "\n",
    "while temp != N:\n",
    "    if N % num: #나눠 떨어지지 않을 경우\n",
    "        num += 1\n",
    "    else: #나눠 떨어질 경우\n",
    "        result.append(num) #소인수를 추가한다\n",
    "        N = N//num #소인수로 나눈 나머지 값으로 N을 바꾼다\n",
    "\n",
    "for n in result:\n",
    "    print(n)\n"
   ]
  }
 ],
 "metadata": {
  "kernelspec": {
   "display_name": "base",
   "language": "python",
   "name": "base"
  },
  "language_info": {
   "codemirror_mode": {
    "name": "ipython",
    "version": 3
   },
   "file_extension": ".py",
   "mimetype": "text/x-python",
   "name": "python",
   "nbconvert_exporter": "python",
   "pygments_lexer": "ipython3",
   "version": "3.11.3"
  }
 },
 "nbformat": 4,
 "nbformat_minor": 2
}
