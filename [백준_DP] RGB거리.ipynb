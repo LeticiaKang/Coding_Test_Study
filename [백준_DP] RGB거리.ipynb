{
 "cells": [
  {
   "cell_type": "markdown",
   "metadata": {},
   "source": [
    "### 문제이름\n",
    "RGB거리\n",
    "\n",
    "### 링크\n",
    "https://www.acmicpc.net/problem/1149\n",
    "\n",
    "### 예시 코드\n",
    "|input|result|\n",
    "|------|---|\n",
    "3<br>26 40 83<br>49 60 57<br>13 89 99|96\n",
    "3<br>1 100 100<br>100 100 100<br>1 100 100|102\n",
    "6<br>30 19 5<br>64 77 64<br>15 19 97<br>4 71 57<br>90 86 84<br>93 32 91|208"
   ]
  },
  {
   "cell_type": "code",
   "execution_count": null,
   "metadata": {},
   "outputs": [],
   "source": [
    "n = 6\n",
    "rgb=[[30,19,5],[64,77,64],[15,19,97],[4,71,57],[90,86,84],[93,32,91]]\n",
    "dp = [0]*n\n",
    "\n",
    "for x in range(1,n):\n",
    "    # 빨강색 집 - 파란색과 초록색 중 작은값을 더한다 + 현재 빨강색 집 -> 최소값\n",
    "    rgb[x][0] = min(rgb[x-1][1], rgb[x-1][2]) + rgb[x][0]\n",
    "    # 초록색 집 - 빨강색과 파랑색 중 작은값을 더한다 + 현재 초록색 집 -> 최소값\n",
    "    rgb[x][1] = min(rgb[x-1][0], rgb[x-1][2]) + rgb[x][1]\n",
    "    # 파란색 집 - 빨강색과 초록색 중 작은값을 더한다 + 현재 파랑색 집 -> 최소값\n",
    "    rgb[x][2] = min(rgb[x-1][0], rgb[x-1][1]) + rgb[x][2]\n",
    "\n",
    "print(min(rgb[-1]))"
   ]
  }
 ],
 "metadata": {
  "kernelspec": {
   "display_name": "base",
   "language": "python",
   "name": "base"
  },
  "language_info": {
   "codemirror_mode": {
    "name": "ipython",
    "version": 3
   },
   "file_extension": ".py",
   "mimetype": "text/x-python",
   "name": "python",
   "nbconvert_exporter": "python",
   "pygments_lexer": "ipython3",
   "version": "3.11.3"
  }
 },
 "nbformat": 4,
 "nbformat_minor": 2
}
