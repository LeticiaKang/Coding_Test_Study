{
 "cells": [
  {
   "cell_type": "markdown",
   "metadata": {},
   "source": [
    "### 문제이름\n",
    "주유소\n",
    "### 링크\n",
    "https://www.acmicpc.net/problem/13305\n",
    "### 예시 코드\n",
    "|input|result|  \n",
    "|------|---|\n",
    "|4|18|\n",
    "2 3 1\n",
    "5 2 4 1\n",
    "\n",
    "|input|result|  \n",
    "|------|---|\n",
    "|4|10|\n",
    "3 3 4\n",
    "1 1 1 1"
   ]
  },
  {
   "cell_type": "code",
   "execution_count": 13,
   "metadata": {},
   "outputs": [
    {
     "name": "stdout",
     "output_type": "stream",
     "text": [
      "18\n"
     ]
    }
   ],
   "source": [
    "# n개의 도시는 일직선으로. 제일 왼쪽->오른쪽으로 자동차 이용.\n",
    "# 인접한 두 도시 사이의 도로들은 서로 길이가 다를 수 있음. (KM사용)\n",
    "# 기름은 출발시, 무제한으로, 1km/1L사용. 도시마다 주유서. 리터 가격은 다름.\n",
    "# 이동간 기름값의 최소 비용은?\n",
    "# 첫째 줄 n은 도시 개수\n",
    "# 두번째 줄은 도로의 길이\n",
    "# 세번째 줄은 주유소의 리터당 가격\n",
    "\n",
    "# 다음 행선지로의 기름값이 현재 있는 곳보다 크면, 기름을 더 넣어야 함.\n",
    "n = int(input())\n",
    "dist = list(map(int, input().split())) #거리 : n-1개\n",
    "bank = list(map(int, input().split())) #기름값 : n개\n",
    "oil = bank[0]\n",
    "total = 0\n",
    "\n",
    "#오일값 비교하기\n",
    "for x in range(n-1):\n",
    "    if oil > bank[x]:\n",
    "        oil = bank[x]\n",
    "    total += oil*dist[x]\n",
    "print(total)    \n"
   ]
  }
 ],
 "metadata": {
  "kernelspec": {
   "display_name": "base",
   "language": "python",
   "name": "python3"
  },
  "language_info": {
   "codemirror_mode": {
    "name": "ipython",
    "version": 3
   },
   "file_extension": ".py",
   "mimetype": "text/x-python",
   "name": "python",
   "nbconvert_exporter": "python",
   "pygments_lexer": "ipython3",
   "version": "3.11.3"
  }
 },
 "nbformat": 4,
 "nbformat_minor": 2
}
