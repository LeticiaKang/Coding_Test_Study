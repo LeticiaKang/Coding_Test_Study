{
 "cells": [
  {
   "cell_type": "markdown",
   "metadata": {},
   "source": [
    "### 문제이름\n",
    "캠프 준비\n",
    "### 링크\n",
    "https://www.acmicpc.net/problem/16938\n",
    "### 예시 코드\n",
    "|input|result|\n",
    "|------|---|\n",
    "|3 5 6 1<br>1 2 3|2\n",
    "|4 40 50 10<br>10 20 30 25|2\n",
    "|5 25 35 10<br>10 10 20 10 20|6"
   ]
  },
  {
   "cell_type": "code",
   "execution_count": null,
   "metadata": {},
   "outputs": [],
   "source": [
    "import sys\n",
    "N, L, R, X = map(int, sys.stdin.readline().split())\n",
    "# n개의 문제, 난이도 가이드라인(합이 최소 L, 최대 R), 최대최소 난이도 문제의 차 조건x\n",
    "diff = list( map(int, input().split()) ) # 난이도\n",
    "# 2문제 이상, |max() - min()| >= x, L <= sum(선택 문제)<= R\n",
    "cnt = 0\n",
    "\n",
    "def check(problem):\n",
    "    if (sum(problem) >= L) and (sum(problem) <= R):\n",
    "        if (max(problem) - min(problem)) >= X:\n",
    "            return True\n",
    "        \n",
    "# 2개 이상의 조합에 대한 경우의 수\n",
    "from itertools import combinations\n",
    "for i in range(2, N+1):\n",
    "    for case in combinations(diff ,i):\n",
    "        if check(case):\n",
    "            cnt += 1\n",
    "            \n",
    "print(cnt)"
   ]
  }
 ],
 "metadata": {
  "kernelspec": {
   "display_name": "base",
   "language": "python",
   "name": "base"
  },
  "language_info": {
   "codemirror_mode": {
    "name": "ipython",
    "version": 3
   },
   "file_extension": ".py",
   "mimetype": "text/x-python",
   "name": "python",
   "nbconvert_exporter": "python",
   "pygments_lexer": "ipython3",
   "version": "3.11.3"
  }
 },
 "nbformat": 4,
 "nbformat_minor": 2
}
