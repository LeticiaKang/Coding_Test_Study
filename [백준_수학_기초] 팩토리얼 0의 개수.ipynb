{
 "cells": [
  {
   "cell_type": "markdown",
   "metadata": {},
   "source": [
    "### 문제이름\n",
    "팩토리얼 0의 개수\n",
    "### 링크\n",
    "https://www.acmicpc.net/problem/1676\n",
    "### 예시 코드\n",
    "|input|result|\n",
    "|------|---|\n",
    "|10|2|\n",
    "|3|0|"
   ]
  },
  {
   "cell_type": "code",
   "execution_count": 8,
   "metadata": {},
   "outputs": [
    {
     "name": "stdout",
     "output_type": "stream",
     "text": [
      "2\n"
     ]
    }
   ],
   "source": [
    "import math\n",
    "\n",
    "n = int(input())\n",
    "factorial_str = str(math.factorial(n))\n",
    "cnt = 0\n",
    "\n",
    "for num in factorial_str[::-1]:\n",
    "    if num == \"0\":\n",
    "        cnt+=1\n",
    "    else:\n",
    "        break\n",
    "print(cnt)"
   ]
  }
 ],
 "metadata": {
  "kernelspec": {
   "display_name": "base",
   "language": "python",
   "name": "python3"
  },
  "language_info": {
   "codemirror_mode": {
    "name": "ipython",
    "version": 3
   },
   "file_extension": ".py",
   "mimetype": "text/x-python",
   "name": "python",
   "nbconvert_exporter": "python",
   "pygments_lexer": "ipython3",
   "version": "3.10.9"
  }
 },
 "nbformat": 4,
 "nbformat_minor": 2
}
