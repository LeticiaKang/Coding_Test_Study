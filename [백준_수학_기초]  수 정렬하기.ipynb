{
 "cells": [
  {
   "cell_type": "markdown",
   "metadata": {},
   "source": [
    "### 문제이름\n",
    "수 정렬하기\n",
    "\n",
    "### 링크\n",
    "https://www.acmicpc.net/problem/2750\n",
    "\n",
    "### 예시 코드\n",
    "|input|result|\n",
    "|------|---|\n",
    "5<br>5<br>2<br>3<br>4<br>1|1<br>2<br>3<br>4<br>5"
   ]
  },
  {
   "cell_type": "code",
   "execution_count": 1,
   "metadata": {},
   "outputs": [],
   "source": [
    "import sys\n",
    "\n",
    "n = int(sys.stdin.readline())\n",
    "nums = []\n",
    "\n",
    "for _ in range(n):\n",
    "    nums.append(int(sys.stdin.readline()))\n",
    "    \n",
    "for num in sorted(nums):\n",
    "    print(num) \n"
   ]
  }
 ],
 "metadata": {
  "kernelspec": {
   "display_name": "base",
   "language": "python",
   "name": "base"
  },
  "language_info": {
   "codemirror_mode": {
    "name": "ipython",
    "version": 3
   },
   "file_extension": ".py",
   "mimetype": "text/x-python",
   "name": "python",
   "nbconvert_exporter": "python",
   "pygments_lexer": "ipython3",
   "version": "3.11.3"
  }
 },
 "nbformat": 4,
 "nbformat_minor": 2
}
