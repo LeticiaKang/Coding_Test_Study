{
 "cells": [
  {
   "cell_type": "markdown",
   "metadata": {},
   "source": [
    "### 문제이름\n",
    "모음 사전\n",
    "\n",
    "### 링크\n",
    "https://school.programmers.co.kr/learn/courses/30/lessons/84512\n",
    "\n",
    "### 예시 코드\n",
    "|word\t|result|\n",
    "|---|---|\t\n",
    "\"AAAAE\"|\t6|\n",
    "\"AAAE\"|\t10\n",
    "\"I\"|1563\n",
    "\"EIO\"\t|1189"
   ]
  },
  {
   "cell_type": "code",
   "execution_count": 21,
   "metadata": {},
   "outputs": [],
   "source": [
    "from itertools import product\n",
    "\n",
    "def solution(word):\n",
    "    alphabet = ['A', 'E', 'I', 'O', 'U']\n",
    "    dictionary = []\n",
    "    # 1~5까지의 모든 경우의 수 구하기\n",
    "    for x in range(1,6):\n",
    "        dictionary += list(map(\"\".join, product(alphabet, repeat = x)))\n",
    "    # 정렬하기    \n",
    "    dictionary = sorted(dictionary)\n",
    "    # 순서 구하기\n",
    "    anwser = dictionary.index(word)+1\n",
    "    \n",
    "    return anwser"
   ]
  }
 ],
 "metadata": {
  "kernelspec": {
   "display_name": "base",
   "language": "python",
   "name": "python3"
  },
  "language_info": {
   "codemirror_mode": {
    "name": "ipython",
    "version": 3
   },
   "file_extension": ".py",
   "mimetype": "text/x-python",
   "name": "python",
   "nbconvert_exporter": "python",
   "pygments_lexer": "ipython3",
   "version": "3.10.9"
  }
 },
 "nbformat": 4,
 "nbformat_minor": 2
}
