{
 "cells": [
  {
   "cell_type": "markdown",
   "metadata": {},
   "source": [
    "### 문제이름\n",
    "소수 구하기\n",
    "\n",
    "### 링크\n",
    "https://www.acmicpc.net/problem/1929\n",
    "\n",
    "### 예시 코드\n",
    "|input|result|\n",
    "|------|---|\n",
    "|3 16| 3<br>5<br>7<br>11<br>13"
   ]
  },
  {
   "cell_type": "code",
   "execution_count": 6,
   "metadata": {},
   "outputs": [
    {
     "name": "stdout",
     "output_type": "stream",
     "text": [
      "3\n",
      "5\n",
      "7\n",
      "11\n",
      "13\n"
     ]
    }
   ],
   "source": [
    "m,n = map(int, input().split())\n",
    "\n",
    "for num in range(m, n+1):\n",
    "    isprime = True\n",
    "    if num == 1:\n",
    "        continue\n",
    "\n",
    "    for x in range(2, int(num**(1/2))+1):\n",
    "        if num%x == 0:\n",
    "            isprime = False\n",
    "            break\n",
    "    \n",
    "    if isprime:\n",
    "        print(num)"
   ]
  }
 ],
 "metadata": {
  "kernelspec": {
   "display_name": "base",
   "language": "python",
   "name": "python3"
  },
  "language_info": {
   "codemirror_mode": {
    "name": "ipython",
    "version": 3
   },
   "file_extension": ".py",
   "mimetype": "text/x-python",
   "name": "python",
   "nbconvert_exporter": "python",
   "pygments_lexer": "ipython3",
   "version": "3.10.9"
  }
 },
 "nbformat": 4,
 "nbformat_minor": 2
}
