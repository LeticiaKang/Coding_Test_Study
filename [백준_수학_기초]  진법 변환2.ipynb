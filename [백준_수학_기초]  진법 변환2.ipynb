{
 "cells": [
  {
   "cell_type": "markdown",
   "metadata": {},
   "source": [
    "### 문제이름\n",
    "진법 변환 2\n",
    "### 링크\n",
    "https://www.acmicpc.net/problem/11005\n",
    "### 예시 코드\n",
    "|input|result|\n",
    "|------|---|\n",
    "|60466175 36|ZZZZZ"
   ]
  },
  {
   "cell_type": "code",
   "execution_count": 2,
   "metadata": {},
   "outputs": [
    {
     "name": "stdout",
     "output_type": "stream",
     "text": [
      "ZZZZZ\n"
     ]
    }
   ],
   "source": [
    "N, B = map(int, input().split())\n",
    "\n",
    "def convert(x: int, r: int) -> str:\n",
    "    \n",
    "    d = ''                   # 변환 후의 문자열\n",
    "    dchar = '0123456789ABCDEFGHIJKLMNOPQRSTUVWXYZ'\n",
    "    \n",
    "    while x > 0:\n",
    "        d += dchar[x % r]  # 해당하는 문자를 꺼내 결합, 나머지를 나열하기 위함\n",
    "        x //= r\n",
    "        \n",
    "    return d[::-1]         # 역순으로 반환\n",
    "    \n",
    "print(convert(N, B))"
   ]
  }
 ],
 "metadata": {
  "kernelspec": {
   "display_name": ".venv",
   "language": "python",
   "name": "python3"
  },
  "language_info": {
   "codemirror_mode": {
    "name": "ipython",
    "version": 3
   },
   "file_extension": ".py",
   "mimetype": "text/x-python",
   "name": "python",
   "nbconvert_exporter": "python",
   "pygments_lexer": "ipython3",
   "version": "3.11.3"
  }
 },
 "nbformat": 4,
 "nbformat_minor": 2
}
