{
 "cells": [
  {
   "cell_type": "markdown",
   "metadata": {},
   "source": [
    "\n",
    "### 문제이름\n",
    "최대 힙\n",
    "\n",
    "### 링크\n",
    "https://www.acmicpc.net/problem/11279\n",
    "\n",
    "### 예시 코드\n",
    "|input|result|\n",
    "|------|---|\n",
    "13<br>0<br>1<br>2<br>0<br>0<br>3<br>2<br>1<br>0<br>0<br>0<br>0<br>0|0<br>2<br>1<br>3<br>2<br>1<br>0<br>0"
   ]
  },
  {
   "cell_type": "markdown",
   "metadata": {},
   "source": [
    "자료구조 : 힙"
   ]
  },
  {
   "cell_type": "code",
   "execution_count": null,
   "metadata": {},
   "outputs": [
    {
     "ename": "",
     "evalue": "",
     "output_type": "error",
     "traceback": [
      "\u001b[1;31m커널을 시작하지 못했습니다. \n",
      "\u001b[1;31m커널 'base (Python 3.11.3)'을(를) 시작하지 못했습니다. \n",
      "\u001b[1;31m자세한 내용은 Jupyter <a href='command:jupyter.viewOutput'>로그</a>을 참조하세요. listen EFAULT: bad address in system call argument 127.0.0.1:9005"
     ]
    }
   ],
   "source": [
    "import sys\n",
    "import heapq\n",
    "\n",
    "n = int(sys.stdin.readline())\n",
    "heap = []\n",
    "\n",
    "for _ in range(n):\n",
    "    num = int(sys.stdin.readline())\n",
    "    if num == 0:\n",
    "        if heap:\n",
    "            print(-heapq.heappop(heap))\n",
    "        else:\n",
    "            print(0)\n",
    "    else:\n",
    "        heapq.heappush(heap, -num)"
   ]
  }
 ],
 "metadata": {
  "kernelspec": {
   "display_name": "base",
   "language": "python",
   "name": "base"
  },
  "language_info": {
   "codemirror_mode": {
    "name": "ipython",
    "version": 3
   },
   "file_extension": ".py",
   "mimetype": "text/x-python",
   "name": "python",
   "nbconvert_exporter": "python",
   "pygments_lexer": "ipython3",
   "version": "3.11.3"
  }
 },
 "nbformat": 4,
 "nbformat_minor": 2
}
