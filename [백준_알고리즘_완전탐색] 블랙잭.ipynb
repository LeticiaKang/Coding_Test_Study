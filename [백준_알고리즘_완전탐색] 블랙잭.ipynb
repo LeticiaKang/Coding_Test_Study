{
 "cells": [
  {
   "cell_type": "markdown",
   "metadata": {},
   "source": [
    "### 문제이름\n",
    "블랙잭\n",
    "\n",
    "\n",
    "### 링크\n",
    "https://www.acmicpc.net/problem/2798\n",
    "\n",
    "\n",
    "### 예시 코드\n",
    "|input|result|\n",
    "|------|---|\n",
    "5 21<br>5 6 7 8 9|21\n",
    "10 500<br>93 181 245 214 315 36 185 138 216 295|497"
   ]
  },
  {
   "cell_type": "markdown",
   "metadata": {},
   "source": [
    "브루스 포스"
   ]
  },
  {
   "cell_type": "code",
   "execution_count": null,
   "metadata": {},
   "outputs": [],
   "source": [
    "card_num, limit = map(int, input().split())\n",
    "cards = list(map(int, input().split()))\n",
    "result = 0\n",
    "\n",
    "for x in range(card_num):\n",
    "    for y in range(x+1,card_num):\n",
    "        for z in range(y+1,card_num):\n",
    "            total = sum([cards[x], cards[y], cards[z]])\n",
    "            if (total > result) and (total <= limit):\n",
    "                result = total\n",
    "print(result)"
   ]
  },
  {
   "cell_type": "markdown",
   "metadata": {},
   "source": [
    "브루스 포스 - 경우의 수 이용  \n",
    "- 모든 경우의 수를 체크하기 때문에 시간이 오래 걸림"
   ]
  },
  {
   "cell_type": "code",
   "execution_count": null,
   "metadata": {},
   "outputs": [],
   "source": [
    "import sys\n",
    "from itertools import permutations\n",
    "\n",
    "card_num, limit = map(int, sys.stdin.readline())\n",
    "# 3~100, 10~300000\n",
    "cards = list(map(int, sys.stdin.readline().split()))\n",
    "total = 0\n",
    "\n",
    "for case in permutations(cards, 3):\n",
    "    if (sum(case) <= limit) and (sum(total) > total):\n",
    "        total = sum(case)\n",
    "print(total)"
   ]
  }
 ],
 "metadata": {
  "kernelspec": {
   "display_name": "base",
   "language": "python",
   "name": "base"
  },
  "language_info": {
   "codemirror_mode": {
    "name": "ipython",
    "version": 3
   },
   "file_extension": ".py",
   "mimetype": "text/x-python",
   "name": "python",
   "nbconvert_exporter": "python",
   "pygments_lexer": "ipython3",
   "version": "3.11.3"
  }
 },
 "nbformat": 4,
 "nbformat_minor": 2
}
