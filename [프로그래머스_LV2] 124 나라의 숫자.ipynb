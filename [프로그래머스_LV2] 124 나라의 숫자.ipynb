{
 "cells": [
  {
   "cell_type": "markdown",
   "metadata": {},
   "source": [
    "### 문제이름\n",
    "124 나라의 숫자\n",
    "\n",
    "### 링크\n",
    "https://school.programmers.co.kr/learn/courses/30/lessons/12899\n",
    "\n",
    "### 예시 코드\n",
    "|input|result|\n",
    "|------|---|\n",
    "|1|1|\n",
    "2|\t2\n",
    "3|\t4\n",
    "4|\t11"
   ]
  },
  {
   "cell_type": "code",
   "execution_count": null,
   "metadata": {},
   "outputs": [],
   "source": [
    "# 124나라만의 숫자 규칙\n",
    "# 자연수만 존재. 1,2,4만 사용.\n",
    "# n이 매개변수로 주어질 때, 124 나라에서 사용하는 숫자로 바꾼 값을 출력하기\n",
    "# n은 50ㅡ000ㅡ000이하의 자연수\n",
    "\n",
    "def change124(n):\n",
    "    num = ['1','2','4']\n",
    "    answer = \"\"\n",
    "\n",
    "    while n > 0:\n",
    "        n -= 1\n",
    "        answer = num[n % 3] + answer\n",
    "        n //= 3\n",
    "\n",
    "    return answer"
   ]
  }
 ],
 "metadata": {
  "kernelspec": {
   "display_name": "base",
   "language": "python",
   "name": "python3"
  },
  "language_info": {
   "codemirror_mode": {
    "name": "ipython",
    "version": 3
   },
   "file_extension": ".py",
   "mimetype": "text/x-python",
   "name": "python",
   "nbconvert_exporter": "python",
   "pygments_lexer": "ipython3",
   "version": "3.11.3"
  }
 },
 "nbformat": 4,
 "nbformat_minor": 2
}
