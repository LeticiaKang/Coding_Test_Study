{
 "cells": [
  {
   "cell_type": "markdown",
   "metadata": {},
   "source": [
    "### 문제이름\n",
    "카드 구매하기\n",
    "### 링크\n",
    "https://www.acmicpc.net/problem/11052\n",
    "### 예시 코드\n",
    "|input|result|\n",
    "|------|---|\n",
    "|4<br>1 5 6 7|10\n",
    "|5<br>10 9 8 7 6|50\n",
    "|10<br>1 1 2 3 5 8 13 21 34 55|55|\n",
    "|10<br>5 10 11 12 13 30 35 40 45 47|50"
   ]
  },
  {
   "cell_type": "code",
   "execution_count": null,
   "metadata": {},
   "outputs": [],
   "source": [
    "import sys\n",
    "\n",
    "n = int(sys.stdin.readline())\n",
    "P = [0] + list(map(int, sys.stdin.readline().split()))\n",
    "dp = [0] * (n+1)\n",
    "\n",
    "for x in range(1, n+1):\n",
    "    for y in range(1, x+1):\n",
    "        dp[x] = max(dp[x], dp[x-y] + P[y])\n",
    "print(dp[n])"
   ]
  }
 ],
 "metadata": {
  "kernelspec": {
   "display_name": ".venv",
   "language": "python",
   "name": "python3"
  },
  "language_info": {
   "codemirror_mode": {
    "name": "ipython",
    "version": 3
   },
   "file_extension": ".py",
   "mimetype": "text/x-python",
   "name": "python",
   "nbconvert_exporter": "python",
   "pygments_lexer": "ipython3",
   "version": "3.10.9"
  }
 },
 "nbformat": 4,
 "nbformat_minor": 2
}
