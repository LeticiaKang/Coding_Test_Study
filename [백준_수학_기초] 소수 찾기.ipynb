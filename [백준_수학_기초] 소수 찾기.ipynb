{
 "cells": [
  {
   "cell_type": "markdown",
   "metadata": {},
   "source": [
    "### 문제이름\n",
    "소수 찾기\n",
    "### 링크\n",
    "https://www.acmicpc.net/problem/1978\n",
    "### 예시 코드\n",
    "|input|result|\n",
    "|------|---|\n",
    "|4<br>1 3 5 7|3"
   ]
  },
  {
   "cell_type": "code",
   "execution_count": 1,
   "metadata": {},
   "outputs": [
    {
     "name": "stdout",
     "output_type": "stream",
     "text": [
      "3\n"
     ]
    }
   ],
   "source": [
    "n = int(input())\n",
    "nums = list(map(int, input().split()))\n",
    "cnt = 0\n",
    "\n",
    "for num in nums:\n",
    "    if num == 1:\n",
    "        pass\n",
    "    else:\n",
    "        result = []\n",
    "        for x in range(1, int(num**(1/2))+1):\n",
    "            if num%x == 0:\n",
    "                result.append(x)\n",
    "                result.append(num//x)\n",
    "        if result == [1, num]:\n",
    "            cnt+=1\n",
    "print(cnt)"
   ]
  }
 ],
 "metadata": {
  "kernelspec": {
   "display_name": "base",
   "language": "python",
   "name": "python3"
  },
  "language_info": {
   "codemirror_mode": {
    "name": "ipython",
    "version": 3
   },
   "file_extension": ".py",
   "mimetype": "text/x-python",
   "name": "python",
   "nbconvert_exporter": "python",
   "pygments_lexer": "ipython3",
   "version": "3.10.9"
  }
 },
 "nbformat": 4,
 "nbformat_minor": 2
}
