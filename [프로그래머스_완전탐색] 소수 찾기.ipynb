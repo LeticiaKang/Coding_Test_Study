{
 "cells": [
  {
   "cell_type": "markdown",
   "metadata": {},
   "source": [
    "### 문제이름\n",
    "소수찾기\n",
    "\n",
    "### 링크\n",
    "https://school.programmers.co.kr/learn/courses/30/lessons/42839\n",
    "\n",
    "### 예시 코드\n",
    "|input|result|\n",
    "|------|---|\n",
    "|\"17\"|\t3|\n",
    "|\"011\"|\t2|"
   ]
  },
  {
   "cell_type": "markdown",
   "metadata": {},
   "source": [
    "1번째 시도 - 시간 초과"
   ]
  },
  {
   "cell_type": "code",
   "execution_count": 40,
   "metadata": {},
   "outputs": [],
   "source": [
    "# 완전 탐색(브루스 포스)\n",
    "# numbers의 길이는 7이하, 숫자는 0~9로 이루어짐.\n",
    "from itertools import permutations\n",
    "\n",
    "def solution(numbers):\n",
    "    answer = 0\n",
    "    nums = []\n",
    "    \n",
    "    size = int(\"9\"*len(numbers))\n",
    "    dp = [False, False] + [True]*(size+1)\n",
    "    for x in range(2, size+1):\n",
    "        for y in range(x*2, size+1, x): \n",
    "            dp[y] = False\n",
    "    \n",
    "    for i in range(1, len(numbers)+1):\n",
    "        nums += list(map(int, map(\"\".join, permutations(numbers, i))))\n",
    "    \n",
    "    nums = set(nums)\n",
    "    \n",
    "    for num in nums:\n",
    "        if dp[num]:\n",
    "            answer+=1\n",
    "            print(num)\n",
    "    \n",
    "    return answer"
   ]
  },
  {
   "cell_type": "markdown",
   "metadata": {},
   "source": [
    "2번째 시도 - 소수구하는 방식을 변경했더니 성공"
   ]
  },
  {
   "cell_type": "code",
   "execution_count": null,
   "metadata": {},
   "outputs": [],
   "source": [
    "# 완전 탐색(브루스 포스)\n",
    "# numbers의 길이는 7이하, 숫자는 0~9로 이루어짐.\n",
    "\n",
    "from itertools import permutations\n",
    "\n",
    "def isPrime(n):\n",
    "    result = False\n",
    "    if n in [0,1]:\n",
    "        result = True\n",
    "    for x in range(2, int(n**(1/2)+1)):\n",
    "        if n%x == 0:\n",
    "            result = True #True : 합성수, False : 소수\n",
    "    return result \n",
    "\n",
    "def solution(numbers):\n",
    "    answer = 0\n",
    "    nums = []\n",
    "    \n",
    "    for i in range(1, len(numbers)+1):\n",
    "        nums += list(map(int, map(\"\".join, permutations(numbers, i))))\n",
    "    \n",
    "    nums = set(nums)\n",
    "    \n",
    "    for num in nums:\n",
    "        if not isPrime(num):            \n",
    "            answer+=1\n",
    "    \n",
    "    return answer"
   ]
  }
 ],
 "metadata": {
  "kernelspec": {
   "display_name": "base",
   "language": "python",
   "name": "base"
  },
  "language_info": {
   "codemirror_mode": {
    "name": "ipython",
    "version": 3
   },
   "file_extension": ".py",
   "mimetype": "text/x-python",
   "name": "python",
   "nbconvert_exporter": "python",
   "pygments_lexer": "ipython3",
   "version": "3.11.3"
  }
 },
 "nbformat": 4,
 "nbformat_minor": 2
}
