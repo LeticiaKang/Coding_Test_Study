{
 "cells": [
  {
   "cell_type": "markdown",
   "metadata": {},
   "source": [
    "### 문제이름\n",
    "정수 삼각형\n",
    "\n",
    "### 링크\n",
    "https://www.acmicpc.net/problem/1932\n",
    "\n",
    "### 예시 코드\n",
    "|input|result|\n",
    "|------|---|\n",
    "5<br>7<br>3 8<br>8 1 0<br>2 7 4 4<br>4 5 2 6 5|30"
   ]
  },
  {
   "cell_type": "code",
   "execution_count": null,
   "metadata": {},
   "outputs": [],
   "source": [
    "import sys\n",
    "input = sys.stdin.readline\n",
    "\n",
    "n = int(input())\n",
    "dp = [list(map(int, input().split())) for _ in range(n)]\n",
    "\n",
    "if n == 1:\n",
    "    print(*dp[0])\n",
    "else:\n",
    "    for x in range(1, n):\n",
    "        for y in range(x+1):\n",
    "            if (y==0) or (y==x):\n",
    "                if y==0:\n",
    "                    dp[x][0] += dp[x-1][0]\n",
    "                else:\n",
    "                    dp[x][y] += dp[x-1][y-1]\n",
    "            else:\n",
    "                dp[x][y] += max( dp[x-1][y-1], dp[x-1][y] ) \n",
    "    print(max(dp[n-1]))"
   ]
  }
 ],
 "metadata": {
  "kernelspec": {
   "display_name": "base",
   "language": "python",
   "name": "python3"
  },
  "language_info": {
   "codemirror_mode": {
    "name": "ipython",
    "version": 3
   },
   "file_extension": ".py",
   "mimetype": "text/x-python",
   "name": "python",
   "nbconvert_exporter": "python",
   "pygments_lexer": "ipython3",
   "version": "3.11.3"
  }
 },
 "nbformat": 4,
 "nbformat_minor": 2
}
