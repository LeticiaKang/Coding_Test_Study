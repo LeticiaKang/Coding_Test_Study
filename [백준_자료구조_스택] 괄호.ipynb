{
 "cells": [
  {
   "cell_type": "markdown",
   "metadata": {},
   "source": [
    "### 문제이름\n",
    "괄호\n",
    "### 링크\n",
    "https://www.acmicpc.net/problem/9012\n",
    "### 예시 코드\n",
    "|input|result|\n",
    "|------|---|\n",
    "|6|\n",
    "(())())|NO\n",
    "(((()())()|NO\n",
    "(()())((()))|YES\n",
    "((()()(()))(((())))()|NO\n",
    "()()()()(()()())()|YES\n",
    "(()((())()(|NO"
   ]
  },
  {
   "cell_type": "code",
   "execution_count": null,
   "metadata": {},
   "outputs": [],
   "source": [
    "import sys\n",
    "\n",
    "t = int(sys.stdin.readline())\n",
    "\n",
    "for _ in range(t):\n",
    "    data = sys.stdin.readline().strip()\n",
    "    stack = []\n",
    "    \n",
    "    for d in data:\n",
    "        if d == \"(\":\n",
    "            stack.append(d)\n",
    "        else: # ) 인 경우\n",
    "            # 스택에 아무것도 없으면 vps가 아님\n",
    "            if len(stack) == 0:\n",
    "                stack.append(d) # 마지막에 yes에 걸리지 않게 하기 위해서\n",
    "                break #멈춘다.\n",
    "            else:\n",
    "                stack.pop()\n",
    "                \n",
    "    if len(stack) == 0:\n",
    "        print(\"YES\")\n",
    "    else:\n",
    "        print(\"NO\")\n",
    "        \n",
    "                "
   ]
  }
 ],
 "metadata": {
  "kernelspec": {
   "display_name": "base",
   "language": "python",
   "name": "python3"
  },
  "language_info": {
   "codemirror_mode": {
    "name": "ipython",
    "version": 3
   },
   "file_extension": ".py",
   "mimetype": "text/x-python",
   "name": "python",
   "nbconvert_exporter": "python",
   "pygments_lexer": "ipython3",
   "version": "3.10.9"
  }
 },
 "nbformat": 4,
 "nbformat_minor": 2
}
