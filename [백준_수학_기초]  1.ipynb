{
 "cells": [
  {
   "cell_type": "markdown",
   "metadata": {},
   "source": [
    "### 문제이름\n",
    "1\n",
    "### 링크\n",
    "https://www.acmicpc.net/problem/4375\n",
    "### 예시 코드\n",
    "|input|result|\n",
    "|------|---|\n",
    "|3<br>7<br>9901| 3<br>6<br>12"
   ]
  },
  {
   "cell_type": "code",
   "execution_count": null,
   "metadata": {},
   "outputs": [],
   "source": [
    "while True:\n",
    "    try:\n",
    "        n = int(input())\n",
    "    except:\n",
    "        break\n",
    "    ob = \"1\"\n",
    "    while True:\n",
    "        if int(ob)%n == 0:\n",
    "            print(len(ob))\n",
    "            break \n",
    "        else:\n",
    "            ob += \"1\""
   ]
  }
 ],
 "metadata": {
  "kernelspec": {
   "display_name": "base",
   "language": "python",
   "name": "python3"
  },
  "language_info": {
   "codemirror_mode": {
    "name": "ipython",
    "version": 3
   },
   "file_extension": ".py",
   "mimetype": "text/x-python",
   "name": "python",
   "nbconvert_exporter": "python",
   "pygments_lexer": "ipython3",
   "version": "3.10.9"
  }
 },
 "nbformat": 4,
 "nbformat_minor": 2
}
