{
 "cells": [
  {
   "cell_type": "markdown",
   "metadata": {},
   "source": [
    "### 문제이름\n",
    "영화감독 숌\n",
    "\n",
    "\n",
    "### 링크\n",
    "https://www.acmicpc.net/problem/1436\n",
    "\n",
    "\n",
    "### 예시 코드\n",
    "|input|result|\n",
    "|------|---|\n",
    "2|1666\n",
    "3|2666\n",
    "6|5666\n",
    "187|66666\n",
    "500|166699"
   ]
  },
  {
   "cell_type": "markdown",
   "metadata": {},
   "source": [
    "브루스 포스"
   ]
  },
  {
   "cell_type": "code",
   "execution_count": null,
   "metadata": {},
   "outputs": [],
   "source": [
    "# 자기 수에 3,6,9가 포함되어 있으면 수를 말하면서 그 개수만큼 박수를 쳐야한다.\n",
    "\n",
    "n = int(input())\n",
    "clab = [\"3\", \"6\", \"9\"]\n",
    "num = 1\n",
    "cnt = 0 \n",
    "\n",
    "while num != (n+1):\n",
    "    for x in str(num):\n",
    "        if x in clab:\n",
    "            cnt += 1\n",
    "    num += 1\n",
    "print(cnt)"
   ]
  },
  {
   "cell_type": "code",
   "execution_count": null,
   "metadata": {},
   "outputs": [],
   "source": [
    "# 자기 수에 3,6,9가 포함되어 있으면 수를 말하면서 그 개수만큼 박수를 쳐야한다.\n",
    "\n",
    "n = int(input())\n",
    "clab = [\"3\", \"6\", \"9\"]\n",
    "num = 1\n",
    "cnt = 0 \n",
    "\n",
    "while num != (n+1):\n",
    "    for x in clab:\n",
    "        cnt += str(num).count(x)\n",
    "    num += 1\n",
    "print(cnt)"
   ]
  },
  {
   "cell_type": "code",
   "execution_count": null,
   "metadata": {},
   "outputs": [],
   "source": [
    "num = int(input())\n",
    "num_list = map(str,[i for i in range(1,num+1)])\n",
    "\n",
    "clap = 0\n",
    "\n",
    "for i in num_list:\n",
    "    if '3' in i or '6' in i or '9' in i:\n",
    "        clap += i.count('3')\n",
    "        clap += i.count('6')\n",
    "        clap += i.count('9')\n",
    "    \n",
    "print(clap)"
   ]
  }
 ],
 "metadata": {
  "kernelspec": {
   "display_name": "base",
   "language": "python",
   "name": "base"
  },
  "language_info": {
   "codemirror_mode": {
    "name": "ipython",
    "version": 3
   },
   "file_extension": ".py",
   "mimetype": "text/x-python",
   "name": "python",
   "nbconvert_exporter": "python",
   "pygments_lexer": "ipython3",
   "version": "3.11.3"
  }
 },
 "nbformat": 4,
 "nbformat_minor": 2
}
