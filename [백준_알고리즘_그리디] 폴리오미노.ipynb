{
 "cells": [
  {
   "cell_type": "markdown",
   "metadata": {},
   "source": [
    "### 문제이름\n",
    "폴리오미노\n",
    "### 링크\n",
    "https://www.acmicpc.net/problem/1343\n",
    "### 예시 코드\n",
    "|input|result|\n",
    "|------|---|\n",
    "|XXXXXX|AAAABB|\n",
    "|XX.XX|BB.BB|\n",
    "|XXXX....XXX.....XX|-1|\n",
    "|XX.XXXXXXXXXX..XXXXXXXX...XXXXXX|BB.AAAAAAAABB..AAAAAAAA...AAAABB|\n",
    "|X|-1|"
   ]
  },
  {
   "cell_type": "code",
   "execution_count": 18,
   "metadata": {},
   "outputs": [
    {
     "name": "stdout",
     "output_type": "stream",
     "text": [
      "-1\n"
     ]
    }
   ],
   "source": [
    "#입력값 받기\n",
    "board = input()\n",
    "\n",
    "#조건 입력\n",
    "#X를 모두 덮어야 함, 보드판은 최대 50, 덮을 수 없으면 -1 출력\n",
    "#X가 4개면 1번을 넣고, 2개이하면 2번 넣기, 해당 안되면 -1\n",
    "\n",
    "result = board.replace(\"XXXX\", \"AAAA\")\n",
    "result = result.replace(\"XX\", \"BB\")\n",
    "if \"X\" in result:\n",
    "    result = -1\n",
    "    \n",
    "print(result) \n",
    "            \n"
   ]
  }
 ],
 "metadata": {
  "kernelspec": {
   "display_name": "base",
   "language": "python",
   "name": "python3"
  },
  "language_info": {
   "codemirror_mode": {
    "name": "ipython",
    "version": 3
   },
   "file_extension": ".py",
   "mimetype": "text/x-python",
   "name": "python",
   "nbconvert_exporter": "python",
   "pygments_lexer": "ipython3",
   "version": "3.10.9"
  }
 },
 "nbformat": 4,
 "nbformat_minor": 2
}
