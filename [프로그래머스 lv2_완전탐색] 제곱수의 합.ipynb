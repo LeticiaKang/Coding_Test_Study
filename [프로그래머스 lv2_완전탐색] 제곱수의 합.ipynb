{
 "cells": [
  {
   "cell_type": "markdown",
   "metadata": {},
   "source": [
    "### 문제이름\n",
    "제곱수의 합\n",
    "\n",
    "### 링크\n",
    "https://www.acmicpc.net/problem/1699\n",
    "\n",
    "### 예시 코드\n",
    "|input|result|\n",
    "|---|---|\n",
    "7|4|\n",
    "1|1|\n",
    "4|1\n",
    "11|3\n",
    "13|2"
   ]
  },
  {
   "cell_type": "code",
   "execution_count": 7,
   "metadata": {},
   "outputs": [],
   "source": [
    "import sys\n",
    "\n",
    "N = 12\n",
    "\n",
    "# 각각의 수를 1^2 으로 표현할때가 가장 큰 횟수이기 때문에 인덱스와 동일하게 x로 초기화\n",
    "dp = [x for x in range(N+1)]\n",
    "\n",
    "\n",
    "for i in range(1, N + 1):\n",
    "    for j in range(1, int(i**0.5 + 1)):\n",
    "\n",
    "        if dp[i] > (dp[i - j * j] + 1):\n",
    "            dp[i] = dp[i - j * j] + 1\n",
    "        \n",
    "print(dp[N])"
   ]
  }
 ],
 "metadata": {
  "kernelspec": {
   "display_name": "base",
   "language": "python",
   "name": "python3"
  },
  "language_info": {
   "codemirror_mode": {
    "name": "ipython",
    "version": 3
   },
   "file_extension": ".py",
   "mimetype": "text/x-python",
   "name": "python",
   "nbconvert_exporter": "python",
   "pygments_lexer": "ipython3",
   "version": "3.10.9"
  }
 },
 "nbformat": 4,
 "nbformat_minor": 2
}
