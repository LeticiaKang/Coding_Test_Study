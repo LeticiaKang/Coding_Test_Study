{
 "cells": [
  {
   "cell_type": "markdown",
   "metadata": {},
   "source": [
    "### 문제이름\n",
    "ATM\n",
    "### 링크\n",
    "https://www.acmicpc.net/problem/11399\n",
    "### 예시 코드\n",
    "|input|result|\n",
    "|------|---|\n",
    "|5|32|\n",
    "|3 1 4 3 2||"
   ]
  },
  {
   "cell_type": "code",
   "execution_count": null,
   "metadata": {},
   "outputs": [
    {
     "ename": "",
     "evalue": "",
     "output_type": "error",
     "traceback": [
      "\u001b[1;31m커널을 시작하지 못했습니다. \n",
      "\u001b[1;31mFailed to start the Kernel 'base (Python 3.11.3)'. \n",
      "\u001b[1;31mView Jupyter <a href='command:jupyter.viewOutput'>log</a> for further details. listen EFAULT: bad address in system call argument 127.0.0.1:9002"
     ]
    }
   ],
   "source": [
    "# atm에 n명의 사람이 있음, i번 사람이 돈 인출하는데 걸리는 시간은 pi\n",
    "\n",
    "n = int(input())\n",
    "time = sorted(list(map(int, input().split())))\n",
    "result = 0\n",
    "\n",
    "for t in time:\n",
    "    result += t*n\n",
    "    n -= 1\n",
    "\n",
    "print(result)"
   ]
  }
 ],
 "metadata": {
  "kernelspec": {
   "display_name": ".venv",
   "language": "python",
   "name": "python3"
  },
  "language_info": {
   "codemirror_mode": {
    "name": "ipython",
    "version": 3
   },
   "file_extension": ".py",
   "mimetype": "text/x-python",
   "name": "python",
   "nbconvert_exporter": "python",
   "pygments_lexer": "ipython3",
   "version": "3.11.3"
  }
 },
 "nbformat": 4,
 "nbformat_minor": 2
}
