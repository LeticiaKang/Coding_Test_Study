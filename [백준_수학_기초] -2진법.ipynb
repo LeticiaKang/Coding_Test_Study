{
 "cells": [
  {
   "cell_type": "markdown",
   "metadata": {},
   "source": [
    "### 문제이름\n",
    "-2진법\n",
    "### 링크\n",
    "https://www.acmicpc.net/problem/2089\n",
    "### 예시 코드\n",
    "|input|result|\n",
    "|------|---|\n",
    "|-13|110111"
   ]
  },
  {
   "cell_type": "code",
   "execution_count": null,
   "metadata": {},
   "outputs": [],
   "source": [
    "n = int(input())\n",
    "result = \"\"\n",
    "\n",
    "if n==0:\n",
    "    print(0)\n",
    "    exit()\n",
    "while n:\n",
    "    if n % (-2):\n",
    "        result = \"1\" + result\n",
    "        n = n//-2 + 1\n",
    "    else:\n",
    "        result = \"0\" + result\n",
    "        n = n//-2\n",
    "        \n",
    "print(result)"
   ]
  }
 ],
 "metadata": {
  "language_info": {
   "name": "python"
  }
 },
 "nbformat": 4,
 "nbformat_minor": 2
}
