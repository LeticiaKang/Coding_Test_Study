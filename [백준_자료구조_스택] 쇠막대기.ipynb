{
 "cells": [
  {
   "cell_type": "markdown",
   "metadata": {},
   "source": [
    "\n",
    "### 문제이름\n",
    "쇠막대기\n",
    "\n",
    "### 링크\n",
    "https://www.acmicpc.net/problem/10799\n",
    "\n",
    "### 예시 코드\n",
    "생략\n"
   ]
  },
  {
   "cell_type": "code",
   "execution_count": 3,
   "metadata": {},
   "outputs": [
    {
     "name": "stdout",
     "output_type": "stream",
     "text": [
      "['a', 'b', 'c', 'd', 'y', 'x']\n"
     ]
    }
   ],
   "source": [
    "from sys import stdin\n",
    "from collections import deque \n",
    "\n",
    "n = int(stdin.readline())\n",
    "box = deque()\n",
    "for _ in range(n):\n",
    "    com = stdin.readline().split()\n",
    "    if com[0] == \"push_front\":\n",
    "        box.appendleft(com[1])\n",
    "    elif com[0] == \"push_back\":\n",
    "        box.append(com[1])\n",
    "    elif com[0] == \"pop_front\":  \n",
    "        print(box.popleft()) if len(box)!=0 else print(-1)\n",
    "    elif com[0] == \"pop_back\": \n",
    "        print(box.pop()) if len(box)!=0 else print(-1)\n",
    "    elif com[0] == \"size\": \n",
    "        print(len(box))\n",
    "    elif com[0] == \"empty\":   \n",
    "        print(0) if len(box)!=0 else print(1)\n",
    "    elif com[0] == \"front\":   \n",
    "        print(box[0]) if (len(box)!=0) else print(-1)\n",
    "    elif com[0] == \"back\":   \n",
    "        print(box[-1]) if (len(box)!=0) else print(-1)        "
   ]
  }
 ],
 "metadata": {
  "kernelspec": {
   "display_name": "base",
   "language": "python",
   "name": "python3"
  },
  "language_info": {
   "codemirror_mode": {
    "name": "ipython",
    "version": 3
   },
   "file_extension": ".py",
   "mimetype": "text/x-python",
   "name": "python",
   "nbconvert_exporter": "python",
   "pygments_lexer": "ipython3",
   "version": "3.10.9"
  }
 },
 "nbformat": 4,
 "nbformat_minor": 2
}
