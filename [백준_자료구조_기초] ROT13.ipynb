{
 "cells": [
  {
   "cell_type": "markdown",
   "metadata": {},
   "source": [
    "### 문제이름\n",
    "ROT13\n",
    "### 링크\n",
    "https://www.acmicpc.net/problem/11655\n",
    "### 예시 코드\n",
    "|input|result|\n",
    "|------|---|\n",
    "|Baekjoon Online Judge| Onrxwbba Bayvar Whqtr|\n",
    "|One is 1|Bar vf 1"
   ]
  },
  {
   "cell_type": "code",
   "execution_count": null,
   "metadata": {},
   "outputs": [],
   "source": [
    "sen = input()\n",
    "result = \"\"\n",
    "\n",
    "for s in sen:\n",
    "    if s.isupper():\n",
    "        if 64 < ord(s) < 78:\n",
    "            result += chr(ord(s)+13)\n",
    "        else:\n",
    "            result += chr(ord(s)-13)\n",
    "    elif s.islower():\n",
    "        if 96 < ord(s) < 110:\n",
    "            result += chr(ord(s)+13)\n",
    "        else:\n",
    "            result += chr(ord(s)-13)\n",
    "    elif s.isnumeric():\n",
    "        result += s\n",
    "    elif s.isspace():\n",
    "        result += \" \"\n",
    "print(result)"
   ]
  }
 ],
 "metadata": {
  "language_info": {
   "name": "python"
  }
 },
 "nbformat": 4,
 "nbformat_minor": 2
}
