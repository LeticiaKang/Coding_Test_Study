{
 "cells": [
  {
   "cell_type": "markdown",
   "metadata": {},
   "source": [
    "### 문제이름\n",
    "사탕 게임\n",
    "\n",
    "### 링크\n",
    "https://www.acmicpc.net/problem/3085\n",
    "\n",
    "### 예시 코드\n",
    "|input|result|\n",
    "|---|---|\n",
    "3<br>CCP<br>CCP<br>PPC | 3\n",
    "4<br>PPPP<br>CYZY<br>CCPY<br>PPCC|4\n",
    "5<br>YCPZY<br>CYZZP<br>CCPPP<br>YCYZC<br>CPPZZ|4\n",
    "\n"
   ]
  },
  {
   "cell_type": "code",
   "execution_count": 64,
   "metadata": {},
   "outputs": [
    {
     "name": "stdout",
     "output_type": "stream",
     "text": [
      "4\n",
      "걸린시간 :  0.006002664566040039\n"
     ]
    }
   ],
   "source": [
    "from time import time\n",
    "start = time()\n",
    "\n",
    "import sys\n",
    "# CPZY = 빨파초노\n",
    "n = 5\n",
    "bom = [['Y', 'C', 'P', 'Z', 'Y'], ['C', 'Y', 'Z', 'Z', 'P'], ['C', 'C', 'P', 'P', 'P'], ['Y', 'C', 'Y', 'Z', 'C'], ['C', 'P', 'P', 'Z', 'Z']] #2차원 배열로 보드판 담기\n",
    "\n",
    "# 최대 몇 개의 사탕을 먹을 수 있는지 체크하는 함수\n",
    "def check(리스트):\n",
    "    answer = 0 #최대값을 저장하기\n",
    "    #행부터 체크 - (a,b)에서 a는 고정하고 b를 바꿔서 비교해야 함\n",
    "    for x in range(n):\n",
    "        cnt = 1 #시작점부터 체크하니까 기본값은 1\n",
    "        for y in range(n-1):\n",
    "            if 리스트[x][y] == 리스트[x][y+1]:\n",
    "                cnt += 1 #다음 사탕이 현재 위치와 같다면 +1\n",
    "\n",
    "            else: #다르다면\n",
    "                cnt = 1\n",
    "            if answer < cnt:\n",
    "            #초기화하기 전 answer에 저장해야 색깔별 최대값을 비교할 수 있다.\n",
    "                answer = cnt\n",
    "\n",
    "   #열 체크하기 - (a,b)에서 b는 고정하고 a를 바꿔서 비교해야 함\n",
    "    for x in range(n):\n",
    "        cnt = 1\n",
    "        for y in range(n-1):\n",
    "            if 리스트[y][x] == 리스트[y+1][x]: #현재위치와 다음거 비교\n",
    "                cnt += 1\n",
    "            else:\n",
    "                cnt = 1\n",
    "            if answer < cnt:\n",
    "                answer = cnt\n",
    "    return answer\n",
    "\n",
    "result = 0\n",
    "for x in range(n):\n",
    "    for y in range(n):\n",
    "        if y+1 < n:\n",
    "            bom[x][y], bom[x][y+1] = bom[x][y+1], bom[x][y]\n",
    "            temp = check(bom)\n",
    "            if result < temp:\n",
    "                result = temp\n",
    "            bom[x][y], bom[x][y+1] = bom[x][y+1], bom[x][y] #원상 복귀\n",
    "        if x+1 < n:\n",
    "            bom[x][y], bom[x+1][y] = bom[x+1][y], bom[x][y]\n",
    "            temp = check(bom)\n",
    "            if result < temp:\n",
    "                result = temp\n",
    "            bom[x][y], bom[x+1][y] = bom[x+1][y], bom[x][y] #원상 복귀\n",
    "\n",
    "print(result)\n",
    "\n",
    "end = time()\n",
    "print(\"걸린시간 : \", end - start)\n",
    "    "
   ]
  }
 ],
 "metadata": {
  "kernelspec": {
   "display_name": "base",
   "language": "python",
   "name": "python3"
  },
  "language_info": {
   "codemirror_mode": {
    "name": "ipython",
    "version": 3
   },
   "file_extension": ".py",
   "mimetype": "text/x-python",
   "name": "python",
   "nbconvert_exporter": "python",
   "pygments_lexer": "ipython3",
   "version": "3.10.9"
  }
 },
 "nbformat": 4,
 "nbformat_minor": 2
}
