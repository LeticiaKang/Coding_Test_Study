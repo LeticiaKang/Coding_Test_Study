{
 "cells": [
  {
   "cell_type": "markdown",
   "metadata": {},
   "source": [
    "### 문제이름\n",
    "회전 초밥\n",
    "\n",
    "\n",
    "### 링크\n",
    "https://www.acmicpc.net/problem/2531\n",
    "\n",
    "\n",
    "### 예시 코드\n",
    "|input|result|\n",
    "|------|---|\n",
    "8 30 4 30<br>7<br>9<br>7<br>30<br>2<br>7<br>9<br>25|5\n",
    "8 50 4 7<br>2<br>7<br>9<br>25<br>7<br>9<br>7<br>30|4\n"
   ]
  },
  {
   "cell_type": "markdown",
   "metadata": {},
   "source": [
    "브루스 포스  \n",
    "set에 add만 쓰는 것보다 슬라이싱과 set을 같이 사용하니까 더 빨랐다."
   ]
  },
  {
   "cell_type": "code",
   "execution_count": null,
   "metadata": {},
   "outputs": [],
   "source": [
    "import sys\n",
    "\n",
    "n, d, k, c = map(int, sys.stdin.readline().split())\n",
    "foods = [int(sys.stdin.readline()) for _ in range(n)]\n",
    "foods += foods[:k] #연속해서 먹는 경우를 고려하여 앞에 초밥의 개수를 붙여줌\n",
    "# 초밥을 먹는 경우를 생각해보\\면, 슬라이싱으로 자를 수 있는데, 그건 시간이 오래 걸리니까\n",
    "# set집합을 이용해서 add해보자\n",
    "result = 0\n",
    "for i in range(len(foods)-k):\n",
    "    unique = set(foods[i:i+k]) #0123, 1234, 2345, 이렇게 모든 경우를 돌아볼 거임\n",
    "    # 쿠폰이 들어가지 않았으면 추가해주기\n",
    "    unique.add(c)\n",
    "    # 최종 개수 비교하기\n",
    "    if result < len(unique):\n",
    "        result = len(unique)\n",
    "print(result)\n",
    "    "
   ]
  },
  {
   "cell_type": "markdown",
   "metadata": {},
   "source": [
    "시간을 줄이고 싶다."
   ]
  },
  {
   "cell_type": "code",
   "execution_count": null,
   "metadata": {},
   "outputs": [],
   "source": [
    "import sys\n",
    "\n",
    "n, d, k, c = map(int, sys.stdin.readline().split())\n",
    "foods = [int(sys.stdin.readline()) for _ in range(n)]\n",
    "\n",
    "# Set과 슬라이싱 이용하지 말고 풀어보기\n",
    "result = 0\n",
    "for x in range(n):\n",
    "    dp = [0] * (d+1) # 초밥의 종류가 1부터 시작되기 때문에 d+1을 해줌\n",
    "    dp[c] = 1        # 쿠폰으로 먹을 초밥의 종류를 1로, 먹었다고 체크하기\n",
    "    eat_cnt = 1      # 초밥을 1개 먹었기 때문에, 1로 셋팅\n",
    "    for y in range(x, x+k): # 슬라이싱을 사용하지 않으려면, for문으로 range(1, 5) 해줘야 함\n",
    "        food_kind = foods[y%n] # 먹은 초밥의 종류(8개만 있는데, 10이되면 8로 나눠서 시작점에서 2번째로 오게 한다.)\n",
    "        if not dp[food_kind]:\n",
    "            eat_cnt += 1\n",
    "        dp[food_kind] += 1    # 초밥 종류를 먹었다고 +1 해주기\n",
    "    result = max(result, eat_cnt) # 기존 최대 초밥 종류와 현재 먹은 종류 수 비교하기\n",
    "\n",
    "print(result)        \n",
    "    "
   ]
  }
 ],
 "metadata": {
  "kernelspec": {
   "display_name": "base",
   "language": "python",
   "name": "python3"
  },
  "language_info": {
   "codemirror_mode": {
    "name": "ipython",
    "version": 3
   },
   "file_extension": ".py",
   "mimetype": "text/x-python",
   "name": "python",
   "nbconvert_exporter": "python",
   "pygments_lexer": "ipython3",
   "version": "3.11.3"
  }
 },
 "nbformat": 4,
 "nbformat_minor": 2
}
