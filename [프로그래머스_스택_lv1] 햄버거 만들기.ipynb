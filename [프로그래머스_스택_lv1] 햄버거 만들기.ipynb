{
 "cells": [
  {
   "cell_type": "markdown",
   "metadata": {},
   "source": [
    "### 문제이름\n",
    "햄버거 만들기\n",
    "\n",
    "### 링크\n",
    "https://school.programmers.co.kr/learn/courses/30/lessons/133502\n",
    "\n",
    "### 예시 코드\n",
    "ingredient|\tresult\n",
    "|---|---|\t\n",
    "[2, 1, 1, 2, 3, 1, 2, 3, 1]\t|2\n",
    "[1, 3, 2, 1, 2, 1, 3, 1, 2]\t|0"
   ]
  },
  {
   "cell_type": "code",
   "execution_count": 22,
   "metadata": {},
   "outputs": [],
   "source": [
    "# 123 빵 야채 고기\n",
    "def solution(ingredient):\n",
    "    answer = 0\n",
    "    stack = []\n",
    "    for n in range(len(ingredient)):\n",
    "        stack.append(ingredient[n])\n",
    "        if stack[-4:] == [1,2,3,1]:\n",
    "            answer += 1\n",
    "            for _ in range(4):\n",
    "                stack.pop()\n",
    "    return answer"
   ]
  }
 ],
 "metadata": {
  "kernelspec": {
   "display_name": "base",
   "language": "python",
   "name": "python3"
  },
  "language_info": {
   "codemirror_mode": {
    "name": "ipython",
    "version": 3
   },
   "file_extension": ".py",
   "mimetype": "text/x-python",
   "name": "python",
   "nbconvert_exporter": "python",
   "pygments_lexer": "ipython3",
   "version": "3.10.9"
  }
 },
 "nbformat": 4,
 "nbformat_minor": 2
}
