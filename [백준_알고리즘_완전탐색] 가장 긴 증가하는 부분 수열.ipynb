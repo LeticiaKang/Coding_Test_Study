{
 "cells": [
  {
   "cell_type": "markdown",
   "metadata": {},
   "source": [
    "### 문제이름\n",
    "가장 긴 증가하는 부분 수열  \n",
    "\n",
    "### 링크\n",
    "https://www.acmicpc.net/problem/11053\n",
    "\n",
    "### 예시 코드\n",
    "|input|result|\n",
    "|------|---|\n",
    "6<br>10 20 10 30 20 50| 4\n"
   ]
  },
  {
   "cell_type": "markdown",
   "metadata": {},
   "source": [
    "1번재 시도 - 메모리 초과"
   ]
  },
  {
   "cell_type": "code",
   "execution_count": 1,
   "metadata": {},
   "outputs": [
    {
     "name": "stdout",
     "output_type": "stream",
     "text": [
      "4\n"
     ]
    }
   ],
   "source": [
    "# 입력값 : 수열 A의 길이 N / 수열 A\n",
    "# 가장 긴 증가하는 부분 수열의 길이\n",
    "\n",
    "#1. x번째 원소를 기준으로 증가하는 최대 길이의 부분수열을 구한다. -> 길이만 result에 저장한다\n",
    "#2. 해당 수열중 길이가 가장 긴 값을 반환한다.\n",
    "\n",
    "import sys\n",
    "\n",
    "# 1) 입력 받기\n",
    "n = 6\n",
    "sequence = [*map(int, \"10 20 10 30 20 50\".split())]\n",
    "result = []\n",
    "\n",
    "# 2) 수열의 원소를 하나씩 빼기\n",
    "for x in range(n):\n",
    "    part = [sequence[x]] #기준 원소 부분수열에 추가\n",
    "    for i in range(x+1, n): #기준 원소의 인덱스 다음 위치부터 비교\n",
    "        if part[-1] < sequence[i]: #마지막 원소보다 크면 \n",
    "            part.append(sequence[i]) #해당 인덱스의 원소를 부분수열에 넣기(증가하기 때문)\n",
    "    result.append(len(part)) #새성된 부분수열의 개수를 result에 넣기\n",
    "    \n",
    "print(max(result))"
   ]
  },
  {
   "cell_type": "markdown",
   "metadata": {},
   "source": [
    "2번째 시도 - 성공"
   ]
  },
  {
   "cell_type": "code",
   "execution_count": 7,
   "metadata": {},
   "outputs": [
    {
     "name": "stdout",
     "output_type": "stream",
     "text": [
      "4\n"
     ]
    }
   ],
   "source": [
    "# 입력값 : 수열 A의 길이 N / 수열 A\n",
    "# 가장 긴 증가하는 부분 수열의 길이\n",
    "\n",
    "#1. x번째 원소를 기준으로 증가하는 최대 길이의 부분수열을 구한다. -> 길이만 result에 저장한다\n",
    "#2. 해당 수열중 길이가 가장 긴 값을 반환한다.\n",
    "\n",
    "import sys\n",
    "\n",
    "# 1) 입력 받기\n",
    "n = 6\n",
    "sequence = [*map(int, \"10 20 10 30 20 50\".split())]\n",
    "dp = [1] * n\n",
    "\n",
    "for x in range(1, n):\n",
    "    for i in range(x):\n",
    "        if sequence[x] > sequence[i]:\n",
    "            dp[x] = max(dp[x], dp[i]+1)\n",
    "    \n",
    "print(max(dp))"
   ]
  }
 ],
 "metadata": {
  "kernelspec": {
   "display_name": "base",
   "language": "python",
   "name": "base"
  },
  "language_info": {
   "codemirror_mode": {
    "name": "ipython",
    "version": 3
   },
   "file_extension": ".py",
   "mimetype": "text/x-python",
   "name": "python",
   "nbconvert_exporter": "python",
   "pygments_lexer": "ipython3",
   "version": "3.11.3"
  }
 },
 "nbformat": 4,
 "nbformat_minor": 2
}
