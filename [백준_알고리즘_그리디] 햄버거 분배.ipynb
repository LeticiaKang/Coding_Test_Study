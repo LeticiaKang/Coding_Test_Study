{
 "cells": [
  {
   "cell_type": "markdown",
   "metadata": {},
   "source": [
    "### 문제이름\n",
    "햄버거 분배\n",
    "### 링크\n",
    "https://www.acmicpc.net/problem/19941\n",
    "### 예시 코드\n",
    "|input|result|input|result|\n",
    "|------|---|------|---|\n",
    "|20 1|8|20 2|7|\n",
    "|HHPHPPHHPPHPPPHPHPHP||HHHHHPPPPPHPHPHPHHHP||"
   ]
  },
  {
   "cell_type": "code",
   "execution_count": 22,
   "metadata": {},
   "outputs": [
    {
     "name": "stdout",
     "output_type": "stream",
     "text": [
      "[3, 3, 2]\n",
      "8\n"
     ]
    }
   ],
   "source": [
    "#사람들은 자신의 위치에서 거리가 k이하인 햄버거를 먹을 수 있음\n",
    "#식탁길이n, 햄버거 가능 거리k, 햄버거를 먹을 수 있는 최대수\n",
    "#1:n,k 2:사람(P)과 햄버거(H) 위치가 문자로\n",
    "\n",
    "n,k = map(int, input().split())\n",
    "position = list(input())\n",
    "result = 0\n",
    "\n",
    "for x in range(n):\n",
    "    if position[x]==\"P\":\n",
    "        for y in range(max(0, x-k), min(n, x+k+1)):\n",
    "            if position[y] == \"H\":\n",
    "                position[y] = \"-\"\n",
    "                result += 1\n",
    "                break\n",
    "\n",
    "print(result)"
   ]
  }
 ],
 "metadata": {
  "kernelspec": {
   "display_name": "base",
   "language": "python",
   "name": "python3"
  },
  "language_info": {
   "codemirror_mode": {
    "name": "ipython",
    "version": 3
   },
   "file_extension": ".py",
   "mimetype": "text/x-python",
   "name": "python",
   "nbconvert_exporter": "python",
   "pygments_lexer": "ipython3",
   "version": "3.11.3"
  }
 },
 "nbformat": 4,
 "nbformat_minor": 2
}
