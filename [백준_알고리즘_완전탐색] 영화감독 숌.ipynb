{
 "cells": [
  {
   "cell_type": "markdown",
   "metadata": {},
   "source": [
    "### 문제이름\n",
    "영화감독 숌\n",
    "\n",
    "\n",
    "### 링크\n",
    "https://www.acmicpc.net/problem/1436\n",
    "\n",
    "\n",
    "### 예시 코드\n",
    "|input|result|\n",
    "|------|---|\n",
    "2|1666\n",
    "3|2666\n",
    "6|5666\n",
    "187|66666\n",
    "500|166699"
   ]
  },
  {
   "cell_type": "markdown",
   "metadata": {},
   "source": [
    "브루스 포스"
   ]
  },
  {
   "cell_type": "code",
   "execution_count": 18,
   "metadata": {},
   "outputs": [
    {
     "name": "stdout",
     "output_type": "stream",
     "text": [
      "166699\n"
     ]
    }
   ],
   "source": [
    "n = int(input())\n",
    "num = 666\n",
    "cnt = 0\n",
    "\n",
    "while True:\n",
    "    if \"666\" in str(num):\n",
    "        cnt += 1\n",
    "        if cnt == n:\n",
    "            print(num)\n",
    "            break\n",
    "    num += 1\n",
    "        "
   ]
  }
 ],
 "metadata": {
  "kernelspec": {
   "display_name": "base",
   "language": "python",
   "name": "base"
  },
  "language_info": {
   "codemirror_mode": {
    "name": "ipython",
    "version": 3
   },
   "file_extension": ".py",
   "mimetype": "text/x-python",
   "name": "python",
   "nbconvert_exporter": "python",
   "pygments_lexer": "ipython3",
   "version": "3.11.3"
  }
 },
 "nbformat": 4,
 "nbformat_minor": 2
}
