{
 "cells": [
  {
   "cell_type": "markdown",
   "metadata": {},
   "source": [
    "### 문제이름\n",
    "합분해\n",
    "\n",
    "### 링크\n",
    "https://www.acmicpc.net/problem/2225\n",
    "\n",
    "### 예시 코드\n",
    "|input|result|\n",
    "|---|---|\n",
    "20 2| 21\n",
    "6 4|84"
   ]
  },
  {
   "cell_type": "code",
   "execution_count": 39,
   "metadata": {},
   "outputs": [],
   "source": [
    "import time"
   ]
  },
  {
   "cell_type": "markdown",
   "metadata": {},
   "source": [
    "1번째  - 실패 : 메모리 또는 시간 초과일 듯.."
   ]
  },
  {
   "cell_type": "code",
   "execution_count": 107,
   "metadata": {},
   "outputs": [
    {
     "name": "stdout",
     "output_type": "stream",
     "text": [
      "3421\n",
      "시간 :  0.002001047134399414\n"
     ]
    }
   ],
   "source": [
    "start_time = time.time()\n",
    "\n",
    "import sys\n",
    "from itertools import permutations\n",
    "A,B = \"1234 3456\".split()\n",
    "result = -1\n",
    "\n",
    "for case in permutations(list(A) , len(A)):\n",
    "    if case[0] == \"0\":\n",
    "        break\n",
    "    temp = int(\"\".join(case))\n",
    "    if (int(temp) < int(B)) and (int(temp) > result):\n",
    "        result = temp\n",
    "\n",
    "print(result)\n",
    "\n",
    "end_time = time.time()\n",
    "print(\"시간 : \", end_time - start_time)"
   ]
  },
  {
   "cell_type": "markdown",
   "metadata": {},
   "source": [
    "2번째  - 성공!\n",
    "- 조건문을 1개로 합쳤다. 특히 0으로 시작하면 바로 걸러지도록 한게 크게 작용한 거 같다."
   ]
  },
  {
   "cell_type": "code",
   "execution_count": 100,
   "metadata": {},
   "outputs": [
    {
     "name": "stdout",
     "output_type": "stream",
     "text": [
      "-1\n",
      "시간 :  0.0009131431579589844\n"
     ]
    }
   ],
   "source": [
    "start_time = time.time()\n",
    "\n",
    "import sys\n",
    "from itertools import permutations\n",
    "A,B = map(int, \"789 123\".split())\n",
    "A = str(A)\n",
    "result = -1\n",
    "\n",
    "for x in permutations(list(A), len(A)):\n",
    "    if (x[0] != \"0\") and (int(\"\".join(x)) < B) and (int(\"\".join(x)) > result):\n",
    "        result = int(\"\".join(x))\n",
    "\n",
    "print(result)\n",
    "\n",
    "end_time = time.time()\n",
    "print(\"시간 : \", end_time - start_time)"
   ]
  }
 ],
 "metadata": {
  "kernelspec": {
   "display_name": "base",
   "language": "python",
   "name": "python3"
  },
  "language_info": {
   "codemirror_mode": {
    "name": "ipython",
    "version": 3
   },
   "file_extension": ".py",
   "mimetype": "text/x-python",
   "name": "python",
   "nbconvert_exporter": "python",
   "pygments_lexer": "ipython3",
   "version": "3.10.9"
  }
 },
 "nbformat": 4,
 "nbformat_minor": 2
}
