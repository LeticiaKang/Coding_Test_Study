{
 "cells": [
  {
   "cell_type": "markdown",
   "metadata": {},
   "source": [
    "### 문제이름\n",
    "팩토리얼\n",
    "### 링크\n",
    "https://www.acmicpc.net/problem/10872\n",
    "### 예시 코드\n",
    "|input|result|\n",
    "|------|---|\n",
    "|10|3628800|\n",
    "|0|1|"
   ]
  },
  {
   "cell_type": "code",
   "execution_count": null,
   "metadata": {},
   "outputs": [],
   "source": [
    "# 첫번째 방법\n",
    "#import math\n",
    "#n = int(input())\n",
    "#print(math.factorial(n))\n",
    "\n",
    "#두번째 방법\n",
    "n = int(input())\n",
    "result = 1\n",
    "if n == 0:\n",
    "    result = 1\n",
    "else:\n",
    "    for a in range(1,n+1):\n",
    "        result *= a\n",
    "print(result)"
   ]
  }
 ],
 "metadata": {
  "language_info": {
   "name": "python"
  }
 },
 "nbformat": 4,
 "nbformat_minor": 2
}
