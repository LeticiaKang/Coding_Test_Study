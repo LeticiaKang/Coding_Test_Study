{
 "cells": [
  {
   "cell_type": "markdown",
   "metadata": {},
   "source": [
    "### 문제이름\n",
    "제로 \n",
    "\n",
    "\n",
    "### 링크\n",
    "https://www.acmicpc.net/problem/10773\n",
    "\n",
    "\n",
    "### 예시 코드\n",
    "|input|result|\n",
    "|------|---|\n",
    "4<br>3<br>0<br>4<br>0|0\n",
    "10<br>1<br>3<br>5<br>4<br>0<br>0<br>7<br>0<br>0<br>6|7"
   ]
  },
  {
   "cell_type": "markdown",
   "metadata": {},
   "source": [
    "자료구조 : 스택"
   ]
  },
  {
   "cell_type": "code",
   "execution_count": null,
   "metadata": {},
   "outputs": [],
   "source": [
    "import sys\n",
    "\n",
    "k = int(sys.stdin.readline())\n",
    "stack = []\n",
    "\n",
    "for _ in range(k):\n",
    "    money = int(sys.stdin.readline())\n",
    "    if money==0:\n",
    "        stack.pop()\n",
    "    else:\n",
    "        stack.append(money)\n",
    "\n",
    "print(sum(stack))"
   ]
  }
 ],
 "metadata": {
  "kernelspec": {
   "display_name": "base",
   "language": "python",
   "name": "python3"
  },
  "language_info": {
   "codemirror_mode": {
    "name": "ipython",
    "version": 3
   },
   "file_extension": ".py",
   "mimetype": "text/x-python",
   "name": "python",
   "nbconvert_exporter": "python",
   "pygments_lexer": "ipython3",
   "version": "3.10.9"
  }
 },
 "nbformat": 4,
 "nbformat_minor": 2
}
