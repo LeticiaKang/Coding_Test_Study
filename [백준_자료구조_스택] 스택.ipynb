{
 "cells": [
  {
   "cell_type": "markdown",
   "metadata": {},
   "source": [
    "### 문제이름\n",
    "스택\n",
    "\n",
    "### 링크\n",
    "https://www.acmicpc.net/problem/14916"
   ]
  },
  {
   "cell_type": "code",
   "execution_count": null,
   "metadata": {},
   "outputs": [],
   "source": [
    "import sys\n",
    "\n",
    "n = int(sys.stdin.readline())\n",
    "stack = []\n",
    "\n",
    "for _ in range(n):\n",
    "    command = sys.stdin.readline().split()\n",
    "    com = command[0]\n",
    "    \n",
    "    if com == \"push\":\n",
    "        stack.append(command[1])\n",
    "    \n",
    "    elif com == \"size\":\n",
    "        print(len(stack))\n",
    "        \n",
    "    elif com == \"pop\":\n",
    "        if not stack:\n",
    "            print(-1)\n",
    "        else:\n",
    "            print(stack.pop())\n",
    "            \n",
    "    elif com == \"top\":\n",
    "        if not stack:\n",
    "            print(-1)\n",
    "        else:\n",
    "            print(stack[-1])\n",
    "            \n",
    "    else: #empty\n",
    "        print(0 if stack else 1)"
   ]
  }
 ],
 "metadata": {
  "kernelspec": {
   "display_name": "base",
   "language": "python",
   "name": "python3"
  },
  "language_info": {
   "codemirror_mode": {
    "name": "ipython",
    "version": 3
   },
   "file_extension": ".py",
   "mimetype": "text/x-python",
   "name": "python",
   "nbconvert_exporter": "python",
   "pygments_lexer": "ipython3",
   "version": "3.10.9"
  }
 },
 "nbformat": 4,
 "nbformat_minor": 2
}
