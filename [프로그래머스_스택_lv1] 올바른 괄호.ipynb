{
 "cells": [
  {
   "cell_type": "markdown",
   "metadata": {},
   "source": [
    "### 문제이름\n",
    "올바른 괄호\n",
    "\n",
    "\n",
    "### 링크\n",
    "https://school.programmers.co.kr/learn/courses/30/lessons/12909\n",
    "\n",
    "### 예시 코드\n",
    "s\t|answer\n",
    "|---|---|\t\n",
    "\"()()\"|\ttrue\n",
    "\"(())()\"\t|true\n",
    "\")()(\"\t|false\n",
    "\"(()(\"\t|false"
   ]
  },
  {
   "cell_type": "code",
   "execution_count": 22,
   "metadata": {},
   "outputs": [],
   "source": [
    "def solution(string):\n",
    "    stack = []\n",
    "    for s in string:\n",
    "        stack.append(s)\n",
    "        if stack[-2:] == ['(', ')']:\n",
    "            for _ in range(2):\n",
    "                stack.pop()\n",
    "    if stack:\n",
    "        return False\n",
    "    return True"
   ]
  }
 ],
 "metadata": {
  "kernelspec": {
   "display_name": "base",
   "language": "python",
   "name": "python3"
  },
  "language_info": {
   "codemirror_mode": {
    "name": "ipython",
    "version": 3
   },
   "file_extension": ".py",
   "mimetype": "text/x-python",
   "name": "python",
   "nbconvert_exporter": "python",
   "pygments_lexer": "ipython3",
   "version": "3.10.9"
  }
 },
 "nbformat": 4,
 "nbformat_minor": 2
}
