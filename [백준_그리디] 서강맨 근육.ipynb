{
 "cells": [
  {
   "cell_type": "markdown",
   "metadata": {},
   "source": [
    "### 문제이름\n",
    "서강근육맨\n",
    "### 링크\n",
    "https://www.acmicpc.net/problem/20300\n",
    "### 예시 코드\n",
    "|input|result|\n",
    "|------|---|\n",
    "|5|5|\n",
    "|1 2 3 4 5||"
   ]
  },
  {
   "cell_type": "code",
   "execution_count": 22,
   "metadata": {},
   "outputs": [
    {
     "name": "stdout",
     "output_type": "stream",
     "text": [
      "[3, 3, 2]\n",
      "8\n"
     ]
    }
   ],
   "source": [
    "#pt를 한 번 받을 때, 운동기구를 최대 2개까지만 선택 가능\n",
    "#n개의 운동기구를 한 번 씩, 사용하고 싶음\n",
    "#근손실 정도가 M을 넘지 않도록 하고 싶음, \n",
    "#운동기구 두개를 사용할 때,근손실 정도는 두 기구의 근손실 합\n",
    "#1: 서강헬스클럽에 비치된 운동기구의 개수를 나타내는 정수n\n",
    "#2: 운동기구 근솔실 정도를 나타내는 정수들\n",
    "\n",
    "n = int(input())\n",
    "minus = list(map(int, input().split()))\n",
    "minus.sort()\n",
    "result = []\n",
    "\n",
    "if n%2 == 1: #홀수개일 때\n",
    "    result.append(minus.pop()) #가장 큰 값을 먼저 제거\n",
    "    \n",
    "for x in range(n-1):\n",
    "    temp = minus[x] + minus[-1-x]\n",
    "    result.append(temp)\n",
    "\n",
    "print(max(result))"
   ]
  }
 ],
 "metadata": {
  "kernelspec": {
   "display_name": "base",
   "language": "python",
   "name": "python3"
  },
  "language_info": {
   "codemirror_mode": {
    "name": "ipython",
    "version": 3
   },
   "file_extension": ".py",
   "mimetype": "text/x-python",
   "name": "python",
   "nbconvert_exporter": "python",
   "pygments_lexer": "ipython3",
   "version": "3.11.3"
  }
 },
 "nbformat": 4,
 "nbformat_minor": 2
}
