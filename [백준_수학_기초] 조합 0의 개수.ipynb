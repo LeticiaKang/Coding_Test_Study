{
 "cells": [
  {
   "cell_type": "markdown",
   "metadata": {},
   "source": [
    "### 문제이름\n",
    "조합 0의 개수\n",
    "### 링크\n",
    "https://www.acmicpc.net/problem/2004\n",
    "### 예시 코드\n",
    "|input|result|\n",
    "|------|---|\n",
    "|25 12| 2"
   ]
  },
  {
   "cell_type": "code",
   "execution_count": null,
   "metadata": {},
   "outputs": [],
   "source": [
    "a, b = map(int, input().split())\n",
    "big, small = max(a,b), min(a,b)\n",
    "gcd = 0\n",
    "# for x in range(min(a,b), 1, -1):\n",
    "#     if (a % x == 0) and (b % x == 0):\n",
    "#         print(x)\n",
    "#         print(int(a*b//x))\n",
    "#         break\n",
    "while True:\n",
    "    residue = big % small\n",
    "    big = small\n",
    "    small = residue\n",
    "    if residue == 0:\n",
    "        gcd = big\n",
    "        break\n",
    "print(gcd)\n",
    "print(a*b//gcd)\n"
   ]
  }
 ],
 "metadata": {
  "language_info": {
   "name": "python"
  }
 },
 "nbformat": 4,
 "nbformat_minor": 2
}
