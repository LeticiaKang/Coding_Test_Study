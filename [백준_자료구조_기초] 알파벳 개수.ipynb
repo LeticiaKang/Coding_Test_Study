{
 "cells": [
  {
   "cell_type": "markdown",
   "metadata": {},
   "source": [
    "\n",
    "### 문제이름\n",
    "알파벳 개수\n",
    "\n",
    "### 링크\n",
    "https://www.acmicpc.net/problem/10808\n",
    "\n",
    "### 예시 코드\n",
    "<입력>  \n",
    "baekjoon  \n",
    "<출력>  \n",
    "1 1 0 0 1 0 0 0 0 1 1 0 0 1 2 0 0 0 0 0 0 0 0 0 0 0\n"
   ]
  },
  {
   "cell_type": "code",
   "execution_count": 100,
   "metadata": {},
   "outputs": [],
   "source": [
    "sentence = input()\n",
    "result = [0]*26\n",
    "\n",
    "for s in sentence:\n",
    "    result[ord(s)-ord(\"a\")] += 1\n",
    "print(*result)"
   ]
  }
 ],
 "metadata": {
  "kernelspec": {
   "display_name": "base",
   "language": "python",
   "name": "python3"
  },
  "language_info": {
   "codemirror_mode": {
    "name": "ipython",
    "version": 3
   },
   "file_extension": ".py",
   "mimetype": "text/x-python",
   "name": "python",
   "nbconvert_exporter": "python",
   "pygments_lexer": "ipython3",
   "version": "3.10.9"
  }
 },
 "nbformat": 4,
 "nbformat_minor": 2
}
