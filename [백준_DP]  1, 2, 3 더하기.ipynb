{
 "cells": [
  {
   "cell_type": "markdown",
   "metadata": {},
   "source": [
    "### 문제이름\n",
    "1, 2, 3 더하기\n",
    "### 링크\n",
    "https://www.acmicpc.net/problem/9095\n",
    "### 예시 코드\n",
    "|input|result|\n",
    "|------|---|\n",
    "|3<br>4<br>7<br>10|7<br>44<br>274"
   ]
  },
  {
   "cell_type": "code",
   "execution_count": null,
   "metadata": {
    "vscode": {
     "languageId": "plaintext"
    }
   },
   "outputs": [],
   "source": [
    "n = int(input())\n",
    "nums = []\n",
    "for _ in range(n):\n",
    "    nums.append(int(input()))\n",
    "    \n",
    "dp = [0]*(max(nums)+1)\n",
    "\n",
    "dp[1] = 1\n",
    "dp[2] = 2\n",
    "dp[3] = 4\n",
    "\n",
    "for x in range(4,max(nums)+1):\n",
    "    dp[x] = dp[x-1] + dp[x-2] + dp[x-3]\n",
    "\n",
    "for num in nums:\n",
    "    print(dp[num])\n"
   ]
  }
 ],
 "metadata": {
  "kernelspec": {
   "display_name": ".venv",
   "language": "python",
   "name": "python3"
  },
  "language_info": {
   "codemirror_mode": {
    "name": "ipython",
    "version": 3
   },
   "file_extension": ".py",
   "mimetype": "text/x-python",
   "name": "python",
   "nbconvert_exporter": "python",
   "pygments_lexer": "ipython3",
   "version": "3.11.3"
  }
 },
 "nbformat": 4,
 "nbformat_minor": 2
}
