{
 "cells": [
  {
   "cell_type": "markdown",
   "metadata": {},
   "source": [
    "\n",
    "### 문제이름\n",
    "문자열 분석\n",
    "\n",
    "### 링크\n",
    "https://www.acmicpc.net/problem/10820\n",
    "\n",
    "### 예시 코드\n",
    "<입력>  \n",
    "This is String  \n",
    "SPACE    1    SPACE  \n",
    " S a M p L e I n P u T       \n",
    "0L1A2S3T4L5I6N7E8  \n",
    "<출력>  \n",
    "10 2 0 2  \n",
    "0 10 1 8  \n",
    "5 6 0 16  \n",
    "0 8 9 0  \n"
   ]
  },
  {
   "cell_type": "code",
   "execution_count": 100,
   "metadata": {},
   "outputs": [],
   "source": [
    "import sys\n",
    "\n",
    "sentences = map(lambda x: x.rstrip('\\n'),sys.stdin.readlines())\n",
    "\n",
    "for sentence in sentences:\n",
    "    result = [0] * 4 #소문자, 대문자, 숫자, 공백\n",
    "    for char in sentence:\n",
    "        if char.islower():\n",
    "            result[0] += 1\n",
    "        elif char.isupper():\n",
    "            result[1] += 1\n",
    "        elif char.isnumeric():\n",
    "            result[2] += 1\n",
    "        elif char.isspace():\n",
    "            result[3] += 1\n",
    "    print(*result)\n",
    "    "
   ]
  }
 ],
 "metadata": {
  "kernelspec": {
   "display_name": "base",
   "language": "python",
   "name": "python3"
  },
  "language_info": {
   "codemirror_mode": {
    "name": "ipython",
    "version": 3
   },
   "file_extension": ".py",
   "mimetype": "text/x-python",
   "name": "python",
   "nbconvert_exporter": "python",
   "pygments_lexer": "ipython3",
   "version": "3.10.9"
  }
 },
 "nbformat": 4,
 "nbformat_minor": 2
}
