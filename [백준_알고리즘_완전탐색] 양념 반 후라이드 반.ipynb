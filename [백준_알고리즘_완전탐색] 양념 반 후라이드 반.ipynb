{
 "cells": [
  {
   "cell_type": "markdown",
   "metadata": {},
   "source": [
    "### 문제이름\n",
    "양념 반 후라이드 반\n",
    "### 링크\n",
    "https://www.acmicpc.net/problem/16917\n",
    "### 예시 코드\n",
    "|input|result|\n",
    "|------|---|\n",
    "|1500 2000 1600 3 2|7900\n",
    "1500 2000 1900 3 2|8500\n",
    "1500 2000 500 90000 100000|100000000"
   ]
  },
  {
   "cell_type": "code",
   "execution_count": 1,
   "metadata": {},
   "outputs": [
    {
     "name": "stdout",
     "output_type": "stream",
     "text": [
      "3\n"
     ]
    }
   ],
   "source": [
    "a,b,c,x,y = map(int, input().split())\n",
    "# 양념, 후라이드, 반반, 양념 개수, 후라이드 개수\n",
    "result = []\n",
    "\n",
    "# 모든 경우의 수의 금액 구해서 최소값을 출력한다\n",
    "for i in range(0, max(x,y)*2+1, 2): #반반 치킨은 2개씩 사야해서 2씩 뛰어넘기\n",
    "    if x-(i/2) < 0:\n",
    "        pay = b*(y-(i/2)) + c*i\n",
    "    elif y-(i/2) < 0:\n",
    "        pay = a*(x-(i/2)) + c*i\n",
    "    else:\n",
    "        pay = a*(x-(i/2)) + b*(y-(i/2)) + c*i\n",
    "    result.append( pay)\n",
    "    #반반치킨을 i개 사면, 양념치킨은 (x-(i/2))개 사야함 \n",
    "\n",
    "print(int(min(result)))"
   ]
  }
 ],
 "metadata": {
  "kernelspec": {
   "display_name": "base",
   "language": "python",
   "name": "python3"
  },
  "language_info": {
   "codemirror_mode": {
    "name": "ipython",
    "version": 3
   },
   "file_extension": ".py",
   "mimetype": "text/x-python",
   "name": "python",
   "nbconvert_exporter": "python",
   "pygments_lexer": "ipython3",
   "version": "3.10.9"
  }
 },
 "nbformat": 4,
 "nbformat_minor": 2
}
