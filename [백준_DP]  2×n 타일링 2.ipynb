{
 "cells": [
  {
   "cell_type": "markdown",
   "metadata": {},
   "source": [
    "### 문제이름\n",
    "2×n 타일링 2\n",
    "### 링크\n",
    "https://www.acmicpc.net/problem/11727\n",
    "### 예시 코드\n",
    "|input|result|\n",
    "|------|---|\n",
    "|2|3|\n",
    "|8|171|\n",
    "|12|2731"
   ]
  },
  {
   "cell_type": "code",
   "execution_count": 1,
   "metadata": {},
   "outputs": [
    {
     "name": "stdout",
     "output_type": "stream",
     "text": [
      "2731\n"
     ]
    }
   ],
   "source": [
    "n = int(input())\n",
    "\n",
    "#피보나치 수열을 이용해야 한다\n",
    "dp = [0]*10001\n",
    "\n",
    "dp[1] = 1\n",
    "dp[2] = 3\n",
    "dp[3] = 5\n",
    "\n",
    "for x in range(4, n+1):\n",
    "    dp[x] = dp[x-1] + (dp[x-2]*2)\n",
    "\n",
    "print(dp[n]%10007)"
   ]
  }
 ],
 "metadata": {
  "kernelspec": {
   "display_name": ".venv",
   "language": "python",
   "name": "python3"
  },
  "language_info": {
   "codemirror_mode": {
    "name": "ipython",
    "version": 3
   },
   "file_extension": ".py",
   "mimetype": "text/x-python",
   "name": "python",
   "nbconvert_exporter": "python",
   "pygments_lexer": "ipython3",
   "version": "3.10.9"
  }
 },
 "nbformat": 4,
 "nbformat_minor": 2
}
