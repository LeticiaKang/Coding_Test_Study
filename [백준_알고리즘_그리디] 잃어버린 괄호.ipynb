{
 "cells": [
  {
   "cell_type": "markdown",
   "metadata": {},
   "source": [
    "### 문제이름\n",
    "잃어버린 괄호\n",
    "### 링크\n",
    "https://www.acmicpc.net/problem/1541\n",
    "### 예시 코드\n",
    "|input|result|\n",
    "|------|---|\n",
    "|55-50+40|-35|\n",
    "|10+20+30+40|100|\n",
    "|00009-00009|0|\n"
   ]
  },
  {
   "cell_type": "code",
   "execution_count": 4,
   "metadata": {},
   "outputs": [
    {
     "name": "stdout",
     "output_type": "stream",
     "text": [
      "-30\n"
     ]
    }
   ],
   "source": [
    "expression = input()\n",
    "except_minus = expression.split(\"-\")\n",
    "result = sum(map(int, except_minus[0].split(\"+\")))\n",
    "except_minus.pop(0)             \n",
    "\n",
    "for n in except_minus:\n",
    "    if \"+\" in n:\n",
    "        result -= sum(map(int, n.split(\"+\")))\n",
    "    else:\n",
    "        result -= int(n)\n",
    "\n",
    "print(result)"
   ]
  }
 ],
 "metadata": {
  "kernelspec": {
   "display_name": "base",
   "language": "python",
   "name": "python3"
  },
  "language_info": {
   "codemirror_mode": {
    "name": "ipython",
    "version": 3
   },
   "file_extension": ".py",
   "mimetype": "text/x-python",
   "name": "python",
   "nbconvert_exporter": "python",
   "pygments_lexer": "ipython3",
   "version": "3.10.9"
  }
 },
 "nbformat": 4,
 "nbformat_minor": 2
}
