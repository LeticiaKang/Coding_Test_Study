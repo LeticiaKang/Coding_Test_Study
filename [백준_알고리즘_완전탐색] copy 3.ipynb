{
 "cells": [
  {
   "cell_type": "markdown",
   "metadata": {},
   "source": [
    "### 문제이름\n",
    "감시\n",
    "\n",
    "### 링크\n",
    "https://www.acmicpc.net/problem/15683\n",
    "\n",
    "### 예시 코드\n",
    "|input|result|\n",
    "|---|---|\n",
    "4 6<br>0 0 0 0 0 0<br>0 0 0 0 0 0<br>0 0 1 0 6 0<br>0 0 0 0 0 0 | 20\n",
    "6 6<br>0 0 0 0 0 0<br>0 2 0 0 0 0<br>0 0 0 0 6 0<br>0 6 0 0 2 0<br>0 0 0 0 0 0<br>0 0 0 0 0 5|15\n"
   ]
  },
  {
   "cell_type": "code",
   "execution_count": 1,
   "metadata": {},
   "outputs": [],
   "source": [
    "import time\n",
    "start_time = time.time()\n",
    "\n",
    "n , m = 4, 6\n",
    "input = [['0', '0', '0', '0', '0', '0'],\n",
    "        ['0', '2', '0', '0', '0', '0'],\n",
    "        ['0', '0', '0', '0', '6', '0'],\n",
    "        ['0', '6', '0', '0', '2', '0'],\n",
    "        ['0', '0', '0', '0', '0', '0'],\n",
    "        ['0', '0', '0', '0', '0', '5']]\n",
    "\n",
    "dx = [-1, 1, 0, 0]\n",
    "dy = [0, 0, 1, -1 ]\n",
    "\n",
    "\n",
    "\n",
    "end_time = time.time()\n",
    "print(\"시간 : \", end_time - start_time)"
   ]
  }
 ],
 "metadata": {
  "kernelspec": {
   "display_name": "base",
   "language": "python",
   "name": "python3"
  },
  "language_info": {
   "codemirror_mode": {
    "name": "ipython",
    "version": 3
   },
   "file_extension": ".py",
   "mimetype": "text/x-python",
   "name": "python",
   "nbconvert_exporter": "python",
   "pygments_lexer": "ipython3",
   "version": "3.10.9"
  }
 },
 "nbformat": 4,
 "nbformat_minor": 2
}
