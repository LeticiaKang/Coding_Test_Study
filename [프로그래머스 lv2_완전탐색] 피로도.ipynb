{
 "cells": [
  {
   "cell_type": "markdown",
   "metadata": {},
   "source": [
    "### 문제이름\n",
    "피로도\n",
    "\n",
    "### 링크\n",
    "https://school.programmers.co.kr/learn/courses/30/lessons/87946\n",
    "\n",
    "### 예시 코드\n",
    "|k|dungeons|result|\n",
    "|---|---|---|\t\n",
    "|80\t|[[80,20],[50,40],[30,10]]\t|3"
   ]
  },
  {
   "cell_type": "code",
   "execution_count": 22,
   "metadata": {},
   "outputs": [],
   "source": [
    "from itertools import permutations\n",
    "def solution(k, dungeons):\n",
    "    answer = []\n",
    "    cases = permutations(dungeons, len(dungeons)) #주어진 던전의 경우의 수를 확인한다\n",
    "    \n",
    "    for case in cases: #경우의 수를 훑는다\n",
    "        energy, count = k, 0 # 경우의 수마다, enery는 k로 리셋되야 하고, count는 0번 이어야 한다\n",
    "        for dungeon in case: \n",
    "            if dungeon[0] <= energy: #해당 던전에 참여할 수 있으면\n",
    "                energy -= dungeon[1] # 던전 참여 후 체력을 구하고\n",
    "                count += 1 #던전에 참여했으므로 count를 1 올린다\n",
    "        answer.append(count)  #case가 끝난 후, count를 answer에 추가한다 \n",
    "\n",
    "    return max(answer)"
   ]
  }
 ],
 "metadata": {
  "kernelspec": {
   "display_name": "base",
   "language": "python",
   "name": "python3"
  },
  "language_info": {
   "codemirror_mode": {
    "name": "ipython",
    "version": 3
   },
   "file_extension": ".py",
   "mimetype": "text/x-python",
   "name": "python",
   "nbconvert_exporter": "python",
   "pygments_lexer": "ipython3",
   "version": "3.10.9"
  }
 },
 "nbformat": 4,
 "nbformat_minor": 2
}
