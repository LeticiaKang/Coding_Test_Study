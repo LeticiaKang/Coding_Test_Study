{
 "cells": [
  {
   "cell_type": "markdown",
   "metadata": {},
   "source": [
    "### 문제이름\n",
    "콜라츠 추측\n",
    "\n",
    "### 링크\n",
    "https://school.programmers.co.kr/learn/courses/30/lessons/12943\n",
    "\n",
    "### 예시 코드\n",
    "num\t|result\n",
    "|---|---|\t\n",
    "6\t|8\n",
    "16\t|4\n",
    "626331\t|-1"
   ]
  },
  {
   "cell_type": "code",
   "execution_count": 58,
   "metadata": {},
   "outputs": [],
   "source": [
    "def solution(num):\n",
    "    answer = 0\n",
    "    \n",
    "    if num == 1:\n",
    "        return 0\n",
    "    \n",
    "    while answer < 500:\n",
    "        answer += 1\n",
    "        if num % 2 == 0:\n",
    "            num = num//2\n",
    "        else:\n",
    "            num = num*3 + 1\n",
    "        if num == 1:\n",
    "            return answer\n",
    "    return -1"
   ]
  }
 ],
 "metadata": {
  "kernelspec": {
   "display_name": "base",
   "language": "python",
   "name": "base"
  },
  "language_info": {
   "codemirror_mode": {
    "name": "ipython",
    "version": 3
   },
   "file_extension": ".py",
   "mimetype": "text/x-python",
   "name": "python",
   "nbconvert_exporter": "python",
   "pygments_lexer": "ipython3",
   "version": "3.11.3"
  }
 },
 "nbformat": 4,
 "nbformat_minor": 2
}
