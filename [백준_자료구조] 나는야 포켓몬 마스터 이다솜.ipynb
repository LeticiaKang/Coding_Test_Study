{
 "cells": [
  {
   "cell_type": "markdown",
   "metadata": {},
   "source": [
    "### 문제이름\n",
    "나는야 포켓몬 마스터 이다솜\n",
    "### 링크\n",
    "https://www.acmicpc.net/problem/1620\n",
    "### 예시 코드\n",
    "생략\n"
   ]
  },
  {
   "cell_type": "code",
   "execution_count": null,
   "metadata": {},
   "outputs": [],
   "source": [
    "import sys\n",
    "input=sys.stdin.readline\n",
    "n, m=map(int, input().split())\n",
    "dic={}\n",
    "dic2={}\n",
    "\n",
    "for i in range(n):\n",
    "    name=input().strip()\n",
    "    dic[name]=(i+1)\n",
    "    dic2[i+1]=name\n",
    "\n",
    "for i in range(m):\n",
    "    action=input().strip()\n",
    "    if action.isdigit()==True:\n",
    "        print(dic2[int(action)])\n",
    "    if action.isalpha()==True:\n",
    "        print(dic[action])"
   ]
  },
  {
   "cell_type": "code",
   "execution_count": 10,
   "metadata": {},
   "outputs": [
    {
     "ename": "ValueError",
     "evalue": "not enough values to unpack (expected 2, got 0)",
     "output_type": "error",
     "traceback": [
      "\u001b[1;31m---------------------------------------------------------------------------\u001b[0m",
      "\u001b[1;31mValueError\u001b[0m                                Traceback (most recent call last)",
      "Cell \u001b[1;32mIn[10], line 3\u001b[0m\n\u001b[0;32m      1\u001b[0m \u001b[38;5;66;03m# 시간초과\u001b[39;00m\n\u001b[1;32m----> 3\u001b[0m n,m \u001b[38;5;241m=\u001b[39m \u001b[38;5;28mmap\u001b[39m(\u001b[38;5;28mint\u001b[39m, \u001b[38;5;28minput\u001b[39m()\u001b[38;5;241m.\u001b[39msplit())\n\u001b[0;32m      4\u001b[0m names \u001b[38;5;241m=\u001b[39m [\u001b[38;5;28minput\u001b[39m() \u001b[38;5;28;01mfor\u001b[39;00m x \u001b[38;5;129;01min\u001b[39;00m \u001b[38;5;28mrange\u001b[39m(n)]\n\u001b[0;32m      5\u001b[0m quizzes \u001b[38;5;241m=\u001b[39m [\u001b[38;5;28minput\u001b[39m() \u001b[38;5;28;01mfor\u001b[39;00m x \u001b[38;5;129;01min\u001b[39;00m \u001b[38;5;28mrange\u001b[39m(m)]\n",
      "\u001b[1;31mValueError\u001b[0m: not enough values to unpack (expected 2, got 0)"
     ]
    }
   ],
   "source": [
    "# 시간초과\n",
    "\n",
    "n,m = map(int, input().split())\n",
    "names = [input() for x in range(n)]\n",
    "quizzes = [input() for x in range(m)]\n",
    "results = []\n",
    "\n",
    "for q in quizzes:\n",
    "    if q.isalpha():\n",
    "        results.append(quizzes.index(q)+1)\n",
    "    else:\n",
    "        results.append(quizzes[int(q)-1])\n",
    "\n",
    "for r in results:\n",
    "    print(r)"
   ]
  }
 ],
 "metadata": {
  "kernelspec": {
   "display_name": "base",
   "language": "python",
   "name": "python3"
  },
  "language_info": {
   "codemirror_mode": {
    "name": "ipython",
    "version": 3
   },
   "file_extension": ".py",
   "mimetype": "text/x-python",
   "name": "python",
   "nbconvert_exporter": "python",
   "pygments_lexer": "ipython3",
   "version": "3.10.9"
  }
 },
 "nbformat": 4,
 "nbformat_minor": 2
}
