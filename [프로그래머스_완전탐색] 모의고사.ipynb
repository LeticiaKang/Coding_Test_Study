{
 "cells": [
  {
   "cell_type": "markdown",
   "metadata": {},
   "source": [
    "### 문제이름\n",
    "모의고사\n",
    "\n",
    "### 링크\n",
    "https://school.programmers.co.kr/learn/courses/30/lessons/42840\n",
    "\n",
    "### 예시 코드\n",
    "|input|result|\n",
    "|------|---|\n",
    "|[1,2,3,4,5]\t|[1]|\n",
    "|[1,3,2,4,2]|\t[1,2,3]|"
   ]
  },
  {
   "cell_type": "markdown",
   "metadata": {},
   "source": [
    "1번째 시도 - 런타임 에러"
   ]
  },
  {
   "cell_type": "code",
   "execution_count": 2,
   "metadata": {},
   "outputs": [],
   "source": [
    "def solution(answers):\n",
    "    # 1,2,3번의 수포자가 찍는 방식을 리스트로 만든다\n",
    "    supojas = [ [1,2,3,4,5], [2, 1, 2, 3, 2, 4, 2, 5], [3, 3, 1, 1, 2, 2, 4, 4, 5, 5] ]\n",
    "    winner = 0\n",
    "    score = []\n",
    "    result = []\n",
    "    \n",
    "    # 10000문제의 시험 중 맞춘 개수를 카운트 한다.\n",
    "    for i in range(3):\n",
    "        count = 0\n",
    "        for x in range(len(answers)):\n",
    "            if answers[x] == supojas[i][x]:\n",
    "                count += 1\n",
    "        score.append(count)\n",
    "    \n",
    "    for x in range(3):\n",
    "        if score[x] == max(score):\n",
    "            result.append(x+1)\n",
    "            \n",
    "    return sorted(result)"
   ]
  },
  {
   "cell_type": "markdown",
   "metadata": {},
   "source": [
    "2번째 시도 - 인덱스 범위를 벗어나 오류 발생, 수정 완료 : 성공"
   ]
  },
  {
   "cell_type": "code",
   "execution_count": null,
   "metadata": {},
   "outputs": [],
   "source": [
    "def solution(answers):\n",
    "    # 1,2,3번의 수포자가 찍는 방식을 리스트로 만든다\n",
    "    supojas = [ [1,2,3,4,5], [2, 1, 2, 3, 2, 4, 2, 5], [3, 3, 1, 1, 2, 2, 4, 4, 5, 5] ]\n",
    "    score = []\n",
    "    result = []\n",
    "    \n",
    "    # 10000문제의 시험 중 맞춘 개수를 카운트 한다.\n",
    "    for i in range(3):\n",
    "        count = 0\n",
    "        for x in range(len(answers)):            \n",
    "            if answers[x] == supojas[i][x%len(supojas[i])]:\n",
    "                count += 1\n",
    "        score.append(count)\n",
    "    \n",
    "    for x in range(3):\n",
    "        if score[x] == max(score):\n",
    "            result.append(x+1)\n",
    "            \n",
    "    return sorted(result)"
   ]
  }
 ],
 "metadata": {
  "kernelspec": {
   "display_name": "base",
   "language": "python",
   "name": "base"
  },
  "language_info": {
   "codemirror_mode": {
    "name": "ipython",
    "version": 3
   },
   "file_extension": ".py",
   "mimetype": "text/x-python",
   "name": "python",
   "nbconvert_exporter": "python",
   "pygments_lexer": "ipython3",
   "version": "3.11.3"
  }
 },
 "nbformat": 4,
 "nbformat_minor": 2
}
