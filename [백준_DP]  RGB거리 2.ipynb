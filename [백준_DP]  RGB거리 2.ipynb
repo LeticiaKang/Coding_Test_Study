{
 "cells": [
  {
   "cell_type": "markdown",
   "metadata": {},
   "source": [
    "### 문제이름\n",
    "RGB거리 2\n",
    "\n",
    "\n",
    "### 링크\n",
    "https://www.acmicpc.net/problem/17404\n",
    "\n",
    "### 예시 코드\n",
    "|input|result|\n",
    "|------|---|\n",
    "생략"
   ]
  },
  {
   "cell_type": "code",
   "execution_count": null,
   "metadata": {},
   "outputs": [],
   "source": [
    "import sys; import copy\n",
    "input = sys.stdin.readline\n",
    "n = int(input())\n",
    "rgb = [list(map(int, input().split())) for _ in range(n)]\n",
    "result = []\n",
    "cnt = 0\n",
    "starts = [[rgb[0][0], 100001, 100001], \n",
    "          [100001, rgb[0][1], 100001], \n",
    "          [100001, 100001, rgb[0][2]]]\n",
    "\n",
    "while cnt != 3:\n",
    "    test = copy.deepcopy(rgb)\n",
    "    test[0] = starts[cnt]\n",
    "    # 최소 비용 구하기\n",
    "    for x in range(1, n):\n",
    "        test[x][0] += min(test[x-1][1], test[x-1][2])\n",
    "        test[x][1] += min(test[x-1][0], test[x-1][2])\n",
    "        test[x][2] += min(test[x-1][0], test[x-1][1])\n",
    "    test[-1][cnt] = 100001\n",
    "    cnt += 1\n",
    "    result.append(min(test[-1]))\n",
    "print(min(result))"
   ]
  }
 ],
 "metadata": {
  "kernelspec": {
   "display_name": "base",
   "language": "python",
   "name": "python3"
  },
  "language_info": {
   "codemirror_mode": {
    "name": "ipython",
    "version": 3
   },
   "file_extension": ".py",
   "mimetype": "text/x-python",
   "name": "python",
   "nbconvert_exporter": "python",
   "pygments_lexer": "ipython3",
   "version": "3.11.3"
  }
 },
 "nbformat": 4,
 "nbformat_minor": 2
}
