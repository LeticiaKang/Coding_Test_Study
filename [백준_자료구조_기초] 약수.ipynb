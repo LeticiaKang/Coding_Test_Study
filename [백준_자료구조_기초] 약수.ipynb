{
 "cells": [
  {
   "cell_type": "markdown",
   "metadata": {},
   "source": [
    "\n",
    "### 문제이름\n",
    "약수\n",
    "\n",
    "### 링크\n",
    "https://www.acmicpc.net/problem/1037\n",
    "\n",
    "### 예시 코드\n",
    "|input|result|\n",
    "|------|---|\n",
    "|2 <br>4 2|8|\n",
    "|1 <br> 2|4|\n",
    "|6 <br> 3 4 2 12 6 8|24|\n",
    "|14 <br> 14 26456 2 28 13228 3307 7 23149 8 6614 46298 56 4 92596|185192"
   ]
  },
  {
   "cell_type": "code",
   "execution_count": 3,
   "metadata": {},
   "outputs": [
    {
     "name": "stdout",
     "output_type": "stream",
     "text": [
      "['a', 'b', 'c', 'd', 'y', 'x']\n"
     ]
    }
   ],
   "source": [
    "num = int(input().strip())\n",
    "divisor = list(map(int, input().strip().split()))\n",
    "divisor.sort() #정렬해야 원래 수를 구함\n",
    "\n",
    "print(divisor[0] * divisor[-1])\n"
   ]
  }
 ],
 "metadata": {
  "kernelspec": {
   "display_name": "base",
   "language": "python",
   "name": "python3"
  },
  "language_info": {
   "codemirror_mode": {
    "name": "ipython",
    "version": 3
   },
   "file_extension": ".py",
   "mimetype": "text/x-python",
   "name": "python",
   "nbconvert_exporter": "python",
   "pygments_lexer": "ipython3",
   "version": "3.10.9"
  }
 },
 "nbformat": 4,
 "nbformat_minor": 2
}
