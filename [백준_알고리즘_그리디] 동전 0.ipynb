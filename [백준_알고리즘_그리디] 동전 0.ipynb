{
 "cells": [
  {
   "cell_type": "markdown",
   "metadata": {},
   "source": [
    "### 문제이름\n",
    "동전 0\n",
    "### 링크\n",
    "https://www.acmicpc.net/problem/11047\n",
    "### 예시 코드\n",
    "|input|result|input|result|\n",
    "|------|---|------|---|\n",
    "|10 4200|6|10 4790| 12 |\n",
    "1| |1| |\n",
    "5| |5| |\n",
    "10| |10| |\n",
    "50| |50| |\n",
    "100| |100| |\n",
    "500| |500| |\n",
    "1000| |1000| |\n",
    "5000| |5000| |\n",
    "10000| |10000| |\n",
    "50000| |50000| |"
   ]
  },
  {
   "cell_type": "code",
   "execution_count": 13,
   "metadata": {},
   "outputs": [
    {
     "name": "stdout",
     "output_type": "stream",
     "text": [
      "1\n"
     ]
    }
   ],
   "source": [
    "# n개의 동전 보유, 각 동전은 무한함\n",
    "# 적절히 사용해 동전들의 가치 합을 k로, \n",
    "# 필요한 동전의 개수의 최솟값을 구하기\n",
    "# 1 : n 과 k , 2~ : 동전의 가치가 오름차순으로 주어짐\n",
    "\n",
    "n,k = map(int, input().split())\n",
    "values = [int(input()) for _ in range(n)]\n",
    "values.sort(reverse = True)\n",
    "count = 0\n",
    "\n",
    "for value in values:\n",
    "    if k//value > 0:\n",
    "        count += k//value\n",
    "        k = k%value\n",
    "        if k == 0:\n",
    "            break\n",
    "print(count)\n"
   ]
  }
 ],
 "metadata": {
  "kernelspec": {
   "display_name": "base",
   "language": "python",
   "name": "python3"
  },
  "language_info": {
   "codemirror_mode": {
    "name": "ipython",
    "version": 3
   },
   "file_extension": ".py",
   "mimetype": "text/x-python",
   "name": "python",
   "nbconvert_exporter": "python",
   "pygments_lexer": "ipython3",
   "version": "3.10.9"
  }
 },
 "nbformat": 4,
 "nbformat_minor": 2
}
