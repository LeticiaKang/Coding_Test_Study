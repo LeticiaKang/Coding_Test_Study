{
 "cells": [
  {
   "cell_type": "markdown",
   "metadata": {},
   "source": [
    "\n",
    "### 문제이름\n",
    "오등큰수\n",
    "\n",
    "### 링크\n",
    "https://www.acmicpc.net/problem/17299\n",
    "\n",
    "### 예시\n",
    "<입력>  \n",
    "7  \n",
    "1 1 2 3 4 2 1  \n",
    "<출력>  \n",
    "-1 -1 1 2 2 1 -1"
   ]
  },
  {
   "cell_type": "code",
   "execution_count": 100,
   "metadata": {},
   "outputs": [],
   "source": [
    "import sys\n",
    "from collections import Counter\n",
    "\n",
    "n = int(sys.stdin.readline())\n",
    "nums = list(map(int, sys.stdin.readline().split()))\n",
    "count = Counter(nums) #딕셔너리\n",
    "indexes = [0]\n",
    "result = [-1] * n\n",
    "\n",
    "for x in range(1,n):\n",
    "    while indexes and (count[nums[indexes[-1]]] < count[nums[x]]):\n",
    "        result[indexes.pop()] = nums[x]\n",
    "    indexes.append(x)\n",
    "print(*result)"
   ]
  }
 ],
 "metadata": {
  "kernelspec": {
   "display_name": "base",
   "language": "python",
   "name": "python3"
  },
  "language_info": {
   "codemirror_mode": {
    "name": "ipython",
    "version": 3
   },
   "file_extension": ".py",
   "mimetype": "text/x-python",
   "name": "python",
   "nbconvert_exporter": "python",
   "pygments_lexer": "ipython3",
   "version": "3.10.9"
  }
 },
 "nbformat": 4,
 "nbformat_minor": 2
}
