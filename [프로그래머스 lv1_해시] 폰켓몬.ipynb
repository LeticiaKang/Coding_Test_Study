{
 "cells": [
  {
   "cell_type": "markdown",
   "metadata": {},
   "source": [
    "### 문제이름\n",
    "폰켓몬\n",
    "\n",
    "### 링크\n",
    "https://school.programmers.co.kr/learn/courses/30/lessons/1845\n",
    "\n",
    "### 예시 코드\n",
    "|nums|result|\n",
    "|------|---|\n",
    "[3,1,2,3]|\t2|\n",
    "[3,3,3,2,2,4]|3|\n",
    "[3,3,3,2,2,2]|2|"
   ]
  },
  {
   "cell_type": "markdown",
   "metadata": {},
   "source": [
    "성공한 풀이"
   ]
  },
  {
   "cell_type": "code",
   "execution_count": 1,
   "metadata": {},
   "outputs": [],
   "source": [
    "def solution(nums): #n개중 n/2개를 가진다. 최대한 다양하게!\n",
    "    answer = \"\"\n",
    "    pocket = {}\n",
    "    \n",
    "    for n in nums: #포켓몬 개수를 사전으로 만들다\n",
    "        if n in pocket:\n",
    "            pocket[n] += 1\n",
    "        else:\n",
    "            pocket[n] = 1\n",
    "    \n",
    "    if len(pocket) >= len(nums)/2: #포켓몬 수가 N/2보다 크면, 최대값은 N/2를 넘길 수 없음\n",
    "        answer = len(nums)/2\n",
    "    else: #포켓몬의 수가 N/2보다 작으면, 최대값이 포켓몬 수\n",
    "        answer = len(pocket)\n",
    "        \n",
    "    return answer"
   ]
  }
 ],
 "metadata": {
  "kernelspec": {
   "display_name": "base",
   "language": "python",
   "name": "python3"
  },
  "language_info": {
   "codemirror_mode": {
    "name": "ipython",
    "version": 3
   },
   "file_extension": ".py",
   "mimetype": "text/x-python",
   "name": "python",
   "nbconvert_exporter": "python",
   "pygments_lexer": "ipython3",
   "version": "3.11.3"
  }
 },
 "nbformat": 4,
 "nbformat_minor": 2
}
