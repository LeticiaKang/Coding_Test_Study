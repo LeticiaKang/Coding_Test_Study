{
 "cells": [
  {
   "cell_type": "markdown",
   "metadata": {},
   "source": [
    "### 문제이름\n",
    "접미사 배열\n",
    "### 링크\n",
    "https://www.acmicpc.net/problem/11656\n",
    "### 예시 코드\n",
    "|input|result|\n",
    "|------|---|\n",
    "|baekjoon| aekjoon <br>baekjoon<br>ekjoon<br>joon<br>kjoon<br>n<br>on<br>oon<br>"
   ]
  },
  {
   "cell_type": "code",
   "execution_count": null,
   "metadata": {},
   "outputs": [],
   "source": [
    "sen = input()\n",
    "results = []\n",
    "\n",
    "for x in range(len(sen)):\n",
    "    results.append(sen[x:])\n",
    "\n",
    "results.sort()\n",
    "\n",
    "for result in results:\n",
    "    print(result)"
   ]
  }
 ],
 "metadata": {
  "language_info": {
   "name": "python"
  }
 },
 "nbformat": 4,
 "nbformat_minor": 2
}
