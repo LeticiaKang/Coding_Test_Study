{
 "cells": [
  {
   "cell_type": "markdown",
   "metadata": {},
   "source": [
    "### 문제이름\n",
    "가장 긴 감소하는 부분 수열\n",
    "\n",
    "\n",
    "### 링크\n",
    "https://www.acmicpc.net/problem/11722\n",
    "\n",
    "### 예시 코드\n",
    "|input|result|\n",
    "|------|---|\n",
    "6<br>10 30 10 20 20 10|3"
   ]
  },
  {
   "cell_type": "code",
   "execution_count": null,
   "metadata": {},
   "outputs": [],
   "source": [
    "import sys\n",
    "input = sys.stdin.readline\n",
    "n = int(input())\n",
    "arr = list(map(int, input().split()))\n",
    "dp = [1] * (n) #나 자신 포함해서 기본 1\n",
    "for x in range(1, n):\n",
    "    for y in range(x):\n",
    "        if arr[x] < arr[y]:\n",
    "            dp[x] = max(dp[x], dp[y]+1) # y번째 수보다 작으므로 최대값에 +1\n",
    "print(max(dp))"
   ]
  }
 ],
 "metadata": {
  "kernelspec": {
   "display_name": "base",
   "language": "python",
   "name": "python3"
  },
  "language_info": {
   "codemirror_mode": {
    "name": "ipython",
    "version": 3
   },
   "file_extension": ".py",
   "mimetype": "text/x-python",
   "name": "python",
   "nbconvert_exporter": "python",
   "pygments_lexer": "ipython3",
   "version": "3.11.3"
  }
 },
 "nbformat": 4,
 "nbformat_minor": 2
}
