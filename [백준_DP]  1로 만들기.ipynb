{
 "cells": [
  {
   "cell_type": "markdown",
   "metadata": {},
   "source": [
    "### 문제이름\n",
    "1로 만들기\n",
    "\n",
    "### 링크\n",
    "https://www.acmicpc.net/problem/1463\n",
    "\n",
    "### 예시 코드\n",
    "|input|result|\n",
    "|------|---|\n",
    "|2| 1\n",
    "|10|3"
   ]
  },
  {
   "cell_type": "markdown",
   "metadata": {},
   "source": [
    "1번째 풀이(시간초과)"
   ]
  },
  {
   "cell_type": "code",
   "execution_count": 4,
   "metadata": {},
   "outputs": [
    {
     "name": "stdout",
     "output_type": "stream",
     "text": [
      "3\n"
     ]
    }
   ],
   "source": [
    "n = int(input())\n",
    "count = 0\n",
    "\n",
    "while n != 1:\n",
    "    if n%3==0:\n",
    "        n = n//3\n",
    "        count +=1\n",
    "    elif (n-1)%3 == 0:\n",
    "        n = (n-1)//3\n",
    "        count += 2\n",
    "    elif n%2 == 0:\n",
    "        n = n // 2\n",
    "        count += 1\n",
    "    elif (n-1)%2 == 0:\n",
    "        n = (n-1)//2\n",
    "        count += 2\n",
    "    else:\n",
    "        n = n-1 \n",
    "        count += 1\n",
    "        \n",
    "print(count)"
   ]
  },
  {
   "cell_type": "markdown",
   "metadata": {},
   "source": [
    "2번째 풀이(성공)"
   ]
  },
  {
   "cell_type": "code",
   "execution_count": 6,
   "metadata": {},
   "outputs": [
    {
     "name": "stdout",
     "output_type": "stream",
     "text": [
      "3\n"
     ]
    }
   ],
   "source": [
    "import sys\n",
    "\n",
    "n = int(sys.stdin.readline())\n",
    "\n",
    "dp = [0] * (n+1) \n",
    "\n",
    "dp[1] = 0\n",
    "dp[2] = 1\n",
    "dp[3] = 1\n",
    "\n",
    "# dp 0부터 1000001(제한된 수)까지 하나씩 만들어 나가기\n",
    "for i in range(4, n+1):\n",
    "    dp[i] = dp[i-1]+1 #4는 (4에서 1만 빼면 3이된다. 5에서 1만 빼면 4가 된다)\n",
    "    \n",
    "    if i % 2 == 0:\n",
    "        dp[i] = min(dp[i], dp[i//2]+1) \n",
    "        #내가 처음 저장했던 값과, 기존에 저장된 연산 최소값을 이용해 찾아준다(+1은 2로 나눴기 때문에 해준거임)\n",
    "    \n",
    "    if i%3 == 0:\n",
    "        dp[i] = min(dp[i], dp[i//3]+1) \n",
    "        \n",
    "print(dp[n])"
   ]
  }
 ],
 "metadata": {
  "kernelspec": {
   "display_name": "base",
   "language": "python",
   "name": "base"
  },
  "language_info": {
   "codemirror_mode": {
    "name": "ipython",
    "version": 3
   },
   "file_extension": ".py",
   "mimetype": "text/x-python",
   "name": "python",
   "nbconvert_exporter": "python",
   "pygments_lexer": "ipython3",
   "version": "3.11.3"
  }
 },
 "nbformat": 4,
 "nbformat_minor": 2
}
