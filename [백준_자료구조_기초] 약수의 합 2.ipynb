{
 "cells": [
  {
   "cell_type": "markdown",
   "metadata": {},
   "source": [
    "\n",
    "### 문제이름\n",
    "약수의 합 2\n",
    "\n",
    "### 링크\n",
    "https://www.acmicpc.net/problem/17427\n",
    "\n",
    "### 예시 코드\n",
    "|input|result|\n",
    "|------|---|\n",
    "|1|1|\n",
    "|2|4|\n",
    "|10|87|\n",
    "|70|4065"
   ]
  },
  {
   "cell_type": "code",
   "execution_count": 3,
   "metadata": {},
   "outputs": [
    {
     "name": "stdout",
     "output_type": "stream",
     "text": [
      "['a', 'b', 'c', 'd', 'y', 'x']\n"
     ]
    }
   ],
   "source": [
    "num = int(input())\n",
    "result = 0\n",
    "# 1\n",
    "# 1 2\n",
    "# 1 3\n",
    "# 1 2 4\n",
    "# 1 5\n",
    "# 1 2 3 6\n",
    "for x in range(1,num+1):\n",
    "    result += x*(num//x)\n",
    "\n",
    "print(result)"
   ]
  }
 ],
 "metadata": {
  "kernelspec": {
   "display_name": "base",
   "language": "python",
   "name": "python3"
  },
  "language_info": {
   "codemirror_mode": {
    "name": "ipython",
    "version": 3
   },
   "file_extension": ".py",
   "mimetype": "text/x-python",
   "name": "python",
   "nbconvert_exporter": "python",
   "pygments_lexer": "ipython3",
   "version": "3.10.9"
  }
 },
 "nbformat": 4,
 "nbformat_minor": 2
}
