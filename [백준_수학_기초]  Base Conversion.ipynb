{
 "cells": [
  {
   "cell_type": "markdown",
   "metadata": {},
   "source": [
    "### 문제이름\n",
    "Base conversion\n",
    "### 링크\n",
    "https://www.acmicpc.net/problem/11576\n",
    "### 예시 코드\n",
    "|input|result|\n",
    "|------|---|\n",
    "|17 8<br>2<br>2 16| 6 2"
   ]
  },
  {
   "cell_type": "markdown",
   "metadata": {},
   "source": [
    "1번재 시도(실패) - 메모리 초과"
   ]
  },
  {
   "cell_type": "code",
   "execution_count": 4,
   "metadata": {},
   "outputs": [
    {
     "name": "stdout",
     "output_type": "stream",
     "text": [
      "60466175\n"
     ]
    }
   ],
   "source": [
    "import sys\n",
    "\n",
    "def convert(num, base):\n",
    "    result = []\n",
    "    q,r = divmod(num, base)\n",
    "    if q == 0:\n",
    "        result.append(r)\n",
    "        return result\n",
    "    else:\n",
    "        result.append(r)\n",
    "        result.append(divmod(q, base)[1])\n",
    "        return result\n",
    "        \n",
    "# 입력값 받기\n",
    "A, B = map(int, input().split())\n",
    "n = int(input())\n",
    "nums = list(map(int, input().split()))[::-1]\n",
    "origin = 0 #10진수가 저장될 변수\n",
    "\n",
    "for x in range(n): #A진수를 10진수로 변환하기\n",
    "    origin += nums[x]*(A**x)\n",
    "\n",
    "#B진수 변환하기\n",
    "print(' '.join(map(str, convert(origin, B))))   "
   ]
  },
  {
   "cell_type": "markdown",
   "metadata": {},
   "source": [
    "2번째 시도(성공)"
   ]
  },
  {
   "cell_type": "code",
   "execution_count": 36,
   "metadata": {},
   "outputs": [
    {
     "name": "stdout",
     "output_type": "stream",
     "text": [
      "6 2\n"
     ]
    }
   ],
   "source": [
    "import sys\n",
    "        \n",
    "# 입력값 받기\n",
    "A, B = map(int, sys.stdin.readline().split())\n",
    "n = int(sys.stdin.readline())\n",
    "nums = list(map(int, sys.stdin.readline().split()))[::-1]\n",
    "origin = 0 #10진수가 저장될 변수\n",
    "\n",
    "for x in range(n): #A진수를 10진수로 변환하기\n",
    "    origin += nums[x]*(A**x)\n",
    "\n",
    "#B진수 변환하기\n",
    "result = []\n",
    "while origin != 0:\n",
    "    q, r = divmod(origin, B)\n",
    "    result.append(r) #나머지 넣기\n",
    "    origin = q\n",
    "    \n",
    "\n",
    "#출력\n",
    "print(' '.join(map(str, result[::-1])))   "
   ]
  }
 ],
 "metadata": {
  "kernelspec": {
   "display_name": "base",
   "language": "python",
   "name": "base"
  },
  "language_info": {
   "codemirror_mode": {
    "name": "ipython",
    "version": 3
   },
   "file_extension": ".py",
   "mimetype": "text/x-python",
   "name": "python",
   "nbconvert_exporter": "python",
   "pygments_lexer": "ipython3",
   "version": "3.11.3"
  }
 },
 "nbformat": 4,
 "nbformat_minor": 2
}
