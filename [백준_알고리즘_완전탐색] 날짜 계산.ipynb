{
 "cells": [
  {
   "cell_type": "markdown",
   "metadata": {},
   "source": [
    "### 문제이름\n",
    "날짜 계산\n",
    "### 링크\n",
    "https://www.acmicpc.net/problem/1476\n",
    "### 예시 코드\n",
    "|input|result|\n",
    "|------|---|\n",
    "|1 16 16|16\n",
    "1 16 16|1|\n",
    "1 2 3|5266\n",
    "15 28 19|7980\n"
   ]
  },
  {
   "cell_type": "code",
   "execution_count": 7,
   "metadata": {},
   "outputs": [
    {
     "name": "stdout",
     "output_type": "stream",
     "text": [
      "5266\n"
     ]
    }
   ],
   "source": [
    "# ESM = 지구, 태양, 달 - ~15, ~28, ~19\n",
    "# 1년이 지날때마다 3개 모두 +1\n",
    "import sys\n",
    "\n",
    "ESM = list(map(int, \"1 2 3\".split()))\n",
    "dp = [1,1,1]\n",
    "limit = [15, 28, 19]\n",
    "year = 1\n",
    "# 답이 나올 때까지 탐색하기\n",
    "while True:\n",
    "    if dp == ESM:\n",
    "        print(year)\n",
    "        break\n",
    "    else:\n",
    "        for x in range(3):\n",
    "            dp[x] += 1\n",
    "            if dp[x] > limit[x]:\n",
    "                dp[x] -= limit[x]\n",
    "        year += 1\n"
   ]
  }
 ],
 "metadata": {
  "kernelspec": {
   "display_name": "base",
   "language": "python",
   "name": "python3"
  },
  "language_info": {
   "codemirror_mode": {
    "name": "ipython",
    "version": 3
   },
   "file_extension": ".py",
   "mimetype": "text/x-python",
   "name": "python",
   "nbconvert_exporter": "python",
   "pygments_lexer": "ipython3",
   "version": "3.10.9"
  }
 },
 "nbformat": 4,
 "nbformat_minor": 2
}
