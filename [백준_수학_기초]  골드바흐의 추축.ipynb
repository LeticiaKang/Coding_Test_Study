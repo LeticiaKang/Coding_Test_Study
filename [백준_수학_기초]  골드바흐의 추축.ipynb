{
 "cells": [
  {
   "cell_type": "markdown",
   "metadata": {},
   "source": [
    "### 문제이름\n",
    "골드바희의 추축\n",
    "### 링크\n",
    "https://www.acmicpc.net/problem/6588\n",
    "### 예시 코드\n",
    "|input|result|\n",
    "|------|---|\n",
    "|8<br>20<br>42<br>0|8 = 3 + 5<br>20 = 3 + 17<br>42 = 5 + 37"
   ]
  },
  {
   "cell_type": "markdown",
   "metadata": {},
   "source": [
    "1번째 도전 - 실패, 시간 초과"
   ]
  },
  {
   "cell_type": "code",
   "execution_count": 35,
   "metadata": {},
   "outputs": [
    {
     "name": "stdout",
     "output_type": "stream",
     "text": [
      "7 = 5 + 2\n",
      "8 = 3 + 5\n"
     ]
    }
   ],
   "source": [
    "def isPrime(num):\n",
    "    if num == 1:\n",
    "        return False\n",
    "    else:\n",
    "        for n in range(2, int(num**(1/2))+1):\n",
    "            if num%n==0:\n",
    "                return False\n",
    "    return True\n",
    "\n",
    "nums = []\n",
    "while True:\n",
    "    n = int(input())\n",
    "    if n == 0:\n",
    "        break\n",
    "    nums.append(n)\n",
    "    \n",
    "primes = []\n",
    "for x in range(1, max(nums)+1):\n",
    "    if isPrime(x):\n",
    "        primes.append(x) \n",
    "\n",
    "for num in nums:\n",
    "    k = 0\n",
    "    result = 0\n",
    "    while True:\n",
    "        if (num - primes[k]) in primes:\n",
    "            print(f\"{num} = {primes[k]} + {num - primes[k]}\")\n",
    "            break\n",
    "        else:\n",
    "            k+=1"
   ]
  },
  {
   "cell_type": "markdown",
   "metadata": {},
   "source": [
    "2번째 도전 - 성공"
   ]
  },
  {
   "cell_type": "code",
   "execution_count": null,
   "metadata": {},
   "outputs": [],
   "source": [
    "import sys\n",
    "\n",
    "number = [True] * 1000001\n",
    "\n",
    "# 소수 list\n",
    "for i in range(2, int(len(number) ** 0.5) + 1):\n",
    "    if number[i]:\n",
    "        for j in range(2 * i, 1000001, i):\n",
    "            number[j] = False\n",
    "            \n",
    "while True:\n",
    "    n = int(sys.stdin.readline())\n",
    "    if n==0:\n",
    "        break\n",
    "    else:\n",
    "        for i in range(n - 3, 2, -2):\n",
    "            if number[i] and number[n-i]:\n",
    "                print(f\"{n} = {n-i} + {i}\")\n",
    "                break\n",
    "        else:\n",
    "            print('\"Goldbach\\'s conjecture is wrong.\"')"
   ]
  }
 ],
 "metadata": {
  "kernelspec": {
   "display_name": "base",
   "language": "python",
   "name": "python3"
  },
  "language_info": {
   "codemirror_mode": {
    "name": "ipython",
    "version": 3
   },
   "file_extension": ".py",
   "mimetype": "text/x-python",
   "name": "python",
   "nbconvert_exporter": "python",
   "pygments_lexer": "ipython3",
   "version": "3.10.9"
  }
 },
 "nbformat": 4,
 "nbformat_minor": 2
}
