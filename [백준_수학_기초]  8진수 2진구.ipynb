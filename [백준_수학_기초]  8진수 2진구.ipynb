{
 "cells": [
  {
   "cell_type": "markdown",
   "metadata": {},
   "source": [
    "### 문제이름\n",
    "8진수 2진수\n",
    "### 링크\n",
    "https://www.acmicpc.net/problem/1212\n",
    "### 예시 코드\n",
    "|input|result|\n",
    "|------|---|\n",
    "|314| 11001100"
   ]
  },
  {
   "cell_type": "code",
   "execution_count": null,
   "metadata": {},
   "outputs": [],
   "source": [
    "num = int(input(), 8)\n",
    "print(bin(num)[2:])"
   ]
  }
 ],
 "metadata": {
  "language_info": {
   "name": "python"
  }
 },
 "nbformat": 4,
 "nbformat_minor": 2
}
