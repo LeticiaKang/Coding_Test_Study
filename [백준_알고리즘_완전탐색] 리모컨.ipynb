{
 "cells": [
  {
   "cell_type": "markdown",
   "metadata": {},
   "source": [
    "### 문제이름\n",
    "리모컨\n",
    "\n",
    "### 링크\n",
    "https://www.acmicpc.net/problem/1107\n",
    "\n",
    "### 예시 코드\n",
    "|input|result|\n",
    "|------|---|\n",
    "5457<br>3<br>6 7 8|6\n",
    "100<br>5<br>0 1 2 3 4|0\n",
    "500000<br>8<br>0 2 3 4 6 7 8 9|11117\n",
    "100<br>3<br>1 0 5|0\n",
    "14124<br>05|5\n",
    "1<br>9<br>1 2 3 4 5 6 7 8 9|2\n",
    "80000<br>2<br>8 9|2228"
   ]
  },
  {
   "cell_type": "markdown",
   "metadata": {},
   "source": [
    "1번째 - 절대값으로 최소의 차이를 구해주면, 80000 같은 경우 77777이 아닌 70000을 구해 오류가 발생한다"
   ]
  },
  {
   "cell_type": "code",
   "execution_count": 5,
   "metadata": {},
   "outputs": [],
   "source": [
    "# 0~9, +, - => 0~9, +1, -1\n",
    "# 0에서 - 무시, 채널은 무한대\n",
    "import sys\n",
    "goal = list(map(int, sys.stdin.readline()))\n",
    "m = int(sys.stdin.readline())\n",
    "posi_bnt = list(set(range(10)) - {map(int, sys.stdin.readline().split())})\n",
    "now, closer = 100, \"\" #현재 위치, 가장 가까운 번호 위치\n",
    "if now == goal: #현재 위치와 목표가 같을 경우\n",
    "    print(0)\n",
    "elif m == 0: #모든 버튼 사용이 가능한 경우\n",
    "    print(len(str(goal)))\n",
    "elif m == 10: #모든 버튼이 고장난 경우\n",
    "    print(goal - 100)\n",
    "else: #그 외\n",
    "    for x in range(len(str(goal))):\n",
    "        diff = 9 #목표에 제일 가까운 숫자를 찾자\n",
    "        for y in range(len(posi_bnt)):\n",
    "            temp = abs(goal[x] - posi_bnt[y]) #각 자리수 숫자의 차를 찾아서\n",
    "            if diff > temp: #그 차이가 최소화되는 경우\n",
    "                diff = temp\n",
    "        closer += str(y)\n",
    "    print((len(str(goal)) - int(closer)) + len(closer))"
   ]
  },
  {
   "cell_type": "markdown",
   "metadata": {},
   "source": [
    "2번째 시도 - product는 너무 오래 걸림"
   ]
  },
  {
   "cell_type": "code",
   "execution_count": 9,
   "metadata": {},
   "outputs": [
    {
     "name": "stdout",
     "output_type": "stream",
     "text": [
      "2228\n",
      "시간 :  0.4482421875\n"
     ]
    }
   ],
   "source": [
    "import time\n",
    "start_time = time.time()\n",
    "\n",
    "# 0~9, +, - => 0~9, +1, -1\n",
    "# 0에서 - 무시, 채널은 무한대\n",
    "import sys\n",
    "from itertools import product\n",
    "goal = \"80000\"\n",
    "m = 2\n",
    "now, closer = 100, \"\" #현재 위치, 가장 가까운 번호 위치\n",
    "if (now == int(goal)) or (m == 10): #현재 위치와 목표가 같을 경우\n",
    "    print(int(goal) - 100)\n",
    "elif m == 0: #모든 버튼 사용이 가능한 경우\n",
    "    print(len(goal))\n",
    "else:\n",
    "    bnt = [str(y) for y in range(10)]\n",
    "    for x in \"8 9\".split():\n",
    "        if x in bnt:\n",
    "            bnt.remove(x)\n",
    "\n",
    "    diff, s = 500000, 0\n",
    "    for x in product(bnt, repeat = len(goal)):\n",
    "        temp = abs(int(\"\".join(x)) - int(goal))\n",
    "        if temp < diff:\n",
    "            diff = temp\n",
    "            s = int(\"\".join(map(str, x)))\n",
    "    print(abs(s - int(goal))+len(str(s)))\n",
    "\n",
    "end_time = time.time()\n",
    "print(\"시간 : \", end_time - start_time)"
   ]
  },
  {
   "cell_type": "markdown",
   "metadata": {},
   "source": [
    "3번째 시도 - 성공 - 어렵다..내가 풀고 싶다!!"
   ]
  },
  {
   "cell_type": "code",
   "execution_count": 16,
   "metadata": {},
   "outputs": [
    {
     "name": "stdout",
     "output_type": "stream",
     "text": [
      "2228\n",
      "시간 :  4.5492308139801025\n"
     ]
    }
   ],
   "source": [
    "import time\n",
    "s_time = time.time()\n",
    "\n",
    "Target = 80000  # 채널번호\n",
    "M = 2  # 고장난 버튼의 개수\n",
    "remote = {str(x) for x in range(10)}  # 리모컨버튼\n",
    "\n",
    "if M != 0: #고장난 버튼이 있는 경우, 사용 가능한 버튼을 골라내기\n",
    "    remote -= set(\"8 9\".split()) \n",
    "\n",
    "# 최소값은 +,-로만 움직일 때의 값으로 설정한다(목표값 - 100(현재채널))\n",
    "min_cnt = abs(100 - Target)\n",
    "\n",
    "# 목표값은 500000까지지만, 채널 수는 무한하기 때문에\n",
    "for k in range(1000000):\n",
    "    num = str(k)\n",
    "    for i in range(len(num)):\n",
    "        # 각 숫자가 고장났는지 확인 후, 고장 났으면 break\n",
    "        if num[i] not in remote:  \n",
    "            break\n",
    "        # 고장난 숫자 없이 마지막 자리까지 왔다면 min_cnt 비교 후 업데이트\n",
    "        elif i == len(num)-1: \n",
    "            min_cnt = min(min_cnt, abs(Target - k)+len(num))\n",
    "\n",
    "print(min_cnt)\n",
    "\n",
    "end_time = time.time()\n",
    "print(\"시간 : \", end_time - s_time)"
   ]
  }
 ],
 "metadata": {
  "kernelspec": {
   "display_name": "base",
   "language": "python",
   "name": "python3"
  },
  "language_info": {
   "codemirror_mode": {
    "name": "ipython",
    "version": 3
   },
   "file_extension": ".py",
   "mimetype": "text/x-python",
   "name": "python",
   "nbconvert_exporter": "python",
   "pygments_lexer": "ipython3",
   "version": "3.10.9"
  }
 },
 "nbformat": 4,
 "nbformat_minor": 2
}
