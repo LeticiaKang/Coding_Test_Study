{
 "cells": [
  {
   "cell_type": "markdown",
   "metadata": {},
   "source": [
    "### 문제이름\n",
    "영어 끝말잇기\n",
    "\n",
    "### 링크\n",
    "https://school.programmers.co.kr/learn/courses/30/lessons/12981\n",
    "\n",
    "### 예시 코드\n",
    "생략"
   ]
  },
  {
   "cell_type": "code",
   "execution_count": null,
   "metadata": {},
   "outputs": [],
   "source": [
    "# 사람의 수 n, 순서대로 말한 단어 words, \n",
    "# 가장 먼저 탈락하는 사람의 번호, 그 사람이 자신의 몇 번째 차례에 탈락하는지\n",
    "def solution(n, words):\n",
    "    answer = []\n",
    "    used = []\n",
    "    \n",
    "    for x in range(len(words)):\n",
    "        word = words[x]\n",
    "        if not used:\n",
    "            used.append(word)\n",
    "        else:\n",
    "            if (word in used) or (word[0] != used[-1][-1]):\n",
    "                answer = [x%n+1, int(x/n)+1]\n",
    "                break\n",
    "            else:\n",
    "                used.append(word)\n",
    "    if not answer:\n",
    "        answer = [0,0]\n",
    "    return answer"
   ]
  },
  {
   "cell_type": "code",
   "execution_count": 3,
   "metadata": {},
   "outputs": [],
   "source": [
    "# 사람의 수 n, 순서대로 말한 단어 words, \n",
    "# 가장 먼저 탈락하는 사람의 번호, 그 사람이 자신의 몇 번째 차례에 탈락하는지\n",
    "def solution(n, words):\n",
    "    answer = []\n",
    "    used = [words[0][0]]\n",
    "    num = [1,2,3]\n",
    "    \n",
    "    for x in range(len(words)):\n",
    "        word = words[0]\n",
    "        if (word in used) or (used[-1][-1] != word[0]):\n",
    "            answer = [num[x%n], int(x/n)+1]\n",
    "            break\n",
    "        else:\n",
    "            used.append(word)\n",
    "            words.remove(word)\n",
    "    if answer == []:\n",
    "        answer = [0,0]\n",
    "    return answer\n",
    "#실패.. 내가 봐도 좀 별로다"
   ]
  }
 ],
 "metadata": {
  "kernelspec": {
   "display_name": "base",
   "language": "python",
   "name": "python3"
  },
  "language_info": {
   "codemirror_mode": {
    "name": "ipython",
    "version": 3
   },
   "file_extension": ".py",
   "mimetype": "text/x-python",
   "name": "python",
   "nbconvert_exporter": "python",
   "pygments_lexer": "ipython3",
   "version": "3.11.3"
  }
 },
 "nbformat": 4,
 "nbformat_minor": 2
}
