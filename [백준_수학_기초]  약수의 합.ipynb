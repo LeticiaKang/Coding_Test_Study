{
 "cells": [
  {
   "cell_type": "markdown",
   "metadata": {},
   "source": [
    "### 문제이름\n",
    "약수의 합\n",
    "### 링크\n",
    "https://www.acmicpc.net/problem/17425\n",
    "### 예시 코드\n",
    "|input|result|\n",
    "|------|---|\n",
    "|5<br>1<br>2<br>10<br>70<br>10000|1<br>4<br>87<br>4065<br>82256014"
   ]
  },
  {
   "cell_type": "code",
   "execution_count": 35,
   "metadata": {},
   "outputs": [
    {
     "name": "stdout",
     "output_type": "stream",
     "text": [
      "7 = 5 + 2\n",
      "8 = 3 + 5\n"
     ]
    }
   ],
   "source": [
    "# a = bc를 만조아나는 c가 a의 약수\n",
    "# f(a)는 약수를 모두 더한 약수의 합을 나타낸다.\n",
    "# x보다 작거나 같은 모든 자연수 y의 f(y)값을 더한 값은 g(x)로 표현한다.\n",
    "\n",
    "t = int(input())\n",
    "\n",
    "for _ in range(t):\n",
    "    n = int(input())\n",
    "    div = []\n",
    "    if n == 1:\n",
    "        div = [1]\n",
    "    else:\n",
    "\n",
    "        for x in range(2, n+1):\n",
    "            for d in range(1, int(x**(1/2))+1):\n",
    "                if x%d == 0:\n",
    "                    div.append(d)\n",
    "                    div.append(x//d)\n",
    "    print(sum(div))\n"
   ]
  }
 ],
 "metadata": {
  "kernelspec": {
   "display_name": "base",
   "language": "python",
   "name": "base"
  },
  "language_info": {
   "codemirror_mode": {
    "name": "ipython",
    "version": 3
   },
   "file_extension": ".py",
   "mimetype": "text/x-python",
   "name": "python",
   "nbconvert_exporter": "python",
   "pygments_lexer": "ipython3",
   "version": "3.11.3"
  }
 },
 "nbformat": 4,
 "nbformat_minor": 2
}
