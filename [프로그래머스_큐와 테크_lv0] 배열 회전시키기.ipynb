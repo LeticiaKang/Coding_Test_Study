{
 "cells": [
  {
   "cell_type": "markdown",
   "metadata": {},
   "source": [
    "### 문제이름\n",
    "배열 회전시키기\n",
    "\n",
    "### 링크\n",
    "https://school.programmers.co.kr/learn/courses/30/lessons/120844\n",
    "\n",
    "### 예시 코드\n",
    "numbers\t|direction\t|result\n",
    "|---|---|---|\t\n",
    "[1, 2, 3]\t|\"right\"\t|[3, 1, 2]\n",
    "[4, 455, 6, 4, -1, 45, 6]\t|\"left\"\t|[455, 6, 4, -1, 45, 6, 4]"
   ]
  },
  {
   "cell_type": "code",
   "execution_count": 22,
   "metadata": {},
   "outputs": [],
   "source": [
    "def solution(numbers, direction):\n",
    "    answer = []\n",
    "    if direction == \"right\":\n",
    "        answer = [numbers[-1]] + numbers[:-1]\n",
    "    else:\n",
    "        answer = numbers[1:] + [numbers[0]]\n",
    "    return answer"
   ]
  }
 ],
 "metadata": {
  "kernelspec": {
   "display_name": "base",
   "language": "python",
   "name": "python3"
  },
  "language_info": {
   "codemirror_mode": {
    "name": "ipython",
    "version": 3
   },
   "file_extension": ".py",
   "mimetype": "text/x-python",
   "name": "python",
   "nbconvert_exporter": "python",
   "pygments_lexer": "ipython3",
   "version": "3.10.9"
  }
 },
 "nbformat": 4,
 "nbformat_minor": 2
}
