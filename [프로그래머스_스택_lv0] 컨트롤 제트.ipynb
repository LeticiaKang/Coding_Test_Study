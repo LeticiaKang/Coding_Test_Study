{
 "cells": [
  {
   "cell_type": "markdown",
   "metadata": {},
   "source": [
    "### 문제이름\n",
    "컨트롤 제트\n",
    "\n",
    "### 링크\n",
    "https://school.programmers.co.kr/learn/courses/30/lessons/120853\n",
    "\n",
    "### 예시 코드\n",
    "|s|result|\n",
    "|---|---|\t\n",
    "\"1 2 Z 3\"|\t4\n",
    "\"10 20 30 40\"|\t100\n",
    "\"10 Z 20 Z 1\"|\t1\n",
    "\"10 Z 20 Z\"|\t0\n",
    "\"-1 -2 -3 Z\"|\t-3"
   ]
  },
  {
   "cell_type": "code",
   "execution_count": 22,
   "metadata": {},
   "outputs": [],
   "source": [
    "def solution(s):\n",
    "    answer = 0\n",
    "    s_list = s.split(\" \")\n",
    "    for n in range(len(s_list)):\n",
    "        if s_list[n] == 'Z':\n",
    "            answer -= eval(s_list[n-1])\n",
    "        else:\n",
    "            answer += eval(s_list[n])\n",
    "    return answer"
   ]
  }
 ],
 "metadata": {
  "kernelspec": {
   "display_name": "base",
   "language": "python",
   "name": "python3"
  },
  "language_info": {
   "codemirror_mode": {
    "name": "ipython",
    "version": 3
   },
   "file_extension": ".py",
   "mimetype": "text/x-python",
   "name": "python",
   "nbconvert_exporter": "python",
   "pygments_lexer": "ipython3",
   "version": "3.10.9"
  }
 },
 "nbformat": 4,
 "nbformat_minor": 2
}
