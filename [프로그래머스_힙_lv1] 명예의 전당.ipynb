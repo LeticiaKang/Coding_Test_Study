{
 "cells": [
  {
   "cell_type": "markdown",
   "metadata": {},
   "source": [
    "### 문제이름\n",
    "명예의 전당\n",
    "\n",
    "### 링크\n",
    "https://school.programmers.co.kr/learn/courses/30/lessons/138477\n",
    "\n",
    "### 예시 코드\n",
    "k\t|score\t|result\n",
    "|---|---|---|\t\n",
    "3|\t[10, 100, 20, 150, 1, 100, 200]\t|[10, 10, 10, 20, 20, 100, 100]\n",
    "4\t|[0, 300, 40, 300, 20, 70, 150, 50, 500, 1000]|\t[0, 0, 0, 0, 20, 40, 70, 70, 150, 300]"
   ]
  },
  {
   "cell_type": "code",
   "execution_count": 58,
   "metadata": {},
   "outputs": [],
   "source": [
    "import heapq\n",
    "def solution(k, score):\n",
    "    answer = []\n",
    "    # 최소힙 만들기\n",
    "    min_heap = []\n",
    "    for s in score:\n",
    "        heapq.heappush(min_heap, s)\n",
    "    # 최소힙의 개수를 k개 이하로 제한해서, 초과하면 제일 작은 수 하나씩 삭제하기 -> 개수가 k개로 유지됨\n",
    "    # 개수를 삭제하고, 제일 작은 수를 answer에 넣기\n",
    "        if len(min_heap) > k:\n",
    "            heapq.heappop(min_heap)\n",
    "        answer.append(min_heap[0])\n",
    "    \n",
    "    return answer"
   ]
  }
 ],
 "metadata": {
  "kernelspec": {
   "display_name": "base",
   "language": "python",
   "name": "base"
  },
  "language_info": {
   "codemirror_mode": {
    "name": "ipython",
    "version": 3
   },
   "file_extension": ".py",
   "mimetype": "text/x-python",
   "name": "python",
   "nbconvert_exporter": "python",
   "pygments_lexer": "ipython3",
   "version": "3.11.3"
  }
 },
 "nbformat": 4,
 "nbformat_minor": 2
}
