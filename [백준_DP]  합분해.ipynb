{
 "cells": [
  {
   "cell_type": "markdown",
   "metadata": {},
   "source": [
    "### 문제이름\n",
    "합분해\n",
    "\n",
    "\n",
    "### 링크\n",
    "https://www.acmicpc.net/problem/2225\n",
    "\n",
    "### 예시 코드\n",
    "|input|result|\n",
    "|------|---|\n",
    "20 2 | 21\n",
    "6 4 | 84"
   ]
  },
  {
   "cell_type": "code",
   "execution_count": null,
   "metadata": {},
   "outputs": [],
   "source": [
    "import sys\n",
    "input = sys.stdin.readline\n",
    "n, k = map(int, input().split())\n",
    "dp = [[1] for _ in range(k+1)] #n=0일때 모두 1이므로 \n",
    "dp[1] += ([1 for _ in range(1, n+1)])# k=1일 때 경우의 수는 모두 1이다. (1~6까지 경우의 수 넣기)\n",
    "if k > 1: #k가 2이상인 경우\n",
    "    for x in range(2, k+1):\n",
    "        for y in range(1, n+1): #규칙 : 앞의 수 + x-1번때 y번째 더하기\n",
    "            dp[x].append((dp[x][y-1] + dp[x-1][y]) % 1000000000)\n",
    "print(dp[k][n] % 1000000000)\n",
    "    "
   ]
  }
 ],
 "metadata": {
  "kernelspec": {
   "display_name": "base",
   "language": "python",
   "name": "python3"
  },
  "language_info": {
   "codemirror_mode": {
    "name": "ipython",
    "version": 3
   },
   "file_extension": ".py",
   "mimetype": "text/x-python",
   "name": "python",
   "nbconvert_exporter": "python",
   "pygments_lexer": "ipython3",
   "version": "3.10.9"
  }
 },
 "nbformat": 4,
 "nbformat_minor": 2
}
