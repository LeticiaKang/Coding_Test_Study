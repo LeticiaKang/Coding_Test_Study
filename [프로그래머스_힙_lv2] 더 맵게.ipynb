{
 "cells": [
  {
   "cell_type": "markdown",
   "metadata": {},
   "source": [
    "### 문제이름\n",
    "더 맵게\n",
    "\n",
    "### 링크\n",
    "https://school.programmers.co.kr/learn/courses/30/lessons/42626\n",
    "\n",
    "### 예시 코드\n",
    "scoville\t|K\t|return\n",
    "|---|---|---|\t\n",
    "[1, 2, 3, 9, 10, 12]|\t7|\t2"
   ]
  },
  {
   "cell_type": "code",
   "execution_count": null,
   "metadata": {},
   "outputs": [],
   "source": [
    "import heapq\n",
    "def solution(scoville, K):\n",
    "    answer = 0\n",
    "    # 최소 힙 만들기\n",
    "    heapq.heapify(scoville)\n",
    "    #제일 작은 수가 K보다 크거나 같으면 모든 수가 큰 것이므로, 멈춘다\n",
    "    while scoville[0] < K: \n",
    "        #모든 음식을 K이상으로 만들 수 없는 경우\n",
    "            # 음식 개수가 1개만 남았을 경우\n",
    "        if len(scoville) < 2:\n",
    "            return -1\n",
    "        # 제일 작은 수(인텍스 0)과 2번재로 작은 수(인덱스 1) 삭제해서 임시 저장하기\n",
    "        temp1 = heapq.heappop(scoville)\n",
    "        temp2 = heapq.heappop(scoville)\n",
    "        # 삭제한 두 수를 이용하여 새로운 스코빌 지수 구해서 원래 리스트에 넣기\n",
    "        # answer += 1하기\n",
    "        heapq.heappush(scoville, temp1 + temp2*2)\n",
    "        answer += 1\n",
    "    return answer"
   ]
  },
  {
   "cell_type": "code",
   "execution_count": null,
   "metadata": {},
   "outputs": [],
   "source": [
    "import heapq\n",
    "def solution(scov, K):\n",
    "    answer = 0\n",
    "    heapq.heapify(scov)\n",
    "    if scov[0] >= K:\n",
    "        return 0\n",
    "    while True:\n",
    "        temp1 = heapq.heappop(scov)\n",
    "        temp2 = heapq.heappop(scov)\n",
    "        heapq.heappush(scov, temp1 + temp2*2)\n",
    "        answer += 1\n",
    "        if scov[0] >= K:\n",
    "            return answer\n",
    "        if (len(scov) == 1):\n",
    "            return -1\n"
   ]
  }
 ],
 "metadata": {
  "kernelspec": {
   "display_name": "base",
   "language": "python",
   "name": "base"
  },
  "language_info": {
   "codemirror_mode": {
    "name": "ipython",
    "version": 3
   },
   "file_extension": ".py",
   "mimetype": "text/x-python",
   "name": "python",
   "nbconvert_exporter": "python",
   "pygments_lexer": "ipython3",
   "version": "3.11.3"
  }
 },
 "nbformat": 4,
 "nbformat_minor": 2
}
