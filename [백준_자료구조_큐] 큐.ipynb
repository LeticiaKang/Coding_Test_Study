{
 "cells": [
  {
   "cell_type": "markdown",
   "metadata": {},
   "source": [
    "\n",
    "### 문제이름\n",
    "큐\n",
    "\n",
    "### 링크\n",
    "https://www.acmicpc.net/problem/10845\n",
    "\n",
    "### 예시 코드\n",
    "생략\n"
   ]
  },
  {
   "cell_type": "code",
   "execution_count": 7,
   "metadata": {},
   "outputs": [],
   "source": [
    "from sys import stdin\n",
    "from collections import deque \n",
    "\n",
    "n = int(stdin.readline())\n",
    "queue = deque()\n",
    "for _ in range(n):\n",
    "    com = stdin.readline().split()\n",
    "    if com[0] == \"push\":\n",
    "        queue.append(com[1])\n",
    "    elif com[0] == \"pop\":\n",
    "        print(queue.popleft()) if queue else print(-1)\n",
    "    elif com[0] == \"size\":  \n",
    "        print(len(queue))\n",
    "    elif com[0] == \"empty\":  \n",
    "        print(0) if queue else print(1)\n",
    "    elif com[0] == \"front\": \n",
    "        print(queue[0]) if queue else print(-1)\n",
    "    elif com[0] == \"back\":   \n",
    "        print(queue[-1]) if queue else print(-1)"
   ]
  }
 ],
 "metadata": {
  "kernelspec": {
   "display_name": "base",
   "language": "python",
   "name": "python3"
  },
  "language_info": {
   "codemirror_mode": {
    "name": "ipython",
    "version": 3
   },
   "file_extension": ".py",
   "mimetype": "text/x-python",
   "name": "python",
   "nbconvert_exporter": "python",
   "pygments_lexer": "ipython3",
   "version": "3.10.9"
  }
 },
 "nbformat": 4,
 "nbformat_minor": 2
}
