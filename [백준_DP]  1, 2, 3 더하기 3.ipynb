{
 "cells": [
  {
   "cell_type": "markdown",
   "metadata": {},
   "source": [
    "### 문제이름\n",
    "1, 2, 3 더하기 3\n",
    "\n",
    "### 링크\n",
    "https://www.acmicpc.net/problem/15988\n",
    "\n",
    "### 예시 코드\n",
    "|input|result|\n",
    "|------|---|\n",
    "|3<br>4<br>7<br>10|7<br>44<br>274"
   ]
  },
  {
   "cell_type": "code",
   "execution_count": null,
   "metadata": {},
   "outputs": [],
   "source": [
    "import sys\n",
    "\n",
    "n = int(sys.stdin.readline())\n",
    "dp = [0,1,2,4]\n",
    "\n",
    "for _ in range(n):\n",
    "    num = int(sys.stdin.readline())\n",
    "    for i in range(len(dp), num+1):\n",
    "        dp.append((dp[-1]+dp[-2]+dp[-3])%1000000009)\n",
    "    print(dp[num])"
   ]
  }
 ],
 "metadata": {
  "kernelspec": {
   "display_name": "base",
   "language": "python",
   "name": "base"
  },
  "language_info": {
   "codemirror_mode": {
    "name": "ipython",
    "version": 3
   },
   "file_extension": ".py",
   "mimetype": "text/x-python",
   "name": "python",
   "nbconvert_exporter": "python",
   "pygments_lexer": "ipython3",
   "version": "3.11.3"
  }
 },
 "nbformat": 4,
 "nbformat_minor": 2
}
