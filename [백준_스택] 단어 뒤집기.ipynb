{
 "cells": [
  {
   "cell_type": "markdown",
   "metadata": {},
   "source": [
    "### 문제이름\n",
    "단어 뒤집기\n",
    "### 링크\n",
    "https://www.acmicpc.net/problem/9093\n",
    "### 예시 코드\n",
    "|input|result|\n",
    "|------|---|\n",
    "|2 |\n",
    "I am happy today |I ma yppah yadot\n",
    "We want to win the first prize |eW tnaw ot niw eht tsrif ezirp"
   ]
  },
  {
   "cell_type": "code",
   "execution_count": null,
   "metadata": {},
   "outputs": [],
   "source": [
    "import sys\n",
    "\n",
    "t = int(sys.stdin.readline())\n",
    "\n",
    "for _ in range(t):\n",
    "    sentense = sys.stdin.readline().split()\n",
    "    result = \"\"\n",
    "    \n",
    "    for word in sentense:\n",
    "        result += word[::-1] + \" \"\n",
    "    print(result[:-1])\n",
    "    \n"
   ]
  }
 ],
 "metadata": {
  "kernelspec": {
   "display_name": "base",
   "language": "python",
   "name": "python3"
  },
  "language_info": {
   "codemirror_mode": {
    "name": "ipython",
    "version": 3
   },
   "file_extension": ".py",
   "mimetype": "text/x-python",
   "name": "python",
   "nbconvert_exporter": "python",
   "pygments_lexer": "ipython3",
   "version": "3.10.9"
  }
 },
 "nbformat": 4,
 "nbformat_minor": 2
}
