{
 "cells": [
  {
   "cell_type": "markdown",
   "metadata": {},
   "source": [
    "![Alt text](image.png)\n",
    "![Alt text](image-1.png)"
   ]
  },
  {
   "cell_type": "markdown",
   "metadata": {},
   "source": [
    "![Alt text](image-2.png)"
   ]
  },
  {
   "cell_type": "markdown",
   "metadata": {},
   "source": [
    "https://school.programmers.co.kr/learn/courses/30/lessons/77484"
   ]
  },
  {
   "cell_type": "code",
   "execution_count": 8,
   "metadata": {},
   "outputs": [],
   "source": [
    "def solution(lottos, win_nums):\n",
    "    # lottos에서 win_nums에 들어있는 숫자 n개라고 하고 n를 제외하고\n",
    "    # 나머지 숫자의 개수 중 안보이는 숫자를 k개라고 하면\n",
    "    # n+k에서 k가 0인 경우 -> 최저 순위\n",
    "    # n+k에서 k가 k인 경우 -> 최고 순위\n",
    "    rank = { 6:1, 5:2, 4:3, 3:4, 2:5, 0:6, 1:6}\n",
    "    n = 0\n",
    "    k = lottos.count(0) # 알 수 없는 번호의 개수 세기\n",
    "    \n",
    "    # lottos에 들어있는 번호 중 당첨번호가 몇 개인지 세기 \n",
    "    for num in lottos:\n",
    "        if num in win_nums:\n",
    "            n += 1\n",
    "    \n",
    "    # 0의 개수 에 따라 반환값 조정하기\n",
    "    if k == 0:\n",
    "        return [rank[n], rank[n]]\n",
    "    \n",
    "    return [ rank[n+k], rank[n] ]"
   ]
  },
  {
   "cell_type": "code",
   "execution_count": 4,
   "metadata": {},
   "outputs": [],
   "source": [
    "# lottos\twin_nums\tresult\n",
    "# [44, 1, 0, 0, 31, 25]\t[31, 10, 45, 1, 6, 19]\t[3, 5]\n",
    "# [0, 0, 0, 0, 0, 0]\t[38, 19, 20, 40, 15, 25]\t[1, 6]\n",
    "# [45, 4, 35, 20, 3, 9]\t[20, 9, 3, 45, 4, 35]\t[1, 1]"
   ]
  },
  {
   "cell_type": "code",
   "execution_count": 9,
   "metadata": {},
   "outputs": [
    {
     "data": {
      "text/plain": [
       "[3, 5]"
      ]
     },
     "execution_count": 9,
     "metadata": {},
     "output_type": "execute_result"
    }
   ],
   "source": [
    "solution([44, 1, 0, 0, 31, 25], [31, 10, 45, 1, 6, 19])"
   ]
  },
  {
   "cell_type": "markdown",
   "metadata": {},
   "source": [
    "## 수정코드\n",
    "- 리스트의 인덱싱을 사용해도 된다. 딕셔너리 사용할 필요가 없었네\n",
    "- k=0인 경우를 따로 나눌 필요가 없다, 어차피 n+k = n 이 되니까"
   ]
  },
  {
   "cell_type": "code",
   "execution_count": null,
   "metadata": {},
   "outputs": [],
   "source": [
    "def solution(lottos, win_nums):\n",
    "    # lottos에서 win_nums에 들어있는 숫자 n개라고 하고 n를 제외하고\n",
    "    # 나머지 숫자의 개수 중 안보이는 숫자를 k개라고 하면\n",
    "    # n+k에서 k가 0인 경우 -> 최저 순위\n",
    "    # n+k에서 k가 k인 경우 -> 최고 순위\n",
    "    rank = [6,6,5,4,3,2,1]\n",
    "    n = 0\n",
    "    k = lottos.count(0) # 알 수 없는 번호의 개수 세기\n",
    "    \n",
    "    # lottos에 들어있는 번호 중 당첨번호가 몇 개인지 세기 \n",
    "    for num in lottos:\n",
    "        if num in win_nums:\n",
    "            n += 1\n",
    "    \n",
    "    return [ rank[n+k], rank[n] ]"
   ]
  }
 ],
 "metadata": {
  "kernelspec": {
   "display_name": "base",
   "language": "python",
   "name": "python3"
  },
  "language_info": {
   "codemirror_mode": {
    "name": "ipython",
    "version": 3
   },
   "file_extension": ".py",
   "mimetype": "text/x-python",
   "name": "python",
   "nbconvert_exporter": "python",
   "pygments_lexer": "ipython3",
   "version": "3.10.9"
  }
 },
 "nbformat": 4,
 "nbformat_minor": 2
}
