{
 "cells": [
  {
   "cell_type": "markdown",
   "metadata": {},
   "source": [
    "### 문제이름\n",
    "게임 맵 최단거리\n",
    "\n",
    "### 링크\n",
    "https://school.programmers.co.kr/learn/courses/30/lessons/1844\n",
    "\n",
    "### 예시 코드\n",
    "maps\t|answer\n",
    "|---|---|\n",
    "[[1,0,1,1,1],[1,0,1,0,1],[1,0,1,1,1],[1,1,1,0,1],[0,0,0,0,1]]|\t11\n",
    "[[1,0,1,1,1],[1,0,1,0,1],[1,0,1,1,1],[1,1,1,0,0],[0,0,0,0,1]]|\t-1"
   ]
  },
  {
   "cell_type": "code",
   "execution_count": 58,
   "metadata": {},
   "outputs": [],
   "source": [
    "from collections import deque\n",
    "def solution(maps):\n",
    "    answer = 0\n",
    "    # 행과 열의 개수\n",
    "    N, M = len(maps), len(maps[0])\n",
    "    # 방문 + 횟수 저장\n",
    "    visited = [[-1]*M for _ in range(N)]\n",
    "    # 이동 방향\n",
    "    dx = [1, -1, 0, 0]\n",
    "    dy = [0, 0, 1, -1]\n",
    "    # 위치 저장 큐, 시작점 방문 처리\n",
    "    que = deque()\n",
    "    visited[0][0] = 1\n",
    "    que.append((0,0))\n",
    "    # 이동하기\n",
    "    while que: #que가 비어있으면 멈추기\n",
    "        x, y = que.popleft() # 현재위치 빼서 이동가능한 방향 알아보기\n",
    "        for i in range(4): # 상하좌우 4가지 방향이기 때문에\n",
    "            nx = x + dx[i]\n",
    "            ny = y + dy[i]\n",
    "            if (0 <= nx < N) and (0 <= ny < M): # 범위를 초과하지 않고\n",
    "                if (maps[nx][ny] == 1) and (visited[nx][ny] == -1): # 벽이 아니고, 방문하지 않았다면\n",
    "                    visited[nx][ny] = visited[x][y] + 1  # 방문 처리와 함께, 이동 횟수를 1 더하기\n",
    "                    que.append((nx, ny)) # 현재 위치 넣어주기(어디로든 갈 수 없으면 que가 빈 리스트라 while문이 멈춤)\n",
    "    answer = visited[-1][-1]\n",
    "    print(visited)\n",
    "    return answer"
   ]
  }
 ],
 "metadata": {
  "kernelspec": {
   "display_name": "base",
   "language": "python",
   "name": "base"
  },
  "language_info": {
   "codemirror_mode": {
    "name": "ipython",
    "version": 3
   },
   "file_extension": ".py",
   "mimetype": "text/x-python",
   "name": "python",
   "nbconvert_exporter": "python",
   "pygments_lexer": "ipython3",
   "version": "3.11.3"
  }
 },
 "nbformat": 4,
 "nbformat_minor": 2
}
