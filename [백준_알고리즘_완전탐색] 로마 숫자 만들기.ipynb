{
 "cells": [
  {
   "cell_type": "markdown",
   "metadata": {},
   "source": [
    "### 문제이름\n",
    "로마 숫자 만들기\n",
    "### 링크\n",
    "https://www.acmicpc.net/problem/16922\n",
    "### 예시 코드\n",
    "|input|result|\n",
    "|------|---|\n",
    "|1|4|\n",
    "2|10\n",
    "10|244"
   ]
  },
  {
   "cell_type": "markdown",
   "metadata": {},
   "source": [
    "1번재 시도 - 메모리 초과"
   ]
  },
  {
   "cell_type": "code",
   "execution_count": 42,
   "metadata": {},
   "outputs": [],
   "source": [
    "# I, V, X, L = 1, 5, 10, 50\n",
    "# 문자 = 문자의 숫자화하여 합한 값\n",
    "from itertools import product\n",
    "import sys\n",
    "n = int(sys.stdin.readline())\n",
    "roma = {'I':1, 'V':5, 'X':10, 'L':50 }\n",
    "result = []\n",
    "\n",
    "for case in list(product(roma, repeat=n)):\n",
    "    sum = 0\n",
    "    for c in case:\n",
    "        sum += roma.get(c)\n",
    "    result.append(sum)\n",
    "\n",
    "print(len(set(result)))"
   ]
  },
  {
   "cell_type": "markdown",
   "metadata": {},
   "source": [
    "2번재 시도 - 성공   \n",
    "=> product보다 combinations_with_replacement가 더 빠르다는 것을 알게 됨"
   ]
  },
  {
   "cell_type": "code",
   "execution_count": 3,
   "metadata": {},
   "outputs": [
    {
     "name": "stdout",
     "output_type": "stream",
     "text": [
      "10\n"
     ]
    },
    {
     "data": {
      "text/plain": [
       "[2, 6, 11, 51, 6, 10, 15, 55, 11, 15, 20, 60, 51, 55, 60, 100]"
      ]
     },
     "execution_count": 3,
     "metadata": {},
     "output_type": "execute_result"
    }
   ],
   "source": [
    "# I, V, X, L = 1, 5, 10, 50\n",
    "# 문자 = 문자의 숫자화하여 합한 값\n",
    "from itertools import combinations_with_replacement\n",
    "import sys\n",
    "n = int(sys.stdin.readline())\n",
    "roma = [1, 5, 10, 50]\n",
    "result = []\n",
    "\n",
    "for case in combinations_with_replacement(range(4), n):\n",
    "    sum = 0\n",
    "    for c in case:\n",
    "        sum += roma[c]\n",
    "    result.append(sum)\n",
    "\n",
    "print(len(set(result)))"
   ]
  }
 ],
 "metadata": {
  "kernelspec": {
   "display_name": "base",
   "language": "python",
   "name": "base"
  },
  "language_info": {
   "codemirror_mode": {
    "name": "ipython",
    "version": 3
   },
   "file_extension": ".py",
   "mimetype": "text/x-python",
   "name": "python",
   "nbconvert_exporter": "python",
   "pygments_lexer": "ipython3",
   "version": "3.11.3"
  }
 },
 "nbformat": 4,
 "nbformat_minor": 2
}
