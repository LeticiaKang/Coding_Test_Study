{
 "cells": [
  {
   "cell_type": "markdown",
   "metadata": {},
   "source": [
    "\n",
    "### 문제이름\n",
    "에디터\n",
    "\n",
    "### 링크\n",
    "https://www.acmicpc.net/problem/1406\n",
    "\n",
    "### 예시 코드\n",
    "생략\n"
   ]
  },
  {
   "cell_type": "code",
   "execution_count": 3,
   "metadata": {},
   "outputs": [
    {
     "name": "stdout",
     "output_type": "stream",
     "text": [
      "['a', 'b', 'c', 'd', 'y', 'x']\n"
     ]
    }
   ],
   "source": [
    "from sys import stdin\n",
    "\n",
    "s = list(stdin.readline().rstrip())\n",
    "num = int(stdin.readline())\n",
    "new = []\n",
    "\n",
    "\n",
    "for _ in range(num):\n",
    "    com = stdin.readline().split()\n",
    "    # 커서가 맨 앞에 있으면 무시됨 L B\n",
    "    if com[0] == \"B\":\n",
    "        if len(s) > 0:\n",
    "            s.pop()\n",
    "    elif com[0] == \"L\":\n",
    "        if len(s) > 0:\n",
    "            new.append(s.pop())\n",
    "    elif com[0] == \"D\": #D\n",
    "        if len(new) > 0:\n",
    "            s.append(new.pop())\n",
    "    elif com[0] == \"P\":\n",
    "        s.append(com[1])\n",
    "        \n",
    "s.extend(reversed(new))\n",
    "print(\"\".join(s))"
   ]
  }
 ],
 "metadata": {
  "kernelspec": {
   "display_name": "base",
   "language": "python",
   "name": "python3"
  },
  "language_info": {
   "codemirror_mode": {
    "name": "ipython",
    "version": 3
   },
   "file_extension": ".py",
   "mimetype": "text/x-python",
   "name": "python",
   "nbconvert_exporter": "python",
   "pygments_lexer": "ipython3",
   "version": "3.10.9"
  }
 },
 "nbformat": 4,
 "nbformat_minor": 2
}
