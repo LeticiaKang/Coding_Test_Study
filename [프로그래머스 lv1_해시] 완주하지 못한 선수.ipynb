{
 "cells": [
  {
   "cell_type": "markdown",
   "metadata": {},
   "source": [
    "### 문제이름\n",
    "완주하지 못한 선수\n",
    "\n",
    "### 링크\n",
    "https://school.programmers.co.kr/learn/courses/30/lessons/42576\n",
    "\n",
    "### 예시 코드\n",
    "|input|result|\n",
    "|------|---|\n",
    "|[\"leo\", \"kiki\", \"eden\"] [\"eden\", \"kiki\"]| \t\"leo\" |\n",
    "|[\"mislav\", \"stanko\", \"mislav\", \"ana\"] [\"stanko\", \"ana\", \"mislav\"]| \"mislav\"|"
   ]
  },
  {
   "cell_type": "code",
   "execution_count": 1,
   "metadata": {},
   "outputs": [],
   "source": [
    "# def solution(participant, completion):\n",
    "#     dictionary = dict.fromkeys(participant,0)\n",
    "#     for p in participant:\n",
    "#         dictionary[p] += 1\n",
    "#     for c in completion:\n",
    "#         dictionary[c] -= 1\n",
    "#     names = list(dictionary.keys())\n",
    "#     answer = names[list(dictionary.values()).index(1)]\n",
    "#     return answer\n",
    "\n",
    "def solution(participant, completion):\n",
    "    part = sum(hash(a) for a in participant)\n",
    "    win = sum(hash(c) for c in completion)\n",
    "    fail = part-win\n",
    "    for p in participant:\n",
    "        if hash(p) == fail:\n",
    "            answer = p\n",
    "    return answer"
   ]
  },
  {
   "cell_type": "markdown",
   "metadata": {},
   "source": [
    "24.1.17 다시 풀기 : 성공"
   ]
  },
  {
   "cell_type": "code",
   "execution_count": null,
   "metadata": {},
   "outputs": [],
   "source": [
    "def solution(participant, completion):\n",
    "    answer = \"\"\n",
    "    result = {}\n",
    "    for part in participant: # 참여자 +1씩 더하는 사전 만들기\n",
    "        if part in result:\n",
    "            result[part] += 1\n",
    "        else:\n",
    "            result[part] = 1\n",
    "            \n",
    "    for com in completion: # 완주한 사람 빼기(-1)\n",
    "        result[com] -= 1\n",
    "        \n",
    "    for re in result.items(): #items로 묶어서 value값이 1인 선수 색출하기\n",
    "        if re[1] == 1:\n",
    "            answer = re[0]\n",
    "    return answer"
   ]
  }
 ],
 "metadata": {
  "kernelspec": {
   "display_name": "base",
   "language": "python",
   "name": "python3"
  },
  "language_info": {
   "codemirror_mode": {
    "name": "ipython",
    "version": 3
   },
   "file_extension": ".py",
   "mimetype": "text/x-python",
   "name": "python",
   "nbconvert_exporter": "python",
   "pygments_lexer": "ipython3",
   "version": "3.11.3"
  }
 },
 "nbformat": 4,
 "nbformat_minor": 2
}
