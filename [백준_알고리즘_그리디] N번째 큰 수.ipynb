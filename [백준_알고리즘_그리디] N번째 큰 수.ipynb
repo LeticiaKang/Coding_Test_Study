{
 "cells": [
  {
   "cell_type": "markdown",
   "metadata": {},
   "source": [
    "### 문제이름\n",
    "N번째 큰 수\n",
    "### 링크\n",
    "https://www.acmicpc.net/problem/2075\n",
    "### 예시 코드\n",
    "|input|result|\n",
    "|------|---|\n",
    "|5 | 35|\n",
    "12 7 9 15 5\n",
    "13 8 11 19 6\n",
    "21 10 26 31 16\n",
    "48 14 28 35 25\n",
    "52 20 32 41 49"
   ]
  },
  {
   "cell_type": "code",
   "execution_count": 22,
   "metadata": {},
   "outputs": [
    {
     "name": "stdout",
     "output_type": "stream",
     "text": [
      "[3, 3, 2]\n",
      "8\n"
     ]
    }
   ],
   "source": [
    "import sys, heapq\n",
    "\n",
    "input = sys.stdin.readline\n",
    "n = int(input())\n",
    "q = []\n",
    "for i in range(n):\n",
    "\tnum_list = list(map(int, input().split()))\n",
    "\tif not q: # q에 아무것도 없는 첫번째 입력 시\n",
    "\t\tfor num in num_list:\n",
    "\t\t\theapq.heappush(q, num) # min_heap 구조로 q 채우기\n",
    "\telse:\n",
    "\t\tfor num in num_list: # q에 값이 있을 시 늘 q의 길이를 n으로 유지하기\n",
    "\t\t\tif q[0] < num: # q 최솟값보다 현재 숫자가 클 경우 n번째로 큰 수가 바뀌어야 하기 때문에\n",
    "\t\t\t\theapq.heappush(q, num) # 현재 숫자를 push 하고\n",
    "\t\t\t\theapq.heappop(q) # 기존 최솟값 pop\n",
    "print(q[0])"
   ]
  }
 ],
 "metadata": {
  "kernelspec": {
   "display_name": "base",
   "language": "python",
   "name": "python3"
  },
  "language_info": {
   "codemirror_mode": {
    "name": "ipython",
    "version": 3
   },
   "file_extension": ".py",
   "mimetype": "text/x-python",
   "name": "python",
   "nbconvert_exporter": "python",
   "pygments_lexer": "ipython3",
   "version": "3.10.9"
  }
 },
 "nbformat": 4,
 "nbformat_minor": 2
}
