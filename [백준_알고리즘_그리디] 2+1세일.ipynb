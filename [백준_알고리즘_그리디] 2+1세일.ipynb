{
 "cells": [
  {
   "cell_type": "markdown",
   "metadata": {},
   "source": [
    "### 문제이름\n",
    "2+1 세일\n",
    "### 링크\n",
    "https://www.acmicpc.net/problem/11508\n",
    "### 예시 코드\n",
    "|input|result|input|result|\n",
    "|------|---|------|---|\n",
    "|4|8|6|21|\n",
    "|3| |6| |\n",
    "|2| |4| |\n",
    "|3| |5| |\n",
    "|2| |5| |\n",
    "| | |5| |\n",
    "| | |5| |"
   ]
  },
  {
   "cell_type": "code",
   "execution_count": 22,
   "metadata": {},
   "outputs": [
    {
     "name": "stdout",
     "output_type": "stream",
     "text": [
      "[3, 3, 2]\n",
      "8\n"
     ]
    }
   ],
   "source": [
    "#편의점에서 2+1 행사, 유제품 3개를 한 번에 산다면 가장 싼 것은 무료로\n",
    "# 한 번에 3개의 유제품을 사지 않으면 할인 없이 정가를 지불\n",
    "# n팩의 유제품을 구입할 때, 최소비용을 지불할 수 있도록\n",
    "# 1: 유제품의 수 n, 2~: n개의 유제품 가격(100,000보다 작음)\n",
    "\n",
    "n = int(input())\n",
    "prices = sorted([int(input()) for _ in range(n)], reverse=True)\n",
    "package = []\n",
    "result = 0 \n",
    "\n",
    "for price in prices:\n",
    "    package.append(price)\n",
    "    if len(package) == 3:\n",
    "        print(package)\n",
    "        result += sum(package[:2])\n",
    "        package.clear()\n",
    "        \n",
    "result += sum(package)\n",
    "\n",
    "print(result)\n",
    "\n"
   ]
  }
 ],
 "metadata": {
  "kernelspec": {
   "display_name": "base",
   "language": "python",
   "name": "python3"
  },
  "language_info": {
   "codemirror_mode": {
    "name": "ipython",
    "version": 3
   },
   "file_extension": ".py",
   "mimetype": "text/x-python",
   "name": "python",
   "nbconvert_exporter": "python",
   "pygments_lexer": "ipython3",
   "version": "3.11.3"
  }
 },
 "nbformat": 4,
 "nbformat_minor": 2
}
