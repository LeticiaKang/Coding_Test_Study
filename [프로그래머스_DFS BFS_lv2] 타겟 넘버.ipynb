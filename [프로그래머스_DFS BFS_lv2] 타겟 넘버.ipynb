{
 "cells": [
  {
   "cell_type": "markdown",
   "metadata": {},
   "source": [
    "### 문제이름\n",
    "타겟 넘버\n",
    "\n",
    "### 링크\n",
    "https://school.programmers.co.kr/learn/courses/30/lessons/43165\n",
    "\n",
    "### 예시 코드\n",
    "numbers\t|target\t|return\n",
    "|---|---|\t---|\n",
    "[1, 1, 1, 1, 1]|\t3\t|5\n",
    "[4, 1, 2, 1]|\t4\t|2"
   ]
  },
  {
   "cell_type": "code",
   "execution_count": 58,
   "metadata": {},
   "outputs": [],
   "source": [
    "def solution(numbers, target):\n",
    "    answer = 0\n",
    "    # 시작점과 인덱스 지정\n",
    "    que = [[-1, 0]]\n",
    "    \n",
    "    # 노드별 경우의 수 더하기\n",
    "    while que: #비어있으면 멈춤\n",
    "        idx, value  = que.pop()\n",
    "        idx += 1\n",
    "\n",
    "        if idx == len(numbers):\n",
    "            if value == target:\n",
    "                answer += 1\n",
    "        else:\n",
    "            que.append([idx, value + numbers[idx]])\n",
    "            que.append([idx, value - numbers[idx]])\n",
    "        \n",
    "    return answer"
   ]
  },
  {
   "cell_type": "code",
   "execution_count": null,
   "metadata": {},
   "outputs": [],
   "source": [
    "from collections import deque\n",
    "def solution(numbers, target):\n",
    "    answer = 0\n",
    "    # 그래프 형식의 DFS와 DP가 결합된 문제이다. 시작 노드는 0\n",
    "    results = deque([0])\n",
    "    i = 0\n",
    "    while (i != (len(numbers))):\n",
    "        for _ in range(len(results)):\n",
    "            x = results.popleft()\n",
    "            results.append(x + numbers[i])\n",
    "            results.append(x - numbers[i])\n",
    "        i += 1\n",
    "    answer = results.count(target)\n",
    "    return answer"
   ]
  }
 ],
 "metadata": {
  "kernelspec": {
   "display_name": "base",
   "language": "python",
   "name": "base"
  },
  "language_info": {
   "codemirror_mode": {
    "name": "ipython",
    "version": 3
   },
   "file_extension": ".py",
   "mimetype": "text/x-python",
   "name": "python",
   "nbconvert_exporter": "python",
   "pygments_lexer": "ipython3",
   "version": "3.11.3"
  }
 },
 "nbformat": 4,
 "nbformat_minor": 2
}
